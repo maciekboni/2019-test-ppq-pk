{
 "cells": [
  {
   "cell_type": "markdown",
   "id": "82bccaf0",
   "metadata": {},
   "source": [
    "# PK Parameters in pkpd_artemether.cpp"
   ]
  },
  {
   "cell_type": "markdown",
   "id": "11dfffbe",
   "metadata": {},
   "source": [
    "<br>\n",
    "\n",
    "# Artemether parameter index\n",
    "\n",
    "`enum parameter_index_artemether { i_artemether_KTR, i_artemether_k20, i_artemether_F1_indiv, i_artemether_F1_thisdose, artemether_num_params };`"
   ]
  },
  {
   "cell_type": "markdown",
   "id": "e1d43f41",
   "metadata": {},
   "source": [
    "`i_artemether_F1_thisdose` - Set to 1.0 in intialize_parameters() function\n",
    "`i_artemether_F1_individual`"
   ]
  },
  {
   "cell_type": "markdown",
   "id": "1455a998",
   "metadata": {},
   "source": []
  }
 ],
 "metadata": {
  "kernelspec": {
   "display_name": "pkpd_AL_env",
   "language": "python",
   "name": "python3"
  },
  "language_info": {
   "name": "python",
   "version": "3.13.2"
  }
 },
 "nbformat": 4,
 "nbformat_minor": 5
}
