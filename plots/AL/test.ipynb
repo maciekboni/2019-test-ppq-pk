{
 "cells": [
  {
   "cell_type": "code",
   "execution_count": 1,
   "metadata": {},
   "outputs": [],
   "source": [
    "import subprocess\n",
    "import pandas as pd\n",
    "import numpy as np\n",
    "import matplotlib.pyplot as plt \n",
    "import seaborn as sns\n",
    "from timeit import default_timer as timer\n",
    "from matplotlib.ticker import MaxNLocator\n",
    "import pickle"
   ]
  },
  {
   "cell_type": "code",
   "execution_count": 14,
   "metadata": {},
   "outputs": [],
   "source": [
    "df_100_patients = pickle.load(open('df_100_patients_82.efficacy.py.obj', 'rb'))"
   ]
  },
  {
   "cell_type": "code",
   "execution_count": 3,
   "metadata": {},
   "outputs": [
    {
     "data": {
      "text/html": [
       "<div>\n",
       "<style scoped>\n",
       "    .dataframe tbody tr th:only-of-type {\n",
       "        vertical-align: middle;\n",
       "    }\n",
       "\n",
       "    .dataframe tbody tr th {\n",
       "        vertical-align: top;\n",
       "    }\n",
       "\n",
       "    .dataframe thead th {\n",
       "        text-align: right;\n",
       "    }\n",
       "</style>\n",
       "<table border=\"1\" class=\"dataframe\">\n",
       "  <thead>\n",
       "    <tr style=\"text-align: right;\">\n",
       "      <th></th>\n",
       "      <th>PID</th>\n",
       "      <th>HOUR</th>\n",
       "      <th>COMP2CONC_ART</th>\n",
       "      <th>COMP2CONC_LUM</th>\n",
       "      <th>PARASITEDENSITY</th>\n",
       "      <th>LOG_PARASITEDENSITY</th>\n",
       "    </tr>\n",
       "  </thead>\n",
       "  <tbody>\n",
       "    <tr>\n",
       "      <th>1</th>\n",
       "      <td>0</td>\n",
       "      <td>0.0</td>\n",
       "      <td>0.000</td>\n",
       "      <td>0.000</td>\n",
       "      <td>20000.000</td>\n",
       "      <td>4.301030</td>\n",
       "    </tr>\n",
       "    <tr>\n",
       "      <th>2</th>\n",
       "      <td>0</td>\n",
       "      <td>1.0</td>\n",
       "      <td>29.111</td>\n",
       "      <td>1178.721</td>\n",
       "      <td>10485.246</td>\n",
       "      <td>4.020579</td>\n",
       "    </tr>\n",
       "    <tr>\n",
       "      <th>3</th>\n",
       "      <td>0</td>\n",
       "      <td>2.0</td>\n",
       "      <td>23.824</td>\n",
       "      <td>2156.558</td>\n",
       "      <td>6241.440</td>\n",
       "      <td>3.795285</td>\n",
       "    </tr>\n",
       "    <tr>\n",
       "      <th>4</th>\n",
       "      <td>0</td>\n",
       "      <td>3.0</td>\n",
       "      <td>15.686</td>\n",
       "      <td>2962.004</td>\n",
       "      <td>4154.296</td>\n",
       "      <td>3.618497</td>\n",
       "    </tr>\n",
       "    <tr>\n",
       "      <th>5</th>\n",
       "      <td>0</td>\n",
       "      <td>4.0</td>\n",
       "      <td>10.322</td>\n",
       "      <td>3619.679</td>\n",
       "      <td>2936.261</td>\n",
       "      <td>3.467795</td>\n",
       "    </tr>\n",
       "    <tr>\n",
       "      <th>...</th>\n",
       "      <td>...</td>\n",
       "      <td>...</td>\n",
       "      <td>...</td>\n",
       "      <td>...</td>\n",
       "      <td>...</td>\n",
       "      <td>...</td>\n",
       "    </tr>\n",
       "    <tr>\n",
       "      <th>67196</th>\n",
       "      <td>99</td>\n",
       "      <td>667.0</td>\n",
       "      <td>-0.000</td>\n",
       "      <td>111.972</td>\n",
       "      <td>1.059</td>\n",
       "      <td>0.024900</td>\n",
       "    </tr>\n",
       "    <tr>\n",
       "      <th>67197</th>\n",
       "      <td>99</td>\n",
       "      <td>668.0</td>\n",
       "      <td>-0.000</td>\n",
       "      <td>111.485</td>\n",
       "      <td>1.074</td>\n",
       "      <td>0.031008</td>\n",
       "    </tr>\n",
       "    <tr>\n",
       "      <th>67198</th>\n",
       "      <td>99</td>\n",
       "      <td>669.0</td>\n",
       "      <td>-0.000</td>\n",
       "      <td>111.001</td>\n",
       "      <td>1.090</td>\n",
       "      <td>0.037430</td>\n",
       "    </tr>\n",
       "    <tr>\n",
       "      <th>67199</th>\n",
       "      <td>99</td>\n",
       "      <td>670.0</td>\n",
       "      <td>-0.000</td>\n",
       "      <td>110.518</td>\n",
       "      <td>1.105</td>\n",
       "      <td>0.043366</td>\n",
       "    </tr>\n",
       "    <tr>\n",
       "      <th>67200</th>\n",
       "      <td>99</td>\n",
       "      <td>671.0</td>\n",
       "      <td>-0.000</td>\n",
       "      <td>110.038</td>\n",
       "      <td>1.121</td>\n",
       "      <td>0.049609</td>\n",
       "    </tr>\n",
       "  </tbody>\n",
       "</table>\n",
       "<p>67200 rows × 6 columns</p>\n",
       "</div>"
      ],
      "text/plain": [
       "       PID   HOUR  COMP2CONC_ART  COMP2CONC_LUM  PARASITEDENSITY  \\\n",
       "1        0    0.0          0.000          0.000        20000.000   \n",
       "2        0    1.0         29.111       1178.721        10485.246   \n",
       "3        0    2.0         23.824       2156.558         6241.440   \n",
       "4        0    3.0         15.686       2962.004         4154.296   \n",
       "5        0    4.0         10.322       3619.679         2936.261   \n",
       "...    ...    ...            ...            ...              ...   \n",
       "67196   99  667.0         -0.000        111.972            1.059   \n",
       "67197   99  668.0         -0.000        111.485            1.074   \n",
       "67198   99  669.0         -0.000        111.001            1.090   \n",
       "67199   99  670.0         -0.000        110.518            1.105   \n",
       "67200   99  671.0         -0.000        110.038            1.121   \n",
       "\n",
       "       LOG_PARASITEDENSITY  \n",
       "1                 4.301030  \n",
       "2                 4.020579  \n",
       "3                 3.795285  \n",
       "4                 3.618497  \n",
       "5                 3.467795  \n",
       "...                    ...  \n",
       "67196             0.024900  \n",
       "67197             0.031008  \n",
       "67198             0.037430  \n",
       "67199             0.043366  \n",
       "67200             0.049609  \n",
       "\n",
       "[67200 rows x 6 columns]"
      ]
     },
     "execution_count": 3,
     "metadata": {},
     "output_type": "execute_result"
    }
   ],
   "source": [
    "test"
   ]
  },
  {
   "cell_type": "code",
   "execution_count": 15,
   "metadata": {},
   "outputs": [
    {
     "name": "stdout",
     "output_type": "stream",
     "text": [
      "[3, 5, 7, 11, 17, 18, 20, 22, 24, 40, 44, 47, 49, 56, 62, 63, 96, 97]\n"
     ]
    },
    {
     "data": {
      "text/plain": [
       "18"
      ]
     },
     "execution_count": 15,
     "metadata": {},
     "output_type": "execute_result"
    }
   ],
   "source": [
    "#Getting number of patients with treatment failure\n",
    "df_100_patients_day28_failed = df_100_patients[(df_100_patients['PARASITEDENSITY'] >= 10) & (df_100_patients['HOUR'] == 671.0)]\n",
    "df_100_patients_day28_failed_pids = df_100_patients_day28_failed['PID'].unique().tolist()\n",
    "df_100_patients_day28_failed_pids = np.array(df_100_patients_day28_failed_pids)\n",
    "print(df_100_patients_day28_failed['PID'].unique().tolist())\n",
    "len(df_100_patients_day28_failed['PID'].unique().tolist())\n"
   ]
  },
  {
   "cell_type": "code",
   "execution_count": null,
   "metadata": {},
   "outputs": [],
   "source": []
  }
 ],
 "metadata": {
  "kernelspec": {
   "display_name": ".conda",
   "language": "python",
   "name": "python3"
  },
  "language_info": {
   "codemirror_mode": {
    "name": "ipython",
    "version": 3
   },
   "file_extension": ".py",
   "mimetype": "text/x-python",
   "name": "python",
   "nbconvert_exporter": "python",
   "pygments_lexer": "ipython3",
   "version": "3.12.5"
  }
 },
 "nbformat": 4,
 "nbformat_minor": 2
}
