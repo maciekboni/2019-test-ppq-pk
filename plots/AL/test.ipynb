{
 "cells": [
  {
   "cell_type": "code",
   "execution_count": 1,
   "metadata": {},
   "outputs": [],
   "source": [
    "import subprocess\n",
    "import pandas as pd\n",
    "import numpy as np\n",
    "import matplotlib.pyplot as plt \n",
    "import seaborn as sns\n",
    "from timeit import default_timer as timer\n",
    "from matplotlib.ticker import MaxNLocator\n",
    "import pickle"
   ]
  },
  {
   "cell_type": "code",
   "execution_count": 5,
   "metadata": {},
   "outputs": [],
   "source": [
    "command_pmax_art_adj = [\n",
    "        \"/home/venitha_b/Projects/2019-test-ppq-pk/build/run_ppq_pk\",\n",
    "        \"--AL\",\n",
    "        \"-n\", \"1000\",\n",
    "        \"--pmax_art\", \"0.977\"\n",
    "    ]\n",
    "\n",
    "# Run the command and capture output\n",
    "output_pmax_art_adj = subprocess.run(command_pmax_art_adj, capture_output=True, text=True, check=True)\n",
    "\n",
    "# Process the output\n",
    "lines_pmax_art_adj = output_pmax_art_adj.stdout.splitlines()\n",
    "df_pmax_art_adj = pd.DataFrame([line.split(',') for line in lines_pmax_art_adj], columns=[\"PID\", \"HOUR\", \"COMP2CONC_ART\", \"COMP2CONC_LUM\", \"PARASITEDENSITY\"])\n",
    "        \n",
    "# Clean the DataFrame\n",
    "df_pmax_art_adj = df_pmax_art_adj.iloc[1:].apply(pd.to_numeric, errors='coerce')\n",
    "\n",
    "# Calculate the efficacy\n",
    "failed_treatment_count = df_pmax_art_adj[(df_pmax_art_adj['PARASITEDENSITY'] >= 10) & (df_pmax_art_adj['HOUR'] == 671.0)].shape[0]\n",
    "total_patients = df_pmax_art_adj['PID'].nunique()\n",
    "efficacy = (100 - ((failed_treatment_count / total_patients) * 100))"
   ]
  },
  {
   "cell_type": "code",
   "execution_count": 6,
   "metadata": {},
   "outputs": [
    {
     "data": {
      "text/plain": [
       "96.3"
      ]
     },
     "execution_count": 6,
     "metadata": {},
     "output_type": "execute_result"
    }
   ],
   "source": [
    "efficacy"
   ]
  },
  {
   "cell_type": "code",
   "execution_count": 4,
   "metadata": {},
   "outputs": [
    {
     "data": {
      "text/plain": [
       "42"
      ]
     },
     "execution_count": 4,
     "metadata": {},
     "output_type": "execute_result"
    }
   ],
   "source": [
    "failed_treatment_count"
   ]
  },
  {
   "cell_type": "code",
   "execution_count": null,
   "metadata": {},
   "outputs": [],
   "source": []
  }
 ],
 "metadata": {
  "kernelspec": {
   "display_name": ".conda",
   "language": "python",
   "name": "python3"
  },
  "language_info": {
   "codemirror_mode": {
    "name": "ipython",
    "version": 3
   },
   "file_extension": ".py",
   "mimetype": "text/x-python",
   "name": "python",
   "nbconvert_exporter": "python",
   "pygments_lexer": "ipython3",
   "version": "3.12.5"
  }
 },
 "nbformat": 4,
 "nbformat_minor": 2
}
