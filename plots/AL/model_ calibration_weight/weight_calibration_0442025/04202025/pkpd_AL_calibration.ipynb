{
 "cells": [
  {
   "cell_type": "code",
   "execution_count": 1,
   "id": "fbdc770a",
   "metadata": {},
   "outputs": [],
   "source": [
    "# Pasting these here for easier access\n",
    "\n",
    "import subprocess\n",
    "import pandas as pd\n",
    "import numpy as np\n",
    "import matplotlib.pyplot as plt \n",
    "import matplotlib.colors as mcolacors\n",
    "import pickle\n",
    "from tqdm import tqdm  # For progress bar\n",
    "from multiprocessing import Pool, cpu_count\n",
    "import os\n",
    "import sys\n",
    "import time\n",
    "import datetime "
   ]
  },
  {
   "cell_type": "markdown",
   "id": "2f84dece",
   "metadata": {},
   "source": [
    "# 04/17/2025"
   ]
  },
  {
   "cell_type": "markdown",
   "id": "1310c729",
   "metadata": {},
   "source": [
    "# Objective 1: Finding the pmax_artemether and ec50_lum values that give an efficacy of 96.5% (pfcrt K76 WT)\n",
    "\n",
    "<br>\n",
    "\n",
    "# Calibrating artemether in AL model to 69.5% by using the flag ```--AL --pmax_lum 0```"
   ]
  },
  {
   "cell_type": "code",
   "execution_count": 26,
   "id": "ef3a8ed0",
   "metadata": {},
   "outputs": [
    {
     "name": "stdout",
     "output_type": "stream",
     "text": [
      "[0.999999   0.99999901 0.99999902 0.99999903 0.99999904 0.99999905\n",
      " 0.99999905 0.99999906 0.99999907 0.99999908 0.99999909 0.9999991\n",
      " 0.99999911 0.99999912 0.99999913 0.99999914 0.99999915 0.99999915\n",
      " 0.99999916 0.99999917 0.99999918 0.99999919 0.9999992  0.99999921\n",
      " 0.99999922 0.99999923 0.99999924 0.99999925 0.99999925 0.99999926\n",
      " 0.99999927 0.99999928 0.99999929 0.9999993  0.99999931 0.99999932\n",
      " 0.99999933 0.99999934 0.99999935 0.99999935 0.99999936 0.99999937\n",
      " 0.99999938 0.99999939 0.9999994  0.99999941 0.99999942 0.99999943\n",
      " 0.99999944 0.99999945 0.99999945 0.99999946 0.99999947 0.99999948\n",
      " 0.99999949 0.9999995  0.99999951 0.99999952 0.99999953 0.99999954\n",
      " 0.99999955 0.99999955 0.99999956 0.99999957 0.99999958 0.99999959\n",
      " 0.9999996  0.99999961 0.99999962 0.99999963 0.99999964 0.99999965\n",
      " 0.99999965 0.99999966 0.99999967 0.99999968 0.99999969 0.9999997\n",
      " 0.99999971 0.99999972 0.99999973 0.99999974 0.99999975 0.99999975\n",
      " 0.99999976 0.99999977 0.99999978 0.99999979 0.9999998  0.99999981\n",
      " 0.99999982 0.99999983 0.99999984 0.99999985 0.99999985 0.99999986\n",
      " 0.99999987 0.99999988 0.99999989 0.9999999 ]\n"
     ]
    }
   ],
   "source": [
    "# Define the range for pmax_art\n",
    "min_pmax = 0.999999\n",
    "max_pmax = 0.9999999\n",
    "\n",
    "# Define pmax_art values\n",
    "pmax_values = np.linspace(min_pmax, max_pmax, 100)  # 50 values between 0.99997 and 0.8\n",
    "\n",
    "# Initialize a grid to store the clearance rates\n",
    "clearance_rates = np.zeros(len(pmax_values))\n",
    "\n",
    "print(pmax_values)"
   ]
  },
  {
   "cell_type": "code",
   "execution_count": 27,
   "id": "c231f653",
   "metadata": {},
   "outputs": [],
   "source": [
    "def run_simulation(idx, pmax):\n",
    "    command_pmax_artemether_adj = [\n",
    "        \"/home/venitha_b/Projects/2019-test-ppq-pk/build/run_ppq_pk\",\n",
    "        \"--AL\",\n",
    "        \"-n\", \"100\",\n",
    "        \"--pmax_artemether\", str(pmax),\n",
    "        \"--pmax_lum\", \"0\",\n",
    "        \"--weight\", \"54\",\n",
    "        \"-o\", \"1\"\n",
    "    ]\n",
    "\n",
    "    try:\n",
    "        # Run the command and capture output\n",
    "        output_pmax_artemether_adj = subprocess.run(command_pmax_artemether_adj, capture_output=True, text=True, check=True)\n",
    "\n",
    "        # Process the output\n",
    "        lines_pmax_artemether_adj = output_pmax_artemether_adj.stdout.splitlines()\n",
    "        df_pmax_artemether_adj = pd.DataFrame(\n",
    "            [line.split() for line in lines_pmax_artemether_adj],\n",
    "            columns=[\"PID\", \"HOUR\", \"COMP2CONC_ART\", \"COMP2CONC_LUM\", \"PARASITEDENSITY\"]\n",
    "        )\n",
    "\n",
    "        # Clean the DataFrame\n",
    "        df_pmax_artemether_adj = df_pmax_artemether_adj.iloc[1:].apply(pd.to_numeric, errors='coerce')\n",
    "\n",
    "        # Calculate the efficacy\n",
    "        failed_treatment_count = df_pmax_artemether_adj[df_pmax_artemether_adj['PARASITEDENSITY'] >= 10].shape[0]\n",
    "        total_patients = df_pmax_artemether_adj['PID'].nunique()\n",
    "        efficacy = (100 - ((failed_treatment_count / total_patients) * 100)) if total_patients > 0 else 0\n",
    "\n",
    "        return (idx, efficacy, df_pmax_artemether_adj)\n",
    "\n",
    "    except subprocess.CalledProcessError as e:\n",
    "        print(f\"Error in subprocess for pmax_artemether: {pmax}: {e}\")\n",
    "        return (idx, np.nan, None)  # Return 3 values: idx, NaN for efficacy, and None for DataFrame\n",
    "\n",
    "    except Exception as e:\n",
    "        print(f\"An unexpected error occurred for pmax_artemether: {pmax}: {e}\")\n",
    "        return (idx, np.nan, None)  # Return 3 values: idx, NaN for efficacy, and None for DataFrame"
   ]
  },
  {
   "cell_type": "code",
   "execution_count": 28,
   "id": "0d93d576",
   "metadata": {},
   "outputs": [
    {
     "name": "stderr",
     "output_type": "stream",
     "text": [
      "Running simulations: 100%|██████████| 100/100 [00:30<00:00,  3.31it/s]"
     ]
    },
    {
     "name": "stdout",
     "output_type": "stream",
     "text": [
      "DataFrame saved as pickle and CSV files successfully.\n"
     ]
    },
    {
     "name": "stderr",
     "output_type": "stream",
     "text": [
      "\n"
     ]
    }
   ],
   "source": [
    "# Define number of workers (use all available CPU cores)\n",
    "num_workers = cpu_count()\n",
    "\n",
    "# Prepare a list of parameters to pass to the pool\n",
    "params_list = [(i, pmax_values[i]) for i in range(len(pmax_values))]\n",
    "\n",
    "# Run simulations in parallel and track progress\n",
    "results = []\n",
    "dfs = []\n",
    "with Pool(processes=num_workers) as pool:\n",
    "    with tqdm(total=len(params_list), desc=\"Running simulations\") as pbar:\n",
    "        for result in pool.starmap(run_simulation, params_list):\n",
    "            idx, efficacy, df_pmax_artemether_adj = result\n",
    "            results.append((idx, efficacy, df_pmax_artemether_adj))\n",
    "            if df_pmax_artemether_adj is not None:\n",
    "                dfs.append(df_pmax_artemether_adj)\n",
    "            pbar.update(1)  # Update progress bar after each result\n",
    "\n",
    "# Update the clearance_rates array with the results\n",
    "for idx, efficacy, df_pmax_artemether_adj in results:\n",
    "    clearance_rates[idx] = efficacy\n",
    "\n",
    "# Create a DataFrame with pmax_values and clearance_rates\n",
    "df = pd.DataFrame({\n",
    "    'pmax_art': pmax_values,\n",
    "    'efficacy': clearance_rates\n",
    "})\n",
    "\n",
    "# Save the DataFrame to a pickle file\n",
    "df.to_pickle(\"test.pyobj\")\n",
    "\n",
    "# Save all individual DataFrames to a single pickle file\n",
    "df_all = pd.concat(dfs, ignore_index=True)\n",
    "df_all.to_pickle(\"test.pyobj\")\n",
    "\n",
    "# Save the efficacy DataFrame to a CSV file\n",
    "df.to_csv(\"test.csv\", index=False)\n",
    "\n",
    "print(\"DataFrame saved as pickle and CSV files successfully.\")"
   ]
  },
  {
   "cell_type": "code",
   "execution_count": 29,
   "id": "31fea0bf",
   "metadata": {},
   "outputs": [
    {
     "data": {
      "image/png": "[encoded data removed]",
      "text/plain": [
       "<Figure size 2500x1000 with 1 Axes>"
      ]
     },
     "metadata": {},
     "output_type": "display_data"
    }
   ],
   "source": [
    "plt.figure(figsize=(25, 10))  # Adjust the figure size as needed\n",
    "plt.plot(pmax_values, clearance_rates, marker='o', linestyle='-', color='b')\n",
    "plt.xlabel(f'pmax \\n Range: {min(pmax_values)} to {max(pmax_values)}')\n",
    "plt.ylabel('Efficacy (%)')\n",
    "plt.title(\"Day 28 Efficacy (threshold >= 10 parasites/μl) vs Simulated pmax values for Artemisnin \\n Treatment: AL, n = 10,000 patients\")\n",
    "plt.grid(True)\n",
    "plt.xticks(np.arange(min(pmax_values), max(pmax_values), 0.0000001))  # Adjust tick marks if necessary\n",
    "plt.yticks(np.arange(0, 101, 5))  # Y-axis ticks from 0 to 100%\n",
    "plt.axhline(y=0, color='k', linestyle='--')  # Optional: horizontal line at y=0\n",
    "plt.savefig(\"test.png\")  # Save the plot as a PNG file\n",
    "plt.show()"
   ]
  },
  {
   "cell_type": "code",
   "execution_count": 1,
   "id": "867c0787",
   "metadata": {},
   "outputs": [],
   "source": [
    "def run_simulation(idx, pmax):\n",
    "    command_pmax_artemether_adj = [\n",
    "        \"/home/venitha_b/Projects/2019-test-ppq-pk/build/run_ppq_pk\",\n",
    "        \"--AL\",\n",
    "        \"-n\", \"10000\",\n",
    "        \"--pmax_artemether\", str(pmax),\n",
    "        \"--pmax_lum\", \"0\",\n",
    "        \"--weight\", \"54\",\n",
    "        \"-o\", \"1\"\n",
    "    ]\n",
    "\n",
    "    try:\n",
    "        # Run the command and capture output\n",
    "        output_pmax_artemether_adj = subprocess.run(command_pmax_artemether_adj, capture_output=True, text=True, check=True)\n",
    "\n",
    "        # Process the output\n",
    "        lines_pmax_artemether_adj = output_pmax_artemether_adj.stdout.splitlines()\n",
    "        df_pmax_artemether_adj = pd.DataFrame(\n",
    "            [line.split() for line in lines_pmax_artemether_adj],\n",
    "            columns=[\"PID\", \"HOUR\", \"COMP2CONC_ART\", \"COMP2CONC_LUM\", \"PARASITEDENSITY\"]\n",
    "        )\n",
    "\n",
    "        # Clean the DataFrame\n",
    "        df_pmax_artemether_adj = df_pmax_artemether_adj.iloc[1:].apply(pd.to_numeric, errors='coerce')\n",
    "\n",
    "        # Calculate the efficacy\n",
    "        failed_treatment_count = df_pmax_artemether_adj[df_pmax_artemether_adj['PARASITEDENSITY'] >= 10].shape[0]\n",
    "        total_patients = df_pmax_artemether_adj['PID'].nunique()\n",
    "        efficacy = (100 - ((failed_treatment_count / total_patients) * 100)) if total_patients > 0 else 0\n",
    "\n",
    "        return (idx, efficacy, df_pmax_artemether_adj)\n",
    "\n",
    "    except subprocess.CalledProcessError as e:\n",
    "        print(f\"Error in subprocess for pmax_artemether: {pmax}: {e}\")\n",
    "        return (idx, np.nan, None)  # Return 3 values: idx, NaN for efficacy, and None for DataFrame\n",
    "\n",
    "    except Exception as e:\n",
    "        print(f\"An unexpected error occurred for pmax_artemether: {pmax}: {e}\")\n",
    "        return (idx, np.nan, None)  # Return 3 values: idx, NaN for efficacy, and None for DataFrame"
   ]
  },
  {
   "cell_type": "code",
   "execution_count": 16,
   "id": "2218c7b9",
   "metadata": {},
   "outputs": [
    {
     "name": "stderr",
     "output_type": "stream",
     "text": [
      "Running simulations: 100%|██████████| 100/100 [52:09<00:00, 31.30s/it]   "
     ]
    },
    {
     "name": "stdout",
     "output_type": "stream",
     "text": [
      "DataFrame saved as pickle and CSV files successfully.\n"
     ]
    },
    {
     "name": "stderr",
     "output_type": "stream",
     "text": [
      "\n"
     ]
    }
   ],
   "source": [
    "# Define number of workers (use all available CPU cores)\n",
    "num_workers = cpu_count()\n",
    "\n",
    "# Prepare a list of parameters to pass to the pool\n",
    "params_list = [(i, pmax_values[i]) for i in range(len(pmax_values))]\n",
    "\n",
    "# Run simulations in parallel and track progress\n",
    "results = []\n",
    "dfs = []\n",
    "with Pool(processes=num_workers) as pool:\n",
    "    with tqdm(total=len(params_list), desc=\"Running simulations\") as pbar:\n",
    "        for result in pool.starmap(run_simulation, params_list):\n",
    "            idx, efficacy, df_pmax_artemether_adj = result\n",
    "            results.append((idx, efficacy, df_pmax_artemether_adj))\n",
    "            if df_pmax_artemether_adj is not None:\n",
    "                dfs.append(df_pmax_artemether_adj)\n",
    "            pbar.update(1)  # Update progress bar after each result\n",
    "\n",
    "# Update the clearance_rates array with the results\n",
    "for idx, efficacy, df_pmax_artemether_adj in results:\n",
    "    clearance_rates[idx] = efficacy\n",
    "\n",
    "# Create a DataFrame with pmax_values and clearance_rates\n",
    "df = pd.DataFrame({\n",
    "    'pmax_art': pmax_values,\n",
    "    'efficacy': clearance_rates\n",
    "})\n",
    "\n",
    "# Save the DataFrame to a pickle file\n",
    "df.to_pickle(\"pkpd_AL_pmax_artemether_test_01_efficacy.pyobj\")\n",
    "\n",
    "# Save all individual DataFrames to a single pickle file\n",
    "df_all = pd.concat(dfs, ignore_index=True)\n",
    "df_all.to_pickle(\"pkpd_AL_pmax_art_test_01_results.pyobj\")\n",
    "\n",
    "# Save the efficacy DataFrame to a CSV file\n",
    "df.to_csv(\"pkpd_AL_pmax_art_test_01_efficacy.csv\", index=False)\n",
    "\n",
    "print(\"DataFrame saved as pickle and CSV files successfully.\")"
   ]
  },
  {
   "cell_type": "code",
   "execution_count": 17,
   "id": "ffcdaca9",
   "metadata": {},
   "outputs": [
    {
     "data": {
      "application/vnd.microsoft.datawrangler.viewer.v0+json": {
       "columns": [
        {
         "name": "index",
         "rawType": "int64",
         "type": "integer"
        },
        {
         "name": "PID",
         "rawType": "int64",
         "type": "integer"
        },
        {
         "name": "HOUR",
         "rawType": "float64",
         "type": "float"
        },
        {
         "name": "COMP2CONC_ART",
         "rawType": "float64",
         "type": "float"
        },
        {
         "name": "COMP2CONC_LUM",
         "rawType": "float64",
         "type": "float"
        },
        {
         "name": "PARASITEDENSITY",
         "rawType": "float64",
         "type": "float"
        }
       ],
       "conversionMethod": "pd.DataFrame",
       "ref": "df81095b-4574-4fa6-a0f0-c3de237597f6",
       "rows": [
        [
         "1",
         "0",
         "671.0",
         "0.0",
         "0.0",
         "457.81"
        ],
        [
         "2",
         "1",
         "671.0",
         "0.0",
         "0.0",
         "0.333"
        ],
        [
         "3",
         "2",
         "671.0",
         "0.0",
         "0.0",
         "0.0"
        ],
        [
         "4",
         "3",
         "671.0",
         "0.0",
         "0.0",
         "58.748"
        ],
        [
         "5",
         "4",
         "671.0",
         "0.0",
         "0.0",
         "0.012"
        ],
        [
         "6",
         "5",
         "671.0",
         "0.0",
         "0.0",
         "0.018"
        ],
        [
         "7",
         "6",
         "671.0",
         "0.0",
         "0.0",
         "0.019"
        ],
        [
         "8",
         "7",
         "671.0",
         "0.0",
         "0.0",
         "0.001"
        ],
        [
         "9",
         "8",
         "671.0",
         "0.0",
         "0.0",
         "0.0"
        ],
        [
         "10",
         "9",
         "671.0",
         "0.0",
         "0.0",
         "0.0"
        ],
        [
         "11",
         "10",
         "671.0",
         "0.0",
         "0.0",
         "0.641"
        ],
        [
         "12",
         "11",
         "671.0",
         "0.0",
         "0.0",
         "0.001"
        ],
        [
         "13",
         "12",
         "671.0",
         "0.0",
         "0.0",
         "0.099"
        ],
        [
         "14",
         "13",
         "671.0",
         "0.0",
         "0.0",
         "0.393"
        ],
        [
         "15",
         "14",
         "671.0",
         "-0.0",
         "0.0",
         "0.011"
        ],
        [
         "16",
         "15",
         "671.0",
         "0.0",
         "0.0",
         "0.003"
        ],
        [
         "17",
         "16",
         "671.0",
         "-0.0",
         "0.0",
         "0.007"
        ],
        [
         "18",
         "17",
         "671.0",
         "-0.0",
         "0.0",
         "2.301"
        ],
        [
         "19",
         "18",
         "671.0",
         "0.0",
         "0.0",
         "0.003"
        ],
        [
         "20",
         "19",
         "671.0",
         "0.0",
         "0.0",
         "20.175"
        ],
        [
         "21",
         "20",
         "671.0",
         "0.0",
         "0.0",
         "0.253"
        ],
        [
         "22",
         "21",
         "671.0",
         "0.0",
         "0.0",
         "0.0"
        ],
        [
         "23",
         "22",
         "671.0",
         "0.0",
         "0.0",
         "0.0"
        ],
        [
         "24",
         "23",
         "671.0",
         "0.0",
         "0.0",
         "0.0"
        ],
        [
         "25",
         "24",
         "671.0",
         "-0.0",
         "0.0",
         "0.757"
        ],
        [
         "26",
         "25",
         "671.0",
         "0.0",
         "0.0",
         "0.0"
        ],
        [
         "27",
         "26",
         "671.0",
         "0.0",
         "0.0",
         "0.017"
        ],
        [
         "28",
         "27",
         "671.0",
         "0.0",
         "0.0",
         "0.001"
        ],
        [
         "29",
         "28",
         "671.0",
         "0.0",
         "0.0",
         "0.0"
        ],
        [
         "30",
         "29",
         "671.0",
         "0.0",
         "0.0",
         "0.012"
        ],
        [
         "31",
         "30",
         "671.0",
         "0.0",
         "0.0",
         "20.118"
        ],
        [
         "32",
         "31",
         "671.0",
         "0.0",
         "0.0",
         "0.0"
        ],
        [
         "33",
         "32",
         "671.0",
         "0.0",
         "0.0",
         "0.001"
        ],
        [
         "34",
         "33",
         "671.0",
         "0.0",
         "0.0",
         "0.009"
        ],
        [
         "35",
         "34",
         "671.0",
         "0.0",
         "0.0",
         "0.004"
        ],
        [
         "36",
         "35",
         "671.0",
         "-0.0",
         "0.0",
         "658.505"
        ],
        [
         "37",
         "36",
         "671.0",
         "0.0",
         "0.0",
         "0.486"
        ],
        [
         "38",
         "37",
         "671.0",
         "0.0",
         "0.0",
         "0.008"
        ],
        [
         "39",
         "38",
         "671.0",
         "0.0",
         "0.0",
         "1526.001"
        ],
        [
         "40",
         "39",
         "671.0",
         "-0.0",
         "0.0",
         "0.001"
        ],
        [
         "41",
         "40",
         "671.0",
         "-0.0",
         "0.0",
         "0.122"
        ],
        [
         "42",
         "41",
         "671.0",
         "0.0",
         "0.0",
         "28.217"
        ],
        [
         "43",
         "42",
         "671.0",
         "0.0",
         "0.0",
         "0.0"
        ],
        [
         "44",
         "43",
         "671.0",
         "0.0",
         "0.0",
         "0.239"
        ],
        [
         "45",
         "44",
         "671.0",
         "-0.0",
         "0.0",
         "0.007"
        ],
        [
         "46",
         "45",
         "671.0",
         "0.0",
         "0.0",
         "0.0"
        ],
        [
         "47",
         "46",
         "671.0",
         "0.0",
         "0.0",
         "0.0"
        ],
        [
         "48",
         "47",
         "671.0",
         "0.0",
         "0.0",
         "0.059"
        ],
        [
         "49",
         "48",
         "671.0",
         "0.0",
         "0.0",
         "2.574"
        ],
        [
         "50",
         "49",
         "671.0",
         "0.0",
         "0.0",
         "0.001"
        ]
       ],
       "shape": {
        "columns": 5,
        "rows": 10000
       }
      },
      "text/html": [
       "<div>\n",
       "<style scoped>\n",
       "    .dataframe tbody tr th:only-of-type {\n",
       "        vertical-align: middle;\n",
       "    }\n",
       "\n",
       "    .dataframe tbody tr th {\n",
       "        vertical-align: top;\n",
       "    }\n",
       "\n",
       "    .dataframe thead th {\n",
       "        text-align: right;\n",
       "    }\n",
       "</style>\n",
       "<table border=\"1\" class=\"dataframe\">\n",
       "  <thead>\n",
       "    <tr style=\"text-align: right;\">\n",
       "      <th></th>\n",
       "      <th>PID</th>\n",
       "      <th>HOUR</th>\n",
       "      <th>COMP2CONC_ART</th>\n",
       "      <th>COMP2CONC_LUM</th>\n",
       "      <th>PARASITEDENSITY</th>\n",
       "    </tr>\n",
       "  </thead>\n",
       "  <tbody>\n",
       "    <tr>\n",
       "      <th>1</th>\n",
       "      <td>0</td>\n",
       "      <td>671.0</td>\n",
       "      <td>0.0</td>\n",
       "      <td>0.0</td>\n",
       "      <td>457.810</td>\n",
       "    </tr>\n",
       "    <tr>\n",
       "      <th>2</th>\n",
       "      <td>1</td>\n",
       "      <td>671.0</td>\n",
       "      <td>0.0</td>\n",
       "      <td>0.0</td>\n",
       "      <td>0.333</td>\n",
       "    </tr>\n",
       "    <tr>\n",
       "      <th>3</th>\n",
       "      <td>2</td>\n",
       "      <td>671.0</td>\n",
       "      <td>0.0</td>\n",
       "      <td>0.0</td>\n",
       "      <td>0.000</td>\n",
       "    </tr>\n",
       "    <tr>\n",
       "      <th>4</th>\n",
       "      <td>3</td>\n",
       "      <td>671.0</td>\n",
       "      <td>0.0</td>\n",
       "      <td>0.0</td>\n",
       "      <td>58.748</td>\n",
       "    </tr>\n",
       "    <tr>\n",
       "      <th>5</th>\n",
       "      <td>4</td>\n",
       "      <td>671.0</td>\n",
       "      <td>0.0</td>\n",
       "      <td>0.0</td>\n",
       "      <td>0.012</td>\n",
       "    </tr>\n",
       "    <tr>\n",
       "      <th>...</th>\n",
       "      <td>...</td>\n",
       "      <td>...</td>\n",
       "      <td>...</td>\n",
       "      <td>...</td>\n",
       "      <td>...</td>\n",
       "    </tr>\n",
       "    <tr>\n",
       "      <th>9996</th>\n",
       "      <td>9995</td>\n",
       "      <td>671.0</td>\n",
       "      <td>0.0</td>\n",
       "      <td>0.0</td>\n",
       "      <td>0.001</td>\n",
       "    </tr>\n",
       "    <tr>\n",
       "      <th>9997</th>\n",
       "      <td>9996</td>\n",
       "      <td>671.0</td>\n",
       "      <td>0.0</td>\n",
       "      <td>0.0</td>\n",
       "      <td>0.002</td>\n",
       "    </tr>\n",
       "    <tr>\n",
       "      <th>9998</th>\n",
       "      <td>9997</td>\n",
       "      <td>671.0</td>\n",
       "      <td>-0.0</td>\n",
       "      <td>0.0</td>\n",
       "      <td>3411.436</td>\n",
       "    </tr>\n",
       "    <tr>\n",
       "      <th>9999</th>\n",
       "      <td>9998</td>\n",
       "      <td>671.0</td>\n",
       "      <td>0.0</td>\n",
       "      <td>0.0</td>\n",
       "      <td>0.001</td>\n",
       "    </tr>\n",
       "    <tr>\n",
       "      <th>10000</th>\n",
       "      <td>9999</td>\n",
       "      <td>671.0</td>\n",
       "      <td>0.0</td>\n",
       "      <td>0.0</td>\n",
       "      <td>0.365</td>\n",
       "    </tr>\n",
       "  </tbody>\n",
       "</table>\n",
       "<p>10000 rows × 5 columns</p>\n",
       "</div>"
      ],
      "text/plain": [
       "        PID   HOUR  COMP2CONC_ART  COMP2CONC_LUM  PARASITEDENSITY\n",
       "1         0  671.0            0.0            0.0          457.810\n",
       "2         1  671.0            0.0            0.0            0.333\n",
       "3         2  671.0            0.0            0.0            0.000\n",
       "4         3  671.0            0.0            0.0           58.748\n",
       "5         4  671.0            0.0            0.0            0.012\n",
       "...     ...    ...            ...            ...              ...\n",
       "9996   9995  671.0            0.0            0.0            0.001\n",
       "9997   9996  671.0            0.0            0.0            0.002\n",
       "9998   9997  671.0           -0.0            0.0         3411.436\n",
       "9999   9998  671.0            0.0            0.0            0.001\n",
       "10000  9999  671.0            0.0            0.0            0.365\n",
       "\n",
       "[10000 rows x 5 columns]"
      ]
     },
     "execution_count": 17,
     "metadata": {},
     "output_type": "execute_result"
    }
   ],
   "source": [
    "df_pmax_artemether_adj "
   ]
  },
  {
   "cell_type": "code",
   "execution_count": 28,
   "id": "055aa014",
   "metadata": {},
   "outputs": [
    {
     "data": {
      "image/png": "[encoded data removed]",
      "text/plain": [
       "<Figure size 2500x1000 with 1 Axes>"
      ]
     },
     "metadata": {},
     "output_type": "display_data"
    }
   ],
   "source": [
    "plt.figure(figsize=(25, 10))  # Adjust the figure size as needed\n",
    "plt.plot(pmax_values, clearance_rates, marker='o', linestyle='-', color='b')\n",
    "plt.xlabel(f'pmax \\n Range: {min(pmax_values)} to {max(pmax_values)}')\n",
    "plt.ylabel('Efficacy (%)')\n",
    "plt.title(\"Day 28 Efficacy (threshold >= 10 parasites/μl) vs Simulated pmax values for Artemisnin \\n Treatment: AL, n = 10,000 patients\")\n",
    "plt.grid(True)\n",
    "plt.xticks(np.arange(min(pmax_values), max(pmax_values), 0.0000001))  # Adjust tick marks if necessary\n",
    "plt.yticks(np.arange(0, 101, 5))  # Y-axis ticks from 0 to 100%\n",
    "plt.axhline(y=0, color='k', linestyle='--')  # Optional: horizontal line at y=0\n",
    "plt.savefig(\"pkpd_AL_pmax_art_test_01_efficacy.png\")  # Save the plot as a PNG file\n",
    "plt.show()"
   ]
  },
  {
   "cell_type": "code",
   "execution_count": 29,
   "id": "a9c2ff19",
   "metadata": {},
   "outputs": [
    {
     "data": {
      "application/vnd.microsoft.datawrangler.viewer.v0+json": {
       "columns": [
        {
         "name": "index",
         "rawType": "int64",
         "type": "integer"
        },
        {
         "name": "pmax_art",
         "rawType": "float64",
         "type": "float"
        },
        {
         "name": "efficacy",
         "rawType": "float64",
         "type": "float"
        }
       ],
       "conversionMethod": "pd.DataFrame",
       "ref": "5e8b70fc-bf1c-4777-b666-aefdf8f189e1",
       "rows": [
        [
         "41",
         "0.9999993727272727",
         "68.13"
        ],
        [
         "43",
         "0.999999390909091",
         "68.88"
        ],
        [
         "44",
         "0.9999994",
         "68.69"
        ],
        [
         "46",
         "0.9999994181818181",
         "68.5"
        ],
        [
         "47",
         "0.9999994272727273",
         "68.9"
        ],
        [
         "49",
         "0.9999994454545454",
         "68.96000000000001"
        ]
       ],
       "shape": {
        "columns": 2,
        "rows": 6
       }
      },
      "text/html": [
       "<div>\n",
       "<style scoped>\n",
       "    .dataframe tbody tr th:only-of-type {\n",
       "        vertical-align: middle;\n",
       "    }\n",
       "\n",
       "    .dataframe tbody tr th {\n",
       "        vertical-align: top;\n",
       "    }\n",
       "\n",
       "    .dataframe thead th {\n",
       "        text-align: right;\n",
       "    }\n",
       "</style>\n",
       "<table border=\"1\" class=\"dataframe\">\n",
       "  <thead>\n",
       "    <tr style=\"text-align: right;\">\n",
       "      <th></th>\n",
       "      <th>pmax_art</th>\n",
       "      <th>efficacy</th>\n",
       "    </tr>\n",
       "  </thead>\n",
       "  <tbody>\n",
       "    <tr>\n",
       "      <th>41</th>\n",
       "      <td>0.999999</td>\n",
       "      <td>68.13</td>\n",
       "    </tr>\n",
       "    <tr>\n",
       "      <th>43</th>\n",
       "      <td>0.999999</td>\n",
       "      <td>68.88</td>\n",
       "    </tr>\n",
       "    <tr>\n",
       "      <th>44</th>\n",
       "      <td>0.999999</td>\n",
       "      <td>68.69</td>\n",
       "    </tr>\n",
       "    <tr>\n",
       "      <th>46</th>\n",
       "      <td>0.999999</td>\n",
       "      <td>68.50</td>\n",
       "    </tr>\n",
       "    <tr>\n",
       "      <th>47</th>\n",
       "      <td>0.999999</td>\n",
       "      <td>68.90</td>\n",
       "    </tr>\n",
       "    <tr>\n",
       "      <th>49</th>\n",
       "      <td>0.999999</td>\n",
       "      <td>68.96</td>\n",
       "    </tr>\n",
       "  </tbody>\n",
       "</table>\n",
       "</div>"
      ],
      "text/plain": [
       "    pmax_art  efficacy\n",
       "41  0.999999     68.13\n",
       "43  0.999999     68.88\n",
       "44  0.999999     68.69\n",
       "46  0.999999     68.50\n",
       "47  0.999999     68.90\n",
       "49  0.999999     68.96"
      ]
     },
     "execution_count": 29,
     "metadata": {},
     "output_type": "execute_result"
    }
   ],
   "source": [
    "df[(df['efficacy'] > 68) & (df['efficacy'] <= 69)]"
   ]
  },
  {
   "cell_type": "markdown",
   "id": "20aee158",
   "metadata": {},
   "source": [
    "# Calibration successful. \n",
    "# pmax_artemether at which AL model with ```pmax_lum = 0``` : 0.9999994\n",
    "\n",
    "<br>\n",
    "\n",
    "\n"
   ]
  },
  {
   "cell_type": "markdown",
   "id": "53bf27e7",
   "metadata": {},
   "source": [
    "<br>"
   ]
  },
  {
   "cell_type": "markdown",
   "id": "06f98e5c",
   "metadata": {},
   "source": [
    "<br>\n",
    "\n",
    "# Now calibrating AL model to efficacy 96.5% (pfcrt K76 WT) by adjusting ec50_lum"
   ]
  },
  {
   "cell_type": "code",
   "execution_count": 9,
   "id": "73aea7d5",
   "metadata": {},
   "outputs": [
    {
     "name": "stdout",
     "output_type": "stream",
     "text": [
      "[  1.   2.   3.   4.   5.   6.   7.   8.   9.  10.  11.  12.  13.  14.\n",
      "  15.  16.  17.  18.  19.  20.  21.  22.  23.  24.  25.  26.  27.  28.\n",
      "  29.  30.  31.  32.  33.  34.  35.  36.  37.  38.  39.  40.  41.  42.\n",
      "  43.  44.  45.  46.  47.  48.  49.  50.  51.  52.  53.  54.  55.  56.\n",
      "  57.  58.  59.  60.  61.  62.  63.  64.  65.  66.  67.  68.  69.  70.\n",
      "  71.  72.  73.  74.  75.  76.  77.  78.  79.  80.  81.  82.  83.  84.\n",
      "  85.  86.  87.  88.  89.  90.  91.  92.  93.  94.  95.  96.  97.  98.\n",
      "  99. 100.]\n"
     ]
    }
   ],
   "source": [
    "# Define the range for pmax_art\n",
    "min_ec50 = 1\n",
    "max_ec50 = 100\n",
    "\n",
    "# Define pmax_art values\n",
    "ec50_values = np.linspace(min_ec50, max_ec50, 100)  # 50 values between 0.99997 and 0.8\n",
    "\n",
    "# Initialize a grid to store the clearance rates\n",
    "clearance_rates = np.zeros(len(ec50_values))\n",
    "\n",
    "print(ec50_values)"
   ]
  },
  {
   "cell_type": "code",
   "execution_count": 10,
   "id": "086bfa99",
   "metadata": {},
   "outputs": [],
   "source": [
    "def run_simulation(idx, ec50):\n",
    "    command_ec50_lum_adj = [\n",
    "        \"/home/venitha_b/Projects/2019-test-ppq-pk/build/run_ppq_pk\",\n",
    "        \"--AL\",\n",
    "        \"-n\", \"10000\",\n",
    "        \"--pmax_artemether\",\"0.9999994\",\n",
    "        \"--ec50_lum\", str(ec50),\n",
    "        \"--weight\", \"54\",\n",
    "        \"-o\", \"1\"\n",
    "    ]\n",
    "\n",
    "    try:\n",
    "        # Run the command and capture output\n",
    "        output_ec50_lum_adj = subprocess.run(command_ec50_lum_adj, capture_output=True, text=True, check=True)\n",
    "\n",
    "        # Process the output\n",
    "        lines_ec50_lum_adj = output_ec50_lum_adj.stdout.splitlines()\n",
    "        df_ec50_lum_adj = pd.DataFrame(\n",
    "            [line.split() for line in lines_ec50_lum_adj],\n",
    "            columns=[\"PID\", \"HOUR\", \"COMP2CONC_ART\", \"COMP2CONC_LUM\", \"PARASITEDENSITY\"]\n",
    "        )\n",
    "\n",
    "        # Clean the DataFrame\n",
    "        df_ec50_lum_adj = df_ec50_lum_adj.iloc[1:].apply(pd.to_numeric, errors='coerce')\n",
    "\n",
    "        # Calculate the efficacy\n",
    "        failed_treatment_count = df_ec50_lum_adj[df_ec50_lum_adj['PARASITEDENSITY'] >= 10].shape[0]\n",
    "        total_patients = df_ec50_lum_adj['PID'].nunique()\n",
    "        efficacy = (100 - ((failed_treatment_count / total_patients) * 100)) if total_patients > 0 else 0\n",
    "\n",
    "        return (idx, efficacy, df_ec50_lum_adj)\n",
    "\n",
    "    except subprocess.CalledProcessError as e:\n",
    "        print(f\"Error in subprocess for ec50_lum: {ec50}: {e}\")\n",
    "        return (idx, np.nan, None)  # Return 3 values: idx, NaN for efficacy, and None for DataFrame\n",
    "\n",
    "    except Exception as e:\n",
    "        print(f\"An unexpected error occurred for ec50_lum: {ec50}: {e}\")\n",
    "        return (idx, np.nan, None)  # Return 3 values: idx, NaN for efficacy, and None for DataFrame"
   ]
  },
  {
   "cell_type": "code",
   "execution_count": 11,
   "id": "37bf9144",
   "metadata": {},
   "outputs": [
    {
     "name": "stderr",
     "output_type": "stream",
     "text": [
      "Running simulations: 100%|██████████| 100/100 [1:19:38<00:00, 47.79s/it]    "
     ]
    },
    {
     "name": "stdout",
     "output_type": "stream",
     "text": [
      "DataFrame saved as pickle and CSV files successfully.\n"
     ]
    },
    {
     "name": "stderr",
     "output_type": "stream",
     "text": [
      "\n"
     ]
    }
   ],
   "source": [
    "# Define number of workers (use all available CPU cores)\n",
    "num_workers = cpu_count()\n",
    "\n",
    "# Prepare a list of parameters to pass to the pool\n",
    "params_list = [(i, ec50_values[i]) for i in range(len(ec50_values))]\n",
    "\n",
    "# Run simulations in parallel and track progress\n",
    "results = []\n",
    "dfs = []\n",
    "with Pool(processes=num_workers) as pool:\n",
    "    with tqdm(total=len(params_list), desc=\"Running simulations\") as pbar:\n",
    "        for result in pool.starmap(run_simulation, params_list):\n",
    "            idx, efficacy, df_ec50_lum_adj = result\n",
    "            results.append((idx, efficacy, df_ec50_lum_adj))\n",
    "            if df_ec50_lum_adj is not None:\n",
    "                dfs.append(df_ec50_lum_adj)\n",
    "            pbar.update(1)  # Update progress bar after each result\n",
    "\n",
    "# Update the clearance_rates array with the results\n",
    "for idx, efficacy, df_ec50_lum_adj in results:\n",
    "    clearance_rates[idx] = efficacy\n",
    "\n",
    "# Create a DataFrame with pmax_values and clearance_rates\n",
    "df = pd.DataFrame({\n",
    "    'ec50_lum': ec50_values,\n",
    "    'efficacy': clearance_rates\n",
    "})\n",
    "\n",
    "# Save the DataFrame to a pickle file\n",
    "df.to_pickle(\"pkpd_AL_ec50_lum_test_01_efficacy.pyobj\")\n",
    "\n",
    "# Save all individual DataFrames to a single pickle file\n",
    "df_all = pd.concat(dfs, ignore_index=True)\n",
    "df_all.to_pickle(\"pkpd_AL_ec50_lum_test_01_results.pyobj\")\n",
    "\n",
    "# Save the efficacy DataFrame to a CSV file\n",
    "df.to_csv(\"pkpd_AL_ec50_lum_test_01_efficacy.csv\", index=False)\n",
    "\n",
    "print(\"DataFrame saved as pickle and CSV files successfully.\")"
   ]
  },
  {
   "cell_type": "code",
   "execution_count": 13,
   "id": "108e7d08",
   "metadata": {},
   "outputs": [
    {
     "data": {
      "image/png": "[encoded data removed]",
      "text/plain": [
       "<Figure size 2500x1000 with 1 Axes>"
      ]
     },
     "metadata": {},
     "output_type": "display_data"
    }
   ],
   "source": [
    "plt.figure(figsize=(25, 10))  # Adjust the figure size as needed\n",
    "plt.plot(ec50_values, clearance_rates, marker='o', linestyle='-', color='b')\n",
    "plt.xlabel(f'ec50 \\n Range: {min(ec50_values)} to {max(ec50_values)}')\n",
    "plt.ylabel('Efficacy (%)')\n",
    "plt.title(\"Day 28 Efficacy (threshold >= 10 parasites/μl) vs Simulated ec50 values for Lumefantrine \\n Treatment: AL, n = 10000 patients, weight = 54 Kg\")\n",
    "plt.grid(True)\n",
    "plt.xticks(np.arange(min(ec50_values), max(ec50_values), 1))  # Adjust tick marks if necessary\n",
    "plt.yticks(np.arange(0, 101, 5))  # Y-axis ticks from 0 to 100%\n",
    "plt.axhline(y=0, color='k', linestyle='--')  # Optional: horizontal line at y=0\n",
    "plt.savefig(\"pkpd_AL_ec50_lum_test_01_efficacy.png\")  # Save the plot as a PNG file\n",
    "plt.show()"
   ]
  },
  {
   "cell_type": "code",
   "execution_count": 14,
   "id": "fc3863e5",
   "metadata": {},
   "outputs": [
    {
     "data": {
      "application/vnd.microsoft.datawrangler.viewer.v0+json": {
       "columns": [
        {
         "name": "index",
         "rawType": "int64",
         "type": "integer"
        },
        {
         "name": "ec50_lum",
         "rawType": "float64",
         "type": "float"
        },
        {
         "name": "efficacy",
         "rawType": "float64",
         "type": "float"
        }
       ],
       "conversionMethod": "pd.DataFrame",
       "ref": "e484e56a-2a7c-4a35-9053-3f477acbfc48",
       "rows": [
        [
         "57",
         "58.0",
         "96.86"
        ],
        [
         "59",
         "60.0",
         "96.61"
        ],
        [
         "60",
         "61.0",
         "96.67"
        ],
        [
         "61",
         "62.0",
         "96.81"
        ],
        [
         "62",
         "63.0",
         "96.71"
        ],
        [
         "63",
         "64.0",
         "96.63"
        ],
        [
         "64",
         "65.0",
         "96.21"
        ],
        [
         "65",
         "66.0",
         "96.5"
        ],
        [
         "67",
         "68.0",
         "96.02"
        ],
        [
         "69",
         "70.0",
         "96.23"
        ],
        [
         "72",
         "73.0",
         "96.04"
        ]
       ],
       "shape": {
        "columns": 2,
        "rows": 11
       }
      },
      "text/html": [
       "<div>\n",
       "<style scoped>\n",
       "    .dataframe tbody tr th:only-of-type {\n",
       "        vertical-align: middle;\n",
       "    }\n",
       "\n",
       "    .dataframe tbody tr th {\n",
       "        vertical-align: top;\n",
       "    }\n",
       "\n",
       "    .dataframe thead th {\n",
       "        text-align: right;\n",
       "    }\n",
       "</style>\n",
       "<table border=\"1\" class=\"dataframe\">\n",
       "  <thead>\n",
       "    <tr style=\"text-align: right;\">\n",
       "      <th></th>\n",
       "      <th>ec50_lum</th>\n",
       "      <th>efficacy</th>\n",
       "    </tr>\n",
       "  </thead>\n",
       "  <tbody>\n",
       "    <tr>\n",
       "      <th>57</th>\n",
       "      <td>58.0</td>\n",
       "      <td>96.86</td>\n",
       "    </tr>\n",
       "    <tr>\n",
       "      <th>59</th>\n",
       "      <td>60.0</td>\n",
       "      <td>96.61</td>\n",
       "    </tr>\n",
       "    <tr>\n",
       "      <th>60</th>\n",
       "      <td>61.0</td>\n",
       "      <td>96.67</td>\n",
       "    </tr>\n",
       "    <tr>\n",
       "      <th>61</th>\n",
       "      <td>62.0</td>\n",
       "      <td>96.81</td>\n",
       "    </tr>\n",
       "    <tr>\n",
       "      <th>62</th>\n",
       "      <td>63.0</td>\n",
       "      <td>96.71</td>\n",
       "    </tr>\n",
       "    <tr>\n",
       "      <th>63</th>\n",
       "      <td>64.0</td>\n",
       "      <td>96.63</td>\n",
       "    </tr>\n",
       "    <tr>\n",
       "      <th>64</th>\n",
       "      <td>65.0</td>\n",
       "      <td>96.21</td>\n",
       "    </tr>\n",
       "    <tr>\n",
       "      <th>65</th>\n",
       "      <td>66.0</td>\n",
       "      <td>96.50</td>\n",
       "    </tr>\n",
       "    <tr>\n",
       "      <th>67</th>\n",
       "      <td>68.0</td>\n",
       "      <td>96.02</td>\n",
       "    </tr>\n",
       "    <tr>\n",
       "      <th>69</th>\n",
       "      <td>70.0</td>\n",
       "      <td>96.23</td>\n",
       "    </tr>\n",
       "    <tr>\n",
       "      <th>72</th>\n",
       "      <td>73.0</td>\n",
       "      <td>96.04</td>\n",
       "    </tr>\n",
       "  </tbody>\n",
       "</table>\n",
       "</div>"
      ],
      "text/plain": [
       "    ec50_lum  efficacy\n",
       "57      58.0     96.86\n",
       "59      60.0     96.61\n",
       "60      61.0     96.67\n",
       "61      62.0     96.81\n",
       "62      63.0     96.71\n",
       "63      64.0     96.63\n",
       "64      65.0     96.21\n",
       "65      66.0     96.50\n",
       "67      68.0     96.02\n",
       "69      70.0     96.23\n",
       "72      73.0     96.04"
      ]
     },
     "execution_count": 14,
     "metadata": {},
     "output_type": "execute_result"
    }
   ],
   "source": [
    "df[(df['efficacy'] >= 96) & (df['efficacy'] <= 97)]"
   ]
  },
  {
   "cell_type": "markdown",
   "id": "0eb6ad79",
   "metadata": {},
   "source": [
    "# Calibration successful. \n",
    "# Parameters at which PKPD AL model gives efficacy of 96.5%: \n",
    "# pmax_artemether = 0.9999994\n",
    "# ec50_lum = 66\n",
    "\n",
    "---\n",
    "\n",
    "# Objective 1: Complete."
   ]
  },
  {
   "cell_type": "markdown",
   "id": "278d3aa3",
   "metadata": {},
   "source": [
    "<br>\n",
    "\n",
    "---\n",
    "\n",
    "<br>\n",
    "\n",
    "# Objective 2: Checking if the pkpd model gives an efficacy of 96.5% across weights \n",
    "\n",
    "<br>\n",
    "\n",
    "---\n",
    "    \n",
    "# Now checking the efficacy of the AL model using the above parameters\n",
    "\n",
    "--- "
   ]
  },
  {
   "cell_type": "markdown",
   "id": "dcf55e71",
   "metadata": {},
   "source": [
    "### Function to check efficacy across weight groups"
   ]
  },
  {
   "cell_type": "code",
   "execution_count": 13,
   "id": "1c529b37",
   "metadata": {},
   "outputs": [
    {
     "name": "stdout",
     "output_type": "stream",
     "text": [
      "[6, 7, 8, 9, 10, 11, 12, 13, 14, 15, 16, 17, 18, 19, 20, 21, 22, 23, 24, 25, 26, 27, 28, 29, 30, 31, 32, 33, 34, 35, 36, 37, 38, 39, 40, 41, 42, 43, 44, 45, 46, 47, 48, 49, 50, 51, 52, 53, 54, 55, 56, 57, 58, 59, 60, 61, 62, 63, 64, 65, 66, 67, 68, 69, 70, 71, 72, 73, 74, 75, 76, 77, 78, 79, 80, 81, 82, 83, 84, 85, 86, 87, 88, 89, 90, 91, 92, 93, 94, 95, 96, 97, 98, 99, 100]\n",
      "95\n"
     ]
    }
   ],
   "source": [
    "# Checking if we are in the correct directory\n",
    "#wd()\n",
    "\n",
    "# Define the range for weight groups\n",
    "min_weight = 6\n",
    "max_weight = 100\n",
    "\n",
    "# Define pmax_art values\n",
    "weight_values = list(range(min_weight, max_weight+1, 1))\n",
    "print(weight_values)\n",
    "print(len(weight_values))\n",
    "\n",
    "#Saving EC50_lum for future reference\n",
    "np.savetxt('pkpd_AL_weight_calibration_weight_range.txt', weight_values, delimiter=',', fmt='%5f')\n",
    "\n",
    "# Initialize a grid to store the clearance rates\n",
    "trial_efficacy = np.zeros(len(weight_values))"
   ]
  },
  {
   "cell_type": "code",
   "execution_count": 20,
   "id": "85a87ac6",
   "metadata": {},
   "outputs": [],
   "source": [
    "def run_simulation(idx, weight):\n",
    "    command_weight = [\n",
    "        \"/home/venitha_b/Projects/2019-test-ppq-pk/build/run_ppq_pk\",\n",
    "        \"--AL\",\n",
    "        \"--pmax_artemether\",\"0.9999994\",\n",
    "        \"--pmax_lum\", \"0\",\n",
    "        \"-n\", \"100\",\n",
    "        \"--weight\", str(weight),\n",
    "        \"-o\", \"1\"\n",
    "    ]\n",
    "\n",
    "    try:\n",
    "        # Run the command and capture output\n",
    "        output_weight = subprocess.run(command_weight, capture_output=True, text=True, check=True)\n",
    "\n",
    "        # Process the output\n",
    "        lines_weight = output_weight.stdout.splitlines()\n",
    "        df_weight = pd.DataFrame([line.split(',') for line in lines_weight], columns=[\"PID\", \"HOUR\", \"COMP2CONC_ART\", \"COMP2CONC_LUM\", \"PARASITEDENSITY\"])\n",
    "        \n",
    "        # Clean the DataFrame\n",
    "        df_weight = df_weight.iloc[1:].apply(pd.to_numeric, errors='coerce')\n",
    "\n",
    "        # Calculate the efficacy\n",
    "        failed_treatment_count = df_weight[(df_weight['PARASITEDENSITY'] >= 10)].shape[0]\n",
    "        total_patients = df_weight['PID'].nunique()\n",
    "        efficacy = (100 - ((failed_treatment_count / total_patients) * 100)) if total_patients > 0 else 0\n",
    "\n",
    "        return (idx, efficacy)\n",
    "\n",
    "    except subprocess.CalledProcessError as e:\n",
    "        print(f\"Error in subprocess for weight: {weight}: {e}\")\n",
    "        return (idx, np.nan)  # Return NaN in case of failure\n",
    "    except Exception as e:\n",
    "        print(f\"An unexpected error occurred for pmax_art: {weight}: {e}\")\n",
    "        return (idx, np.nan)  # Return NaN in case of failure"
   ]
  },
  {
   "cell_type": "code",
   "execution_count": 21,
   "id": "aaab5178",
   "metadata": {},
   "outputs": [
    {
     "name": "stderr",
     "output_type": "stream",
     "text": [
      "Running simulations: 100%|██████████| 95/95 [00:30<00:00,  3.16it/s]"
     ]
    },
    {
     "name": "stdout",
     "output_type": "stream",
     "text": [
      "DataFrame saved as pickle and CSV files successfully.\n"
     ]
    },
    {
     "name": "stderr",
     "output_type": "stream",
     "text": [
      "\n"
     ]
    }
   ],
   "source": [
    "# Define number of workers (use all available CPU cores)\n",
    "num_workers = cpu_count()\n",
    "\n",
    "# Prepare a list of parameters to pass to the pool\n",
    "params_list = [(i, weight_values[i]) for i in range(len(weight_values))]\n",
    "\n",
    "# Run simulations in parallel and track progress\n",
    "with Pool(processes=num_workers) as pool:\n",
    "    results = []\n",
    "    with tqdm(total=len(params_list), desc=\"Running simulations\") as pbar:\n",
    "        for result in pool.starmap(run_simulation, params_list):\n",
    "            results.append(result)\n",
    "            pbar.update(1)  # Update progress bar after each result\n",
    "\n",
    "# Update the clearance_rates array with the results\n",
    "for idx, efficacy in results:\n",
    "    trial_efficacy[idx] = efficacy\n",
    "\n",
    "# Create a DataFrame with pmax_values and clearance_rates\n",
    "df = pd.DataFrame({\n",
    "    'weight': weight_values,\n",
    "    'efficacy': trial_efficacy\n",
    "})\n",
    "\n",
    "# Save the DataFrame to a pickle file\n",
    "\n",
    "df.to_pickle(\"pkpd_AL_weight_calibration_01.pyobj\")\n",
    "\n",
    "# Save the DataFrame to a CSV file\n",
    "df.to_csv(\"pkpd_AL_weight_calibration_01.csv\", index=False)\n",
    "\n",
    "print(\"DataFrame saved as pickle and CSV files successfully.\")"
   ]
  },
  {
   "cell_type": "code",
   "execution_count": 22,
   "id": "4660d6c1",
   "metadata": {},
   "outputs": [
    {
     "data": {
      "application/vnd.microsoft.datawrangler.viewer.v0+json": {
       "columns": [
        {
         "name": "index",
         "rawType": "int64",
         "type": "integer"
        },
        {
         "name": "weight",
         "rawType": "int64",
         "type": "integer"
        },
        {
         "name": "efficacy",
         "rawType": "float64",
         "type": "float"
        }
       ],
       "conversionMethod": "pd.DataFrame",
       "ref": "33d8fa26-a9dc-4d3c-856a-e9c464bda87a",
       "rows": [
        [
         "0",
         "6",
         "0.0"
        ],
        [
         "1",
         "7",
         "0.0"
        ],
        [
         "2",
         "8",
         "0.0"
        ],
        [
         "3",
         "9",
         "0.0"
        ],
        [
         "4",
         "10",
         "0.0"
        ],
        [
         "5",
         "11",
         "0.0"
        ],
        [
         "6",
         "12",
         "0.0"
        ],
        [
         "7",
         "13",
         "0.0"
        ],
        [
         "8",
         "14",
         "0.0"
        ],
        [
         "9",
         "15",
         "0.0"
        ],
        [
         "10",
         "16",
         "0.0"
        ],
        [
         "11",
         "17",
         "0.0"
        ],
        [
         "12",
         "18",
         "0.0"
        ],
        [
         "13",
         "19",
         "0.0"
        ],
        [
         "14",
         "20",
         "0.0"
        ],
        [
         "15",
         "21",
         "0.0"
        ],
        [
         "16",
         "22",
         "0.0"
        ],
        [
         "17",
         "23",
         "0.0"
        ],
        [
         "18",
         "24",
         "0.0"
        ],
        [
         "19",
         "25",
         "0.0"
        ],
        [
         "20",
         "26",
         "0.0"
        ],
        [
         "21",
         "27",
         "0.0"
        ],
        [
         "22",
         "28",
         "0.0"
        ],
        [
         "23",
         "29",
         "0.0"
        ],
        [
         "24",
         "30",
         "0.0"
        ],
        [
         "25",
         "31",
         "0.0"
        ],
        [
         "26",
         "32",
         "0.0"
        ],
        [
         "27",
         "33",
         "0.0"
        ],
        [
         "28",
         "34",
         "0.0"
        ],
        [
         "29",
         "35",
         "0.0"
        ],
        [
         "30",
         "36",
         "0.0"
        ],
        [
         "31",
         "37",
         "0.0"
        ],
        [
         "32",
         "38",
         "0.0"
        ],
        [
         "33",
         "39",
         "0.0"
        ],
        [
         "34",
         "40",
         "0.0"
        ],
        [
         "35",
         "41",
         "0.0"
        ],
        [
         "36",
         "42",
         "0.0"
        ],
        [
         "37",
         "43",
         "0.0"
        ],
        [
         "38",
         "44",
         "0.0"
        ],
        [
         "39",
         "45",
         "0.0"
        ],
        [
         "40",
         "46",
         "0.0"
        ],
        [
         "41",
         "47",
         "0.0"
        ],
        [
         "42",
         "48",
         "0.0"
        ],
        [
         "43",
         "49",
         "0.0"
        ],
        [
         "44",
         "50",
         "0.0"
        ],
        [
         "45",
         "51",
         "0.0"
        ],
        [
         "46",
         "52",
         "0.0"
        ],
        [
         "47",
         "53",
         "0.0"
        ],
        [
         "48",
         "54",
         "0.0"
        ],
        [
         "49",
         "55",
         "0.0"
        ]
       ],
       "shape": {
        "columns": 2,
        "rows": 95
       }
      },
      "text/html": [
       "<div>\n",
       "<style scoped>\n",
       "    .dataframe tbody tr th:only-of-type {\n",
       "        vertical-align: middle;\n",
       "    }\n",
       "\n",
       "    .dataframe tbody tr th {\n",
       "        vertical-align: top;\n",
       "    }\n",
       "\n",
       "    .dataframe thead th {\n",
       "        text-align: right;\n",
       "    }\n",
       "</style>\n",
       "<table border=\"1\" class=\"dataframe\">\n",
       "  <thead>\n",
       "    <tr style=\"text-align: right;\">\n",
       "      <th></th>\n",
       "      <th>weight</th>\n",
       "      <th>efficacy</th>\n",
       "    </tr>\n",
       "  </thead>\n",
       "  <tbody>\n",
       "    <tr>\n",
       "      <th>0</th>\n",
       "      <td>6</td>\n",
       "      <td>0.0</td>\n",
       "    </tr>\n",
       "    <tr>\n",
       "      <th>1</th>\n",
       "      <td>7</td>\n",
       "      <td>0.0</td>\n",
       "    </tr>\n",
       "    <tr>\n",
       "      <th>2</th>\n",
       "      <td>8</td>\n",
       "      <td>0.0</td>\n",
       "    </tr>\n",
       "    <tr>\n",
       "      <th>3</th>\n",
       "      <td>9</td>\n",
       "      <td>0.0</td>\n",
       "    </tr>\n",
       "    <tr>\n",
       "      <th>4</th>\n",
       "      <td>10</td>\n",
       "      <td>0.0</td>\n",
       "    </tr>\n",
       "    <tr>\n",
       "      <th>...</th>\n",
       "      <td>...</td>\n",
       "      <td>...</td>\n",
       "    </tr>\n",
       "    <tr>\n",
       "      <th>90</th>\n",
       "      <td>96</td>\n",
       "      <td>0.0</td>\n",
       "    </tr>\n",
       "    <tr>\n",
       "      <th>91</th>\n",
       "      <td>97</td>\n",
       "      <td>0.0</td>\n",
       "    </tr>\n",
       "    <tr>\n",
       "      <th>92</th>\n",
       "      <td>98</td>\n",
       "      <td>0.0</td>\n",
       "    </tr>\n",
       "    <tr>\n",
       "      <th>93</th>\n",
       "      <td>99</td>\n",
       "      <td>0.0</td>\n",
       "    </tr>\n",
       "    <tr>\n",
       "      <th>94</th>\n",
       "      <td>100</td>\n",
       "      <td>0.0</td>\n",
       "    </tr>\n",
       "  </tbody>\n",
       "</table>\n",
       "<p>95 rows × 2 columns</p>\n",
       "</div>"
      ],
      "text/plain": [
       "    weight  efficacy\n",
       "0        6       0.0\n",
       "1        7       0.0\n",
       "2        8       0.0\n",
       "3        9       0.0\n",
       "4       10       0.0\n",
       "..     ...       ...\n",
       "90      96       0.0\n",
       "91      97       0.0\n",
       "92      98       0.0\n",
       "93      99       0.0\n",
       "94     100       0.0\n",
       "\n",
       "[95 rows x 2 columns]"
      ]
     },
     "execution_count": 22,
     "metadata": {},
     "output_type": "execute_result"
    }
   ],
   "source": [
    "df"
   ]
  },
  {
   "cell_type": "code",
   "execution_count": 23,
   "id": "02cb79ee",
   "metadata": {},
   "outputs": [
    {
     "data": {
      "image/png": "[encoded data removed]",
      "text/plain": [
       "<Figure size 2500x1000 with 1 Axes>"
      ]
     },
     "metadata": {},
     "output_type": "display_data"
    }
   ],
   "source": [
    "plt.figure(figsize=(25, 10))  # Adjust the figure size as needed\n",
    "plt.plot(weight_values, trial_efficacy, marker='o', linestyle='-', color='b')\n",
    "plt.xlabel(f'Weight \\n Range: {min(weight_values)} to {max(weight_values)} kg')\n",
    "plt.ylabel('Efficacy (%)')\n",
    "plt.title(\"Day 28 Efficacy (threshold >= 10 parasites/μl)for AL Treatment based on weight \\n n = 10,000 patients\")\n",
    "plt.grid(True)\n",
    "plt.xticks(np.arange(min(weight_values), max(weight_values)+1, 2))  # Adjust tick marks if necessary\n",
    "plt.yticks(np.arange(0, 101, 5))  # Y-axis ticks from 0 to 100%\n",
    "plt.axhline(y=0, color='k', linestyle='--')  # Optional: horizontal line at y=0\n",
    "plt.savefig(\"pkpd_AL_weight_calibration_01.png\")  # Save the plot as a PNG file\n",
    "plt.show()"
   ]
  },
  {
   "cell_type": "markdown",
   "id": "43f30dcf",
   "metadata": {},
   "source": [
    "### Function call to examine state values of one weight group"
   ]
  },
  {
   "cell_type": "code",
   "execution_count": 36,
   "id": "d75d777f",
   "metadata": {},
   "outputs": [
    {
     "name": "stdout",
     "output_type": "stream",
     "text": [
      "[0.999999  0.9999991 0.9999992 0.9999993 0.9999994 0.9999995 0.9999996\n",
      " 0.9999997 0.9999998 0.9999999]\n"
     ]
    }
   ],
   "source": [
    "# Define the range for pmax_art\n",
    "min_pmax = 0.999999\n",
    "max_pmax = 0.9999999\n",
    "\n",
    "# Define pmax_art values\n",
    "pmax_values = np.linspace(min_pmax, max_pmax, 10)  # 50 values between 0.99997 and 0.8\n",
    "\n",
    "# Initialize a grid to store the clearance rates\n",
    "clearance_rates = np.zeros(len(pmax_values))\n",
    "\n",
    "print(pmax_values)"
   ]
  },
  {
   "cell_type": "code",
   "execution_count": 37,
   "id": "fb5800cf",
   "metadata": {},
   "outputs": [],
   "source": [
    "# Function to run a single simulation for a given weight value\n",
    "\n",
    "def run_single_weight_simulation(pmax, weight):\n",
    "    start_time = time.monotonic()\n",
    "    command_weight = [\n",
    "        \"/home/venitha_b/Projects/2019-test-ppq-pk/build/run_ppq_pk\",\n",
    "        \"--AL\",\n",
    "        \"-n\", \"100\",\n",
    "        \"--pmax_artemether\",str(pmax),\n",
    "        #\"--ec50_lum\", \"66\",\n",
    "        \"--weight\", str(weight)\n",
    "    ]\n",
    "\n",
    "    try:\n",
    "        # Run the command and capture output\n",
    "        output_weight = subprocess.run(command_weight, capture_output=True, text=True, check=True)\n",
    "\n",
    "        # Process the output\n",
    "        lines_weight = output_weight.stdout.splitlines()\n",
    "        df_weight = pd.DataFrame([line.split(',') for line in lines_weight], columns=[\"PID\", \"HOUR\", \"COMP2CONC_ART\", \"COMP2CONC_LUM\", \"PARASITEDENSITY\"])\n",
    "        \n",
    "        # Clean the DataFrame\n",
    "        df_weight = df_weight.iloc[1:].apply(pd.to_numeric, errors='coerce')\n",
    "\n",
    "        # Calculate the efficacy\n",
    "        if df_weight['PARASITEDENSITY'].isna().any():\n",
    "            failed_treatment_count = np.nan\n",
    "        else:\n",
    "            failed_treatment_count = df_weight[(df_weight['PARASITEDENSITY'] >= 10) & (df_weight['HOUR'] == 671.0)].shape[0]\n",
    "        \n",
    "        total_patients = df_weight['PID'].nunique()\n",
    "        \n",
    "        if total_patients == 0 or np.isnan(failed_treatment_count): \n",
    "            efficacy = np.nan\n",
    "        else:\n",
    "            percentage_failed = (failed_treatment_count / total_patients) * 100\n",
    "            efficacy = (100 - percentage_failed)\n",
    "            if np.isnan(efficacy):\n",
    "                efficacy = np.nan\n",
    "        \n",
    "        end_time = time.monotonic()\n",
    "        today = datetime.date.today()\n",
    "        print(\"\\nToday's date: \", today, \"\\n\")\n",
    "        print(\"Length of simulation: \", datetime.timedelta(seconds=end_time - start_time), \"\\n\")\n",
    "\n",
    "        return efficacy, df_weight, failed_treatment_count\n",
    "        \n",
    "    except subprocess.CalledProcessError as e:\n",
    "        print(f\"Error in subprocess for weight: {weight}: {e}\")\n",
    "        return np.nan, None, 0  # Return NaN, None, and 0 in case of failure\n",
    "    except Exception as e:\n",
    "        print(f\"An unexpected error occurred for weight: {weight}: {e}\")\n",
    "        return np.nan, None, 0  # Return NaN, None, and 0 in case of failure"
   ]
  },
  {
   "cell_type": "code",
   "execution_count": 38,
   "id": "c281645b",
   "metadata": {},
   "outputs": [
    {
     "name": "stdout",
     "output_type": "stream",
     "text": [
      "\n",
      "Today's date:  2025-04-17 \n",
      "\n",
      "Length of simulation:  0:00:02.402638 \n",
      "\n",
      "\n",
      "The failed treatment count for weight 54kg is: nan\n",
      "\n",
      "The percentage efficacy for weight 54kg is: nan \n",
      "\n",
      "\n",
      "Today's date:  2025-04-17 \n",
      "\n",
      "Length of simulation:  0:00:03.420601 \n",
      "\n",
      "\n",
      "The failed treatment count for weight 54kg is: nan\n",
      "\n",
      "The percentage efficacy for weight 54kg is: nan \n",
      "\n",
      "\n",
      "Today's date:  2025-04-17 \n",
      "\n",
      "Length of simulation:  0:00:02.339449 \n",
      "\n",
      "\n",
      "The failed treatment count for weight 54kg is: nan\n",
      "\n",
      "The percentage efficacy for weight 54kg is: nan \n",
      "\n",
      "\n",
      "Today's date:  2025-04-17 \n",
      "\n",
      "Length of simulation:  0:00:02.528730 \n",
      "\n",
      "\n",
      "The failed treatment count for weight 54kg is: nan\n",
      "\n",
      "The percentage efficacy for weight 54kg is: nan \n",
      "\n",
      "\n",
      "Today's date:  2025-04-17 \n",
      "\n",
      "Length of simulation:  0:00:02.253624 \n",
      "\n",
      "\n",
      "The failed treatment count for weight 54kg is: nan\n",
      "\n",
      "The percentage efficacy for weight 54kg is: nan \n",
      "\n",
      "\n",
      "Today's date:  2025-04-17 \n",
      "\n",
      "Length of simulation:  0:00:02.615444 \n",
      "\n",
      "\n",
      "The failed treatment count for weight 54kg is: nan\n",
      "\n",
      "The percentage efficacy for weight 54kg is: nan \n",
      "\n",
      "\n",
      "Today's date:  2025-04-17 \n",
      "\n",
      "Length of simulation:  0:00:02.423474 \n",
      "\n",
      "\n",
      "The failed treatment count for weight 54kg is: nan\n",
      "\n",
      "The percentage efficacy for weight 54kg is: nan \n",
      "\n",
      "\n",
      "Today's date:  2025-04-17 \n",
      "\n",
      "Length of simulation:  0:00:02.468893 \n",
      "\n",
      "\n",
      "The failed treatment count for weight 54kg is: nan\n",
      "\n",
      "The percentage efficacy for weight 54kg is: nan \n",
      "\n",
      "\n",
      "Today's date:  2025-04-17 \n",
      "\n",
      "Length of simulation:  0:00:02.255206 \n",
      "\n",
      "\n",
      "The failed treatment count for weight 54kg is: nan\n",
      "\n",
      "The percentage efficacy for weight 54kg is: nan \n",
      "\n",
      "\n",
      "Today's date:  2025-04-17 \n",
      "\n",
      "Length of simulation:  0:00:02.938586 \n",
      "\n",
      "\n",
      "The failed treatment count for weight 54kg is: nan\n",
      "\n",
      "The percentage efficacy for weight 54kg is: nan \n",
      "\n"
     ]
    }
   ],
   "source": [
    "# Define the weight values to use\n",
    "#weight_values = [10, 15, 20, 30, 40]\n",
    "\n",
    "weight_values = [54]\n",
    "\n",
    "for weight in weight_values:\n",
    "\n",
    "    for pmax in pmax_values:\n",
    "        efficacy, df_weight, failed_treatment_count = run_single_weight_simulation(pmax,weight)\n",
    "\n",
    "        # Save the DataFrame to a pickle file\n",
    "        #df_weight.to_pickle(f\"df_weight_{weight}kg.pyobj\")\n",
    "\n",
    "        # Save the DataFrame to a CSV file\n",
    "        #df_weight.to_csv(f\"df_weight_{weight}kg.csv\", index=False)\n",
    "        print(f\"\\nThe failed treatment count for weight {weight}kg is:\", failed_treatment_count)\n",
    "        print(f\"\\nThe percentage efficacy for weight {weight}kg is:\", efficacy, \"\\n\")\n"
   ]
  },
  {
   "cell_type": "code",
   "execution_count": null,
   "id": "11803566",
   "metadata": {},
   "outputs": [],
   "source": []
  }
 ],
 "metadata": {
  "kernelspec": {
   "display_name": "pkpd_AL_env",
   "language": "python",
   "name": "python3"
  },
  "language_info": {
   "codemirror_mode": {
    "name": "ipython",
    "version": 3
   },
   "file_extension": ".py",
   "mimetype": "text/x-python",
   "name": "python",
   "nbconvert_exporter": "python",
   "pygments_lexer": "ipython3",
   "version": "3.13.2"
  }
 },
 "nbformat": 4,
 "nbformat_minor": 5
}
