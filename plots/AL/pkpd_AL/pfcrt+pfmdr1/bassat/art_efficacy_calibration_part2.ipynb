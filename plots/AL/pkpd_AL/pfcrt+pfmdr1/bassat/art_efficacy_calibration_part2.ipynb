{
 "cells": [
  {
   "cell_type": "markdown",
   "metadata": {},
   "source": [
    "<br>\n",
    "\n",
    "# Calibrating artemisinin monotherapy (both --art and --AL) to give 69/5% effifcacy"
   ]
  },
  {
   "cell_type": "markdown",
   "metadata": {},
   "source": [
    "## 1. Checking the average efficacy of artemisinin monotherapy in both --art and --AL modules"
   ]
  },
  {
   "cell_type": "markdown",
   "metadata": {},
   "source": [
    "### a. --art module"
   ]
  },
  {
   "cell_type": "code",
   "execution_count": 1,
   "metadata": {},
   "outputs": [],
   "source": [
    "import subprocess\n",
    "import pandas as pd\n",
    "import numpy as np\n",
    "import matplotlib.pyplot as plt \n",
    "import matplotlib.colors as mcolacors\n",
    "from timeit import default_timer as timer\n",
    "from matplotlib.ticker import MaxNLocator\n",
    "import pickle\n",
    "from tqdm import tqdm  # For progress bar\n",
    "from multiprocessing import Pool, cpu_count"
   ]
  },
  {
   "cell_type": "code",
   "execution_count": 2,
   "metadata": {},
   "outputs": [
    {
     "name": "stdout",
     "output_type": "stream",
     "text": [
      "Run 1 - Efficacy: 100.00%\n",
      "Run 2 - Efficacy: 100.00%\n",
      "Run 3 - Efficacy: 100.00%\n",
      "Run 4 - Efficacy: 100.00%\n",
      "Run 5 - Efficacy: 100.00%\n",
      "Run 6 - Efficacy: 100.00%\n",
      "Run 7 - Efficacy: 100.00%\n",
      "Run 8 - Efficacy: 100.00%\n",
      "Run 9 - Efficacy: 100.00%\n",
      "Run 10 - Efficacy: 100.00%\n",
      "Run 11 - Efficacy: 100.00%\n",
      "Run 12 - Efficacy: 100.00%\n",
      "Run 13 - Efficacy: 100.00%\n",
      "Run 14 - Efficacy: 100.00%\n",
      "Run 15 - Efficacy: 100.00%\n"
     ]
    }
   ],
   "source": [
    "# Define the command\n",
    "command_art_monotherapy = [\n",
    "    \"/home/venitha_b/Projects/2019-test-ppq-pk/build/run_ppq_pk\",\n",
    "    \"--art\",\n",
    "    \"-n\", \"10000\",\n",
    "    \"-o\", \"1\" #Output the patient results only for final time point, hour = 671.0\n",
    "]\n",
    "\n",
    "# Initialize lists to store DataFrames and efficacies\n",
    "dataframes = []\n",
    "efficacies = []\n",
    "\n",
    "# Run the command 15 times\n",
    "for i in range(15):\n",
    "    output_art_monotherapy = subprocess.run(command_art_monotherapy, capture_output=True, text=True, check=True)\n",
    "\n",
    "    # Process the output\n",
    "    lines_art_monotherapy = output_art_monotherapy.stdout.splitlines()\n",
    "    df_art_monotherapy = pd.DataFrame([line.split(',') for line in lines_art_monotherapy], columns=[\"PID\", \"HOUR\", \"COMP2CONC_ART\", \"PARASITEDENSITY\"])\n",
    "    \n",
    "    # Clean the DataFrame\n",
    "    df_art_monotherapy = df_art_monotherapy.iloc[1:].apply(pd.to_numeric, errors='coerce')\n",
    "    \n",
    "    # Store the DataFrame\n",
    "    dataframes.append(df_art_monotherapy)\n",
    "    \n",
    "    # Calculate the efficacy\n",
    "    failed_treatment_count = df_art_monotherapy[(df_art_monotherapy['PARASITEDENSITY'] >= 10)].shape[0]\n",
    "    total_patients = df_art_monotherapy['PID'].nunique()\n",
    "    efficacy = (100 - ((failed_treatment_count / total_patients) * 100)) if total_patients > 0 else 0\n",
    "    \n",
    "    # Store the efficacy\n",
    "    efficacies.append(efficacy)\n",
    "\n",
    "    # Save the DataFrame as a CSV file\n",
    "    df_art_monotherapy.to_csv(f\"pkpd_art_monotherapy_efficacy_calibration_df_{i+1}.csv\", index=False)\n",
    "\n",
    "# Save all efficacies to a text file\n",
    "with open(\"pkpd_art_monotherapy_efficacy_calibration_01.txt\", \"w\") as f:\n",
    "    for i, efficacy in enumerate(efficacies):\n",
    "        f.write(f\"Run {i+1} - Efficacy: {efficacy:.2f}%\\n\")\n",
    "\n",
    "# Print the efficacies\n",
    "for i, efficacy in enumerate(efficacies):\n",
    "    print(f\"Run {i+1} - Efficacy: {efficacy:.2f}%\")"
   ]
  },
  {
   "cell_type": "markdown",
   "metadata": {},
   "source": [
    "### b. --AL module"
   ]
  },
  {
   "cell_type": "code",
   "execution_count": 3,
   "metadata": {},
   "outputs": [
    {
     "name": "stdout",
     "output_type": "stream",
     "text": [
      "Run 1 - Efficacy: 68.20%\n",
      "Run 2 - Efficacy: 68.20%\n",
      "Run 3 - Efficacy: 68.86%\n",
      "Run 4 - Efficacy: 68.57%\n",
      "Run 5 - Efficacy: 68.45%\n",
      "Run 6 - Efficacy: 67.94%\n",
      "Run 7 - Efficacy: 67.13%\n",
      "Run 8 - Efficacy: 67.82%\n",
      "Run 9 - Efficacy: 67.99%\n",
      "Run 10 - Efficacy: 68.29%\n",
      "Run 11 - Efficacy: 68.98%\n",
      "Run 12 - Efficacy: 68.91%\n",
      "Run 13 - Efficacy: 68.29%\n",
      "Run 14 - Efficacy: 68.53%\n",
      "Run 15 - Efficacy: 68.06%\n"
     ]
    }
   ],
   "source": [
    "# Define the command\n",
    "command_AL_module_art = [\n",
    "    \"/home/venitha_b/Projects/2019-test-ppq-pk/build/run_ppq_pk\",\n",
    "    \"--AL\",\n",
    "    \"--pmax_lum\", \"0\",\n",
    "    \"-n\", \"10000\",\n",
    "    \"-o\", \"1\" #Output the patient results only for final time point, hour = 671.0\n",
    "]\n",
    "\n",
    "# Initialize lists to store DataFrames and efficacies\n",
    "dataframes = []\n",
    "efficacies = []\n",
    "\n",
    "# Run the command 15 times\n",
    "for i in range(15):\n",
    "    output_AL_module_art = subprocess.run(command_AL_module_art, capture_output=True, text=True, check=True)\n",
    "\n",
    "    # Process the output\n",
    "    lines_AL_module_art = output_AL_module_art.stdout.splitlines()\n",
    "    df_AL_module_art = pd.DataFrame([line.split(',') for line in lines_AL_module_art], columns=[\"PID\", \"HOUR\", \"COMP2CONC_ART\", \"COMP2CONC_LUM\", \"PARASITEDENSITY\"])\n",
    "        \n",
    "    # Clean the DataFrame\n",
    "    df_AL_module_art = df_AL_module_art.iloc[1:].apply(pd.to_numeric, errors='coerce')\n",
    "    \n",
    "    # Store the DataFrame\n",
    "    dataframes.append(df_AL_module_art)\n",
    "    \n",
    "    # Calculate the efficacy\n",
    "    failed_treatment_count = df_AL_module_art[(df_AL_module_art['PARASITEDENSITY'] >= 10)].shape[0]\n",
    "    total_patients = df_AL_module_art['PID'].nunique()\n",
    "    efficacy = (100 - ((failed_treatment_count / total_patients) * 100)) if total_patients > 0 else 0\n",
    "    \n",
    "    # Store the efficacy\n",
    "    efficacies.append(efficacy)\n",
    "\n",
    "    # Save the DataFrame as a CSV file\n",
    "    df_AL_module_art.to_csv(f\"pkpd_AL_module_art_efficacy_calibration_df_{i+1}.csv\", index=False)\n",
    "\n",
    "# Save all efficacies to a text file\n",
    "with open(\"pkpd_AL_module_art_efficacy_calibration__01.txt\", \"w\") as f:\n",
    "    for i, efficacy in enumerate(efficacies):\n",
    "        f.write(f\"Run {i+1} - Efficacy: {efficacy:.2f}%\\n\")\n",
    "\n",
    "# Print the efficacies\n",
    "for i, efficacy in enumerate(efficacies):\n",
    "    print(f\"Run {i+1} - Efficacy: {efficacy:.2f}%\")"
   ]
  },
  {
   "cell_type": "code",
   "execution_count": null,
   "metadata": {},
   "outputs": [],
   "source": []
  }
 ],
 "metadata": {
  "kernelspec": {
   "display_name": "pkpd_AL",
   "language": "python",
   "name": "python3"
  },
  "language_info": {
   "codemirror_mode": {
    "name": "ipython",
    "version": 3
   },
   "file_extension": ".py",
   "mimetype": "text/x-python",
   "name": "python",
   "nbconvert_exporter": "python",
   "pygments_lexer": "ipython3",
   "version": "3.13.0"
  }
 },
 "nbformat": 4,
 "nbformat_minor": 2
}
