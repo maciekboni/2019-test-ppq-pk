{
 "cells": [
  {
   "cell_type": "markdown",
   "metadata": {},
   "source": [
    "# [Bassat et al., 2009](https://pubmed.ncbi.nlm.nih.gov/19936217/) and [Baraka et al., 2014](https://journals.asm.org/doi/10.1128/aac.03647-14)\n",
    "\n",
    "## **Drug:** AL\n",
    "\n",
    "### **Gene locus and Allele:** pfmdr1 N86\n",
    "\n",
    "**Number of patients in arm:** 56\n",
    "\n",
    "**Number of patients cured:** 49\n",
    "\n",
    "**Efficacy:** 0.875 or 87.5%\n",
    "\n",
    "\n",
    "### **Gene locus and Allele:** pfmdr1 86Y\n",
    "**Number of patients in arm:** 35\n",
    "\n",
    "**Number of patients cured:** 35\n",
    "\n",
    "**Efficacy:** 1 or 100%\n",
    "\n",
    "\n",
    "### **Gene locus and Allele:** pfcrt K76\n",
    "**Number of patients in arm:** 27\n",
    "\n",
    "**Number of patients cured:** 25\n",
    "\n",
    "**Efficacy:** 0.9259 or 92.59%\n",
    "\n",
    "\n",
    "### **Gene locus and Allele:** pfcrt 76T\n",
    "**Number of patients in arm:** 62\n",
    "\n",
    "**Number of patients cured:** 57\n",
    "\n",
    "**Efficacy:** 0.9194 or 91.94%\n"
   ]
  },
  {
   "cell_type": "markdown",
   "metadata": {},
   "source": []
  }
 ],
 "metadata": {
  "language_info": {
   "name": "python"
  }
 },
 "nbformat": 4,
 "nbformat_minor": 2
}
