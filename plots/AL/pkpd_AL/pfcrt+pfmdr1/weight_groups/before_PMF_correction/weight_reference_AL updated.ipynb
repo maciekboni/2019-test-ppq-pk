{
 "cells": [
  {
   "cell_type": "markdown",
   "metadata": {},
   "source": [
    "# Updated dosage recommendations for AL\n",
    "## Taken from WHO Guidelines for Malaria\n",
    "\n",
    "<br>\n",
    "\n",
    "## Weight-Dose reference for artemether\n",
    "### Assuming one tablet = 40 mg"
   ]
  },
  {
   "cell_type": "markdown",
   "metadata": {},
   "source": [
    "| Weight Range (kg) | num_tablets_per_dose | Total Dose (mg) |\n",
    "|-------------------|---------------------|----------------|\n",
    "| < 15.0            | 0.50                | 20.0           |\n",
    "| 15.0 to < 25      | 1.00                | 40.0           |\n",
    "| 25.0 to < 35      | 1.50                | 60.0           |\n",
    "| >= 35             | 2.00                | 80.0           |"
   ]
  },
  {
   "cell_type": "markdown",
   "metadata": {},
   "source": [
    "<br>\n",
    "\n",
    "## Weight-Dose reference for lumefantrine\n",
    "### Assuming one tablet = 120 mg"
   ]
  },
  {
   "cell_type": "markdown",
   "metadata": {},
   "source": [
    "| Weight Range (kg) | num_tablets_per_dose | Total Dose (mg) |\n",
    "|-------------------|---------------------|----------------|\n",
    "| < 15.0            | 1.00                | 120.0           |\n",
    "| 15.0 to < 25      | 2.00                | 240.0           |\n",
    "| 25.0 to < 35      | 3.00                | 360.0           |\n",
    "| >= 35             | 4.00                | 480.0           |"
   ]
  },
  {
   "cell_type": "markdown",
   "metadata": {},
   "source": []
  },
  {
   "cell_type": "markdown",
   "metadata": {},
   "source": [
    "10, 15, 20, 30, 40"
   ]
  },
  {
   "cell_type": "markdown",
   "metadata": {},
   "source": []
  }
 ],
 "metadata": {
  "language_info": {
   "name": "python"
  }
 },
 "nbformat": 4,
 "nbformat_minor": 2
}
