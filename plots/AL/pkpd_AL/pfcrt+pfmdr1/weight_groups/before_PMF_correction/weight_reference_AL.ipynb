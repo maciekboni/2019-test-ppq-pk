{
 "cells": [
  {
   "cell_type": "markdown",
   "metadata": {},
   "source": [
    "# Weight-Dose reference for dha\n",
    "# One tablet = 40 mg"
   ]
  },
  {
   "cell_type": "markdown",
   "metadata": {},
   "source": [
    "| Weight Range (kg) | num_tablets_per_dose | Total Dose (mg) |\n",
    "|-------------------|---------------------|----------------|\n",
    "| < 5.0            | 0.00                | 0.0            |\n",
    "| 5.0 - 7.99       | 0.50                | 20.0           |\n",
    "| 8.0 - 10.99      | 0.75                | 30.0           |\n",
    "| 11.0 - 16.99     | 1.00                | 40.0           |\n",
    "| 17.0 - 24.99     | 1.50                | 60.0           |\n",
    "| 25.0 - 35.99     | 2.00                | 80.0           |\n",
    "| 36.0 - 59.99     | 3.00                | 120.0          |\n",
    "| 60.0 - 79.99     | 4.00                | 160.0          |\n",
    "| ≥ 80.0           | 5.00                | 200.0          |\n"
   ]
  },
  {
   "cell_type": "markdown",
   "metadata": {},
   "source": [
    "# Weight-Dose reference for lum\n",
    "# One tablet = 120 mg"
   ]
  },
  {
   "cell_type": "markdown",
   "metadata": {},
   "source": [
    "| Weight Range (kg) | num_tablets_per_dose | Total Dose per Occasion (mg) |\n",
    "|-------------------|---------------------|-----------------------------|\n",
    "| < 5.0            | 0.00                | 0.0                         |\n",
    "| 5.0 - 13.99      | 1.00                | 120.0                       |\n",
    "| 14.0 - 23.99     | 2.00                | 240.0                       |\n",
    "| 24.0 - 33.99     | 3.00                | 360.0                       |\n",
    "| ≥ 34.0           | 4.00                | 480.0                       |\n"
   ]
  },
  {
   "cell_type": "markdown",
   "metadata": {},
   "source": [
    "10, 15, 20, 30, 40"
   ]
  },
  {
   "cell_type": "markdown",
   "metadata": {},
   "source": []
  }
 ],
 "metadata": {
  "language_info": {
   "name": "python"
  }
 },
 "nbformat": 4,
 "nbformat_minor": 2
}
