{
 "cells": [
  {
   "cell_type": "markdown",
   "id": "e6d5b9fc",
   "metadata": {},
   "source": [
    "# Date: 04/13/2025"
   ]
  },
  {
   "cell_type": "code",
   "execution_count": 2,
   "id": "eb576456",
   "metadata": {},
   "outputs": [],
   "source": [
    "# Pasting these here for easier access\n",
    "\n",
    "import subprocess\n",
    "import pandas as pd\n",
    "import numpy as np\n",
    "import matplotlib.pyplot as plt \n",
    "import matplotlib.colors as mcolacors\n",
    "import pickle\n",
    "from tqdm import tqdm  # For progress bar\n",
    "from multiprocessing import Pool, cpu_count\n",
    "import os\n",
    "import sys\n",
    "import time\n",
    "import datetime "
   ]
  },
  {
   "cell_type": "markdown",
   "id": "70fc733b",
   "metadata": {},
   "source": [
    "<br>\n",
    "\n",
    "## Objective 1: Reverted changes made to main.cpp, pkpd_artemether.cpp and pkpd_lum.cpp to 09092024\n",
    "## Objective 2: Testing if --art and --AL modules give 69.5% / 96.5% efficacy for weight = 54 kg after revision"
   ]
  },
  {
   "cell_type": "markdown",
   "id": "4053a021",
   "metadata": {},
   "source": [
    "### Objective 2.1: Testing efficacy of artemether monotherapy with pmax_lum = 0"
   ]
  },
  {
   "cell_type": "code",
   "execution_count": 19,
   "id": "aeb74279",
   "metadata": {},
   "outputs": [],
   "source": [
    "# Function to run a single simulation for a given weight value\n",
    "\n",
    "def run_single_weight_simulation(weight):\n",
    "    start_time = time.monotonic()\n",
    "    command_weight = [\n",
    "        \"/home/venitha_b/Projects/2019-test-ppq-pk/build/run_ppq_pk\",\n",
    "        \"--AL\",\n",
    "        \"-n\", \"10000\",\n",
    "        \"--pmax_lum\", \"0\",\n",
    "        \"-o\", \"1\",\n",
    "        \"--weight\", str(weight)\n",
    "    ]\n",
    "\n",
    "    try:\n",
    "        # Run the command and capture output\n",
    "        output_weight = subprocess.run(command_weight, capture_output=True, text=True, check=True)\n",
    "\n",
    "        # Process the output\n",
    "        lines_weight = output_weight.stdout.splitlines()\n",
    "        df_weight = pd.DataFrame([line.split(',') for line in lines_weight], columns=[\"PID\", \"HOUR\", \"COMP2CONC_ARTEMETHER\", \"COMP2CONC_LUM\", \"PARASITEDENSITY\"])\n",
    "        \n",
    "        # Clean the DataFrame\n",
    "        df_weight = df_weight.iloc[1:].apply(pd.to_numeric, errors='coerce')\n",
    "\n",
    "        # Calculate the efficacy\n",
    "        if df_weight['PARASITEDENSITY'].isna().any():\n",
    "            failed_treatment_count = np.nan\n",
    "        else:\n",
    "            failed_treatment_count = df_weight[(df_weight['PARASITEDENSITY'] >= 10) & (df_weight['HOUR'] == 671.0)].shape[0]\n",
    "        \n",
    "        total_patients = df_weight['PID'].nunique()\n",
    "        \n",
    "        if total_patients == 0 or np.isnan(failed_treatment_count): \n",
    "            efficacy = np.nan\n",
    "        else:\n",
    "            percentage_failed = (failed_treatment_count / total_patients) * 100\n",
    "            efficacy = (100 - percentage_failed)\n",
    "            if np.isnan(efficacy):\n",
    "                efficacy = np.nan\n",
    "        \n",
    "        end_time = time.monotonic()\n",
    "        today = datetime.date.today()\n",
    "        print(\"\\nToday's date: \", today, \"\\n\")\n",
    "        print(\"Length of simulation: \", datetime.timedelta(seconds=end_time - start_time), \"\\n\")\n",
    "\n",
    "        return efficacy, df_weight, failed_treatment_count\n",
    "        \n",
    "    except subprocess.CalledProcessError as e:\n",
    "        print(f\"Error in subprocess for weight: {weight}: {e}\")\n",
    "        return np.nan, None, 0  # Return NaN, None, and 0 in case of failure\n",
    "    except Exception as e:\n",
    "        print(f\"An unexpected error occurred for weight: {weight}: {e}\")\n",
    "        return np.nan, None, 0  # Return NaN, None, and 0 in case of failure"
   ]
  },
  {
   "cell_type": "code",
   "execution_count": 18,
   "id": "5d6a03a2",
   "metadata": {},
   "outputs": [
    {
     "name": "stdout",
     "output_type": "stream",
     "text": [
      "\n",
      "Today's date:  2025-04-13 \n",
      "\n",
      "Length of simulation:  0:04:28.233104 \n",
      "\n",
      "\n",
      "The failed treatment count for weight 54kg is: 3171\n",
      "\n",
      "The percentage efficacy for weight 54kg is: 68.28999999999999 \n",
      "\n"
     ]
    }
   ],
   "source": [
    "# Define the weight values to use\n",
    "#weight_values = [10, 15, 20, 30, 40]\n",
    "\n",
    "weight_values = [54]\n",
    "\n",
    "for weight in weight_values:\n",
    "\n",
    "    #Run the simulation\n",
    "\n",
    "    efficacy, df_weight, failed_treatment_count = run_single_weight_simulation(weight)\n",
    "\n",
    "    # Save the DataFrame to a pickle file\n",
    "    df_weight.to_pickle(f\"df_weight_{weight}kg.pyobj\")\n",
    "\n",
    "    # Save the DataFrame to a CSV file\n",
    "    df_weight.to_csv(f\"df_weight_{weight}kg.csv\", index=False)\n",
    "\n",
    "    print(f\"\\nThe failed treatment count for weight {weight}kg is:\", failed_treatment_count)\n",
    "    print(f\"\\nThe percentage efficacy for weight {weight}kg is:\", efficacy, \"\\n\")"
   ]
  },
  {
   "cell_type": "markdown",
   "id": "72abb197",
   "metadata": {},
   "source": [
    "### Objective 2.2: Testing efficacy of artemether monotherapy with --art flag (to-do later)\n",
    "### Objective 2.3: Testing AL efficacy with --AL flag"
   ]
  },
  {
   "cell_type": "code",
   "execution_count": 21,
   "id": "e4609136",
   "metadata": {},
   "outputs": [],
   "source": [
    "# Function to run a single simulation for a given weight value\n",
    "\n",
    "def run_single_weight_simulation(weight):\n",
    "    start_time = time.monotonic()\n",
    "    command_weight = [\n",
    "        \"/home/venitha_b/Projects/2019-test-ppq-pk/build/run_ppq_pk\",\n",
    "        \"--AL\",\n",
    "        \"-n\", \"10000\",\n",
    "        \"-o\", \"1\",\n",
    "        \"--weight\", str(weight)\n",
    "    ]\n",
    "\n",
    "    try:\n",
    "        # Run the command and capture output\n",
    "        output_weight = subprocess.run(command_weight, capture_output=True, text=True, check=True)\n",
    "\n",
    "        # Process the output\n",
    "        lines_weight = output_weight.stdout.splitlines()\n",
    "        df_weight = pd.DataFrame([line.split(',') for line in lines_weight], columns=[\"PID\", \"HOUR\", \"COMP2CONC_ARTEMETHER\", \"COMP2CONC_LUM\", \"PARASITEDENSITY\"])\n",
    "        \n",
    "        # Clean the DataFrame\n",
    "        df_weight = df_weight.iloc[1:].apply(pd.to_numeric, errors='coerce')\n",
    "\n",
    "        # Calculate the efficacy\n",
    "        if df_weight['PARASITEDENSITY'].isna().any():\n",
    "            failed_treatment_count = np.nan\n",
    "        else:\n",
    "            failed_treatment_count = df_weight[(df_weight['PARASITEDENSITY'] >= 10) & (df_weight['HOUR'] == 671.0)].shape[0]\n",
    "        \n",
    "        total_patients = df_weight['PID'].nunique()\n",
    "        \n",
    "        if total_patients == 0 or np.isnan(failed_treatment_count): \n",
    "            efficacy = np.nan\n",
    "        else:\n",
    "            percentage_failed = (failed_treatment_count / total_patients) * 100\n",
    "            efficacy = (100 - percentage_failed)\n",
    "            if np.isnan(efficacy):\n",
    "                efficacy = np.nan\n",
    "        \n",
    "        end_time = time.monotonic()\n",
    "        today = datetime.date.today()\n",
    "        print(\"\\nToday's date: \", today, \"\\n\")\n",
    "        print(\"Length of simulation: \", datetime.timedelta(seconds=end_time - start_time), \"\\n\")\n",
    "\n",
    "        return efficacy, df_weight, failed_treatment_count\n",
    "        \n",
    "    except subprocess.CalledProcessError as e:\n",
    "        print(f\"Error in subprocess for weight: {weight}: {e}\")\n",
    "        return np.nan, None, 0  # Return NaN, None, and 0 in case of failure\n",
    "    except Exception as e:\n",
    "        print(f\"An unexpected error occurred for weight: {weight}: {e}\")\n",
    "        return np.nan, None, 0  # Return NaN, None, and 0 in case of failure"
   ]
  },
  {
   "cell_type": "code",
   "execution_count": 16,
   "id": "a29fd8f9",
   "metadata": {},
   "outputs": [
    {
     "name": "stdout",
     "output_type": "stream",
     "text": [
      "\n",
      "Today's date:  2025-04-13 \n",
      "\n",
      "Length of simulation:  0:04:37.493341 \n",
      "\n",
      "\n",
      "The failed treatment count for weight 54kg is: 249\n",
      "\n",
      "The percentage efficacy for weight 54kg is: 97.51 \n",
      "\n"
     ]
    }
   ],
   "source": [
    "# Define the weight values to use\n",
    "#weight_values = [10, 15, 20, 30, 40]\n",
    "\n",
    "weight_values = [54]\n",
    "\n",
    "for weight in weight_values:\n",
    "\n",
    "    #Run the simulation\n",
    "\n",
    "    efficacy, df_weight, failed_treatment_count = run_single_weight_simulation(weight)\n",
    "\n",
    "    # Save the DataFrame to a pickle file\n",
    "    df_weight.to_pickle(f\"df_weight_{weight}kg.pyobj\")\n",
    "\n",
    "    # Save the DataFrame to a CSV file\n",
    "    df_weight.to_csv(f\"df_weight_{weight}kg.csv\", index=False)\n",
    "\n",
    "    print(f\"\\nThe failed treatment count for weight {weight}kg is:\", failed_treatment_count)\n",
    "    print(f\"\\nThe percentage efficacy for weight {weight}kg is:\", efficacy, \"\\n\")"
   ]
  },
  {
   "cell_type": "markdown",
   "id": "34c6c269",
   "metadata": {},
   "source": [
    "<br>\n",
    "\n",
    "### Objective 3: Debugging the dosage schedule of pkpd_artemether.cpp and observing --art and --AL efficacy for weight = 54 kg\n",
    "\n",
    "#### Objective 3.1: Testing efficacy of artemether monotherapy with --AL and --pmax_lum = 0"
   ]
  },
  {
   "cell_type": "code",
   "execution_count": 20,
   "id": "ef2da8f5",
   "metadata": {},
   "outputs": [
    {
     "name": "stdout",
     "output_type": "stream",
     "text": [
      "\n",
      "Today's date:  2025-04-13 \n",
      "\n",
      "Length of simulation:  0:03:48.042578 \n",
      "\n",
      "\n",
      "The failed treatment count for weight 54kg is: 0\n",
      "\n",
      "The percentage efficacy for weight 54kg is: 100.0 \n",
      "\n"
     ]
    }
   ],
   "source": [
    "# Define the weight values to use\n",
    "#weight_values = [10, 15, 20, 30, 40]\n",
    "\n",
    "weight_values = [54]\n",
    "\n",
    "for weight in weight_values:\n",
    "\n",
    "    #Run the simulation\n",
    "\n",
    "    efficacy, df_weight, failed_treatment_count = run_single_weight_simulation(weight)\n",
    "\n",
    "    # Save the DataFrame to a pickle file\n",
    "    df_weight.to_pickle(f\"df_weight_{weight}kg_objective_3.1.pyobj\")\n",
    "\n",
    "    # Save the DataFrame to a CSV file\n",
    "    df_weight.to_csv(f\"df_weight_{weight}kg_objective_3.1.csv\", index=False)\n",
    "\n",
    "    print(f\"\\nThe failed treatment count for weight {weight}kg is:\", failed_treatment_count)\n",
    "    print(f\"\\nThe percentage efficacy for weight {weight}kg is:\", efficacy, \"\\n\")"
   ]
  },
  {
   "cell_type": "markdown",
   "id": "951076dd",
   "metadata": {},
   "source": [
    "#### Objective 3.2: Testing efficacy of AL"
   ]
  },
  {
   "cell_type": "code",
   "execution_count": 22,
   "id": "0bbf5200",
   "metadata": {},
   "outputs": [
    {
     "name": "stdout",
     "output_type": "stream",
     "text": [
      "\n",
      "Today's date:  2025-04-13 \n",
      "\n",
      "Length of simulation:  0:03:54.101743 \n",
      "\n",
      "\n",
      "The failed treatment count for weight 54kg is: 0\n",
      "\n",
      "The percentage efficacy for weight 54kg is: 100.0 \n",
      "\n"
     ]
    }
   ],
   "source": [
    "# Define the weight values to use\n",
    "#weight_values = [10, 15, 20, 30, 40]\n",
    "\n",
    "weight_values = [54]\n",
    "\n",
    "for weight in weight_values:\n",
    "\n",
    "    #Run the simulation\n",
    "\n",
    "    efficacy, df_weight, failed_treatment_count = run_single_weight_simulation(weight)\n",
    "\n",
    "    # Save the DataFrame to a pickle file\n",
    "    df_weight.to_pickle(f\"df_weight_{weight}kg_objective_3.2.pyobj\")\n",
    "\n",
    "    # Save the DataFrame to a CSV file\n",
    "    df_weight.to_csv(f\"df_weight_{weight}kg_objective_3.2.csv\", index=False)\n",
    "\n",
    "    print(f\"\\nThe failed treatment count for weight {weight}kg is:\", failed_treatment_count)\n",
    "    print(f\"\\nThe percentage efficacy for weight {weight}kg is:\", efficacy, \"\\n\")"
   ]
  },
  {
   "cell_type": "code",
   "execution_count": 23,
   "id": "81baf278",
   "metadata": {},
   "outputs": [
    {
     "name": "stdout",
     "output_type": "stream",
     "text": [
      "\n",
      "Today's date:  2025-04-13 \n",
      "\n",
      "Length of simulation:  0:03:47.829280 \n",
      "\n",
      "\n",
      "The failed treatment count for weight 12kg is: 0\n",
      "\n",
      "The percentage efficacy for weight 12kg is: 100.0 \n",
      "\n"
     ]
    }
   ],
   "source": [
    "# Define the weight values to use\n",
    "#weight_values = [10, 15, 20, 30, 40]\n",
    "\n",
    "weight_values = [12]\n",
    "\n",
    "for weight in weight_values:\n",
    "\n",
    "    #Run the simulation\n",
    "\n",
    "    efficacy, df_weight, failed_treatment_count = run_single_weight_simulation(weight)\n",
    "\n",
    "    # Save the DataFrame to a pickle file\n",
    "    df_weight.to_pickle(f\"df_weight_{weight}kg_objective_3.2.pyobj\")\n",
    "\n",
    "    # Save the DataFrame to a CSV file\n",
    "    df_weight.to_csv(f\"df_weight_{weight}kg_objective_3.2.csv\", index=False)\n",
    "\n",
    "    print(f\"\\nThe failed treatment count for weight {weight}kg is:\", failed_treatment_count)\n",
    "    print(f\"\\nThe percentage efficacy for weight {weight}kg is:\", efficacy, \"\\n\")"
   ]
  },
  {
   "cell_type": "markdown",
   "id": "8d62d992",
   "metadata": {},
   "source": [
    "<br>\n",
    "\n",
    "### Objective 4: Testing AL efficacy after making the following changes\n",
    "- `pkpd_artemether.cpp` :\n",
    "    - Changed constructor to `pkpd_artemether::pkpd_artemether(patient age, patient weight)`\n",
    "    - Moving log10 parasitaemia calculation from constructor to `initialize_params()`\n",
    "    - Adding `set_age_and_weight()`\n",
    "    - Creating `initialize()`\n",
    "    - Removed `generate_recommended_dosing_schedule()` from constructor\n",
    "- `pkpd_lum.cpp` :\n",
    "    - Changed constructor to `pkpd_lum::pkpd_lum(patient age, patient weight)`\n",
    "    - Changed `median_weight` from 54.0 to 42.0\n",
    "    - Adding `set_age_and_weight()`\n",
    "- `main.cpp` :\n",
    "    - Added `pkpd_artemether::stochastic = true`\n",
    "    - Edited the constructor call for `therapy_lumefantrine`  and `therapy_AL`"
   ]
  },
  {
   "cell_type": "code",
   "execution_count": 26,
   "id": "db4d8eef",
   "metadata": {},
   "outputs": [],
   "source": [
    "# Function to run a single simulation for a given weight value\n",
    "\n",
    "def run_single_weight_simulation(weight):\n",
    "    start_time = time.monotonic()\n",
    "    command_weight = [\n",
    "        \"/home/venitha_b/Projects/2019-test-ppq-pk/build/run_ppq_pk\",\n",
    "        \"--AL\",\n",
    "        \"-n\", \"10000\",\n",
    "        \"-o\", \"1\",\n",
    "        \"--weight\", str(weight)\n",
    "    ]\n",
    "\n",
    "    try:\n",
    "        # Run the command and capture output\n",
    "        output_weight = subprocess.run(command_weight, capture_output=True, text=True, check=True)\n",
    "\n",
    "        # Process the output\n",
    "        lines_weight = output_weight.stdout.splitlines()\n",
    "        df_weight = pd.DataFrame([line.split(',') for line in lines_weight], columns=[\"PID\", \"HOUR\", \"COMP2CONC_ARTEMETHER\", \"COMP2CONC_LUM\", \"PARASITEDENSITY\"])\n",
    "        \n",
    "        # Clean the DataFrame\n",
    "        df_weight = df_weight.iloc[1:].apply(pd.to_numeric, errors='coerce')\n",
    "\n",
    "        # Calculate the efficacy\n",
    "        if df_weight['PARASITEDENSITY'].isna().any():\n",
    "            failed_treatment_count = np.nan\n",
    "        else:\n",
    "            failed_treatment_count = df_weight[(df_weight['PARASITEDENSITY'] >= 10) & (df_weight['HOUR'] == 671.0)].shape[0]\n",
    "        \n",
    "        total_patients = df_weight['PID'].nunique()\n",
    "        \n",
    "        if total_patients == 0 or np.isnan(failed_treatment_count): \n",
    "            efficacy = np.nan\n",
    "        else:\n",
    "            percentage_failed = (failed_treatment_count / total_patients) * 100\n",
    "            efficacy = (100 - percentage_failed)\n",
    "            if np.isnan(efficacy):\n",
    "                efficacy = np.nan\n",
    "        \n",
    "        end_time = time.monotonic()\n",
    "        today = datetime.date.today()\n",
    "        print(\"\\nToday's date: \", today, \"\\n\")\n",
    "        print(\"Length of simulation: \", datetime.timedelta(seconds=end_time - start_time), \"\\n\")\n",
    "\n",
    "        return efficacy, df_weight, failed_treatment_count\n",
    "        \n",
    "    except subprocess.CalledProcessError as e:\n",
    "        print(f\"Error in subprocess for weight: {weight}: {e}\")\n",
    "        return np.nan, None, 0  # Return NaN, None, and 0 in case of failure\n",
    "    except Exception as e:\n",
    "        print(f\"An unexpected error occurred for weight: {weight}: {e}\")\n",
    "        return np.nan, None, 0  # Return NaN, None, and 0 in case of failure"
   ]
  },
  {
   "cell_type": "code",
   "execution_count": 25,
   "id": "b3deb39c",
   "metadata": {},
   "outputs": [
    {
     "name": "stdout",
     "output_type": "stream",
     "text": [
      "\n",
      "Today's date:  2025-04-13 \n",
      "\n",
      "Length of simulation:  0:03:51.179762 \n",
      "\n",
      "\n",
      "The failed treatment count for weight 54kg is: 3631\n",
      "\n",
      "The percentage efficacy for weight 54kg is: 63.690000000000005 \n",
      "\n"
     ]
    }
   ],
   "source": [
    "# Define the weight values to use\n",
    "#weight_values = [10, 15, 20, 30, 40]\n",
    "\n",
    "weight_values = [54]\n",
    "\n",
    "for weight in weight_values:\n",
    "\n",
    "    #Run the simulation\n",
    "\n",
    "    efficacy, df_weight, failed_treatment_count = run_single_weight_simulation(weight)\n",
    "\n",
    "    # Save the DataFrame to a pickle file\n",
    "    df_weight.to_pickle(f\"df_weight_{weight}kg_objective_4.pyobj\")\n",
    "\n",
    "    # Save the DataFrame to a CSV file\n",
    "    df_weight.to_csv(f\"df_weight_{weight}kg_objective_4.csv\", index=False)\n",
    "\n",
    "    print(f\"\\nThe failed treatment count for weight {weight}kg is:\", failed_treatment_count)\n",
    "    print(f\"\\nThe percentage efficacy for weight {weight}kg is:\", efficacy, \"\\n\")"
   ]
  },
  {
   "cell_type": "markdown",
   "id": "112cfc6b",
   "metadata": {},
   "source": [
    "# Changing median weight back to 54 in lum.cpp"
   ]
  },
  {
   "cell_type": "code",
   "execution_count": 27,
   "id": "915dc88f",
   "metadata": {},
   "outputs": [
    {
     "name": "stdout",
     "output_type": "stream",
     "text": [
      "\n",
      "Today's date:  2025-04-14 \n",
      "\n",
      "Length of simulation:  0:03:51.406475 \n",
      "\n",
      "\n",
      "The failed treatment count for weight 54kg is: 3709\n",
      "\n",
      "The percentage efficacy for weight 54kg is: 62.91 \n",
      "\n"
     ]
    }
   ],
   "source": [
    "# Define the weight values to use\n",
    "#weight_values = [10, 15, 20, 30, 40]\n",
    "\n",
    "weight_values = [54]\n",
    "\n",
    "for weight in weight_values:\n",
    "\n",
    "    #Run the simulation\n",
    "\n",
    "    efficacy, df_weight, failed_treatment_count = run_single_weight_simulation(weight)\n",
    "\n",
    "    # Save the DataFrame to a pickle file\n",
    "    df_weight.to_pickle(f\"df_weight_{weight}kg_objective_4_test01.pyobj\")\n",
    "\n",
    "    # Save the DataFrame to a CSV file\n",
    "    df_weight.to_csv(f\"df_weight_{weight}kg_objective_4_test_01.csv\", index=False)\n",
    "\n",
    "    print(f\"\\nThe failed treatment count for weight {weight}kg is:\", failed_treatment_count)\n",
    "    print(f\"\\nThe percentage efficacy for weight {weight}kg is:\", efficacy, \"\\n\")"
   ]
  },
  {
   "cell_type": "markdown",
   "id": "003a3660",
   "metadata": {},
   "source": [
    "### Since changing median_weight to 42.0 did not cause the drop in efficacy, opting to leave median_weight to 54.0 in pkpd_lum.cpp"
   ]
  },
  {
   "cell_type": "markdown",
   "id": "29cdd60f",
   "metadata": {},
   "source": [
    "# Date: 04/14/2025"
   ]
  },
  {
   "cell_type": "markdown",
   "id": "b3d863ab",
   "metadata": {},
   "source": [
    "<br>\n",
    "\n",
    "### Objective 5: Editing lumefantrine dosing schedule and checking if it affects AL efficacy"
   ]
  },
  {
   "cell_type": "code",
   "execution_count": 3,
   "id": "a2d6b330",
   "metadata": {},
   "outputs": [],
   "source": [
    "# Function to run a single simulation for a given weight value\n",
    "\n",
    "def run_single_weight_simulation(weight):\n",
    "    start_time = time.monotonic()\n",
    "    command_weight = [\n",
    "        \"/home/venitha_b/Projects/2019-test-ppq-pk/build/run_ppq_pk\",\n",
    "        \"--AL\",\n",
    "        \"-n\", \"10000\",\n",
    "        \"-o\", \"1\",\n",
    "        \"--weight\", str(weight)\n",
    "    ]\n",
    "\n",
    "    try:\n",
    "        # Run the command and capture output\n",
    "        output_weight = subprocess.run(command_weight, capture_output=True, text=True, check=True)\n",
    "\n",
    "        # Process the output\n",
    "        lines_weight = output_weight.stdout.splitlines()\n",
    "        df_weight = pd.DataFrame([line.split(',') for line in lines_weight], columns=[\"PID\", \"HOUR\", \"COMP2CONC_ARTEMETHER\", \"COMP2CONC_LUM\", \"PARASITEDENSITY\"])\n",
    "        \n",
    "        # Clean the DataFrame\n",
    "        df_weight = df_weight.iloc[1:].apply(pd.to_numeric, errors='coerce')\n",
    "\n",
    "        # Calculate the efficacy\n",
    "        if df_weight['PARASITEDENSITY'].isna().any():\n",
    "            failed_treatment_count = np.nan\n",
    "        else:\n",
    "            failed_treatment_count = df_weight[(df_weight['PARASITEDENSITY'] >= 10) & (df_weight['HOUR'] == 671.0)].shape[0]\n",
    "        \n",
    "        total_patients = df_weight['PID'].nunique()\n",
    "        \n",
    "        if total_patients == 0 or np.isnan(failed_treatment_count): \n",
    "            efficacy = np.nan\n",
    "        else:\n",
    "            percentage_failed = (failed_treatment_count / total_patients) * 100\n",
    "            efficacy = (100 - percentage_failed)\n",
    "            if np.isnan(efficacy):\n",
    "                efficacy = np.nan\n",
    "        \n",
    "        end_time = time.monotonic()\n",
    "        today = datetime.date.today()\n",
    "        print(\"\\nToday's date: \", today, \"\\n\")\n",
    "        print(\"Length of simulation: \", datetime.timedelta(seconds=end_time - start_time), \"\\n\")\n",
    "\n",
    "        return efficacy, df_weight, failed_treatment_count\n",
    "        \n",
    "    except subprocess.CalledProcessError as e:\n",
    "        print(f\"Error in subprocess for weight: {weight}: {e}\")\n",
    "        return np.nan, None, 0  # Return NaN, None, and 0 in case of failure\n",
    "    except Exception as e:\n",
    "        print(f\"An unexpected error occurred for weight: {weight}: {e}\")\n",
    "        return np.nan, None, 0  # Return NaN, None, and 0 in case of failure"
   ]
  },
  {
   "cell_type": "code",
   "execution_count": 4,
   "id": "c9f9705e",
   "metadata": {},
   "outputs": [
    {
     "name": "stdout",
     "output_type": "stream",
     "text": [
      "\n",
      "Today's date:  2025-04-14 \n",
      "\n",
      "Length of simulation:  0:03:54.339982 \n",
      "\n",
      "\n",
      "The failed treatment count for weight 54kg is: 3582\n",
      "\n",
      "The percentage efficacy for weight 54kg is: 64.18 \n",
      "\n"
     ]
    }
   ],
   "source": [
    "# Define the weight values to use\n",
    "#weight_values = [10, 15, 20, 30, 40]\n",
    "\n",
    "weight_values = [54]\n",
    "\n",
    "for weight in weight_values:\n",
    "\n",
    "    #Run the simulation\n",
    "\n",
    "    efficacy, df_weight, failed_treatment_count = run_single_weight_simulation(weight)\n",
    "\n",
    "    # Save the DataFrame to a pickle file\n",
    "    df_weight.to_pickle(f\"df_weight_{weight}kg_objective_5.pyobj\")\n",
    "\n",
    "    # Save the DataFrame to a CSV file\n",
    "    df_weight.to_csv(f\"df_weight_{weight}kg_objective_5.csv\", index=False)\n",
    "\n",
    "    print(f\"\\nThe failed treatment count for weight {weight}kg is:\", failed_treatment_count)\n",
    "    print(f\"\\nThe percentage efficacy for weight {weight}kg is:\", efficacy, \"\\n\")"
   ]
  },
  {
   "cell_type": "markdown",
   "id": "ac574c16",
   "metadata": {},
   "source": [
    "### Changing the lumefantrine dosage do not affect the efficacy"
   ]
  },
  {
   "cell_type": "code",
   "execution_count": 5,
   "id": "541b0c4b",
   "metadata": {},
   "outputs": [
    {
     "name": "stdout",
     "output_type": "stream",
     "text": [
      "5500000.0\n"
     ]
    }
   ],
   "source": [
    "patient_blood_volume = 5.5 * 10**(6) \n",
    "print(patient_blood_volume)"
   ]
  },
  {
   "cell_type": "code",
   "execution_count": 6,
   "id": "fa2259f9",
   "metadata": {},
   "outputs": [
    {
     "name": "stdout",
     "output_type": "stream",
     "text": [
      "6123711.340206185\n"
     ]
    }
   ],
   "source": [
    "weight = 54\n",
    "median_weight = 48.5\n",
    "\n",
    "scaled_patient_blood_volume = patient_blood_volume * (weight / median_weight)\n",
    "print(scaled_patient_blood_volume)"
   ]
  },
  {
   "cell_type": "code",
   "execution_count": 8,
   "id": "a9c039d1",
   "metadata": {},
   "outputs": [
    {
     "data": {
      "text/plain": [
       "True"
      ]
     },
     "execution_count": 8,
     "metadata": {},
     "output_type": "execute_result"
    }
   ],
   "source": [
    "scaled_patient_blood_volume > patient_blood_volume"
   ]
  },
  {
   "cell_type": "code",
   "execution_count": 17,
   "id": "0bd6767f",
   "metadata": {},
   "outputs": [
    {
     "name": "stdout",
     "output_type": "stream",
     "text": [
      "[ 0  5 10 15 20 25 30 35 40 45 50 55 60 65 70 75 80 85 90 95]\n",
      "weight 0  scaled_patient_blood_volume 0.0\n",
      "weight 5  scaled_patient_blood_volume 0.5670103092783504\n",
      "weight 10  scaled_patient_blood_volume 1.1340206185567008\n",
      "weight 15  scaled_patient_blood_volume 1.7010309278350517\n",
      "weight 20  scaled_patient_blood_volume 2.2680412371134016\n",
      "weight 25  scaled_patient_blood_volume 2.8350515463917523\n",
      "weight 30  scaled_patient_blood_volume 3.4020618556701034\n",
      "weight 35  scaled_patient_blood_volume 3.9690721649484537\n",
      "weight 40  scaled_patient_blood_volume 4.536082474226803\n",
      "weight 45  scaled_patient_blood_volume 5.103092783505155\n",
      "weight 50  scaled_patient_blood_volume 5.6701030927835046\n",
      "weight 55  scaled_patient_blood_volume 6.237113402061856\n",
      "weight 60  scaled_patient_blood_volume 6.804123711340207\n",
      "weight 65  scaled_patient_blood_volume 7.371134020618556\n",
      "weight 70  scaled_patient_blood_volume 7.938144329896907\n",
      "weight 75  scaled_patient_blood_volume 8.505154639175258\n",
      "weight 80  scaled_patient_blood_volume 9.072164948453606\n",
      "weight 85  scaled_patient_blood_volume 9.63917525773196\n",
      "weight 90  scaled_patient_blood_volume 10.20618556701031\n",
      "weight 95  scaled_patient_blood_volume 10.77319587628866\n"
     ]
    }
   ],
   "source": [
    "weight_values = np.arange(0, 100, 5)\n",
    "print(weight_values)\n",
    "\n",
    "median_weight = 48.5\n",
    "\n",
    "for weight in weight_values:\n",
    "    scaled_patient_blood_volume = patient_blood_volume * (weight / median_weight)\n",
    "    print(\"weight\", weight, \" scaled_patient_blood_volume\",scaled_patient_blood_volume/10**6)\n",
    "    \n"
   ]
  },
  {
   "cell_type": "code",
   "execution_count": 20,
   "id": "3b3b8650",
   "metadata": {},
   "outputs": [
    {
     "name": "stdout",
     "output_type": "stream",
     "text": [
      "[ 0  5 10 15 20 25 30 35 40 45 50 55 60 65 70 75 80 85 90 95]\n",
      "weight 0  scaled_patient_blood_volume 0.013095238095238097\n",
      "weight 5  scaled_patient_blood_volume 0.6547619047619048\n",
      "weight 10  scaled_patient_blood_volume 1.3095238095238095\n",
      "weight 15  scaled_patient_blood_volume 1.9642857142857144\n",
      "weight 20  scaled_patient_blood_volume 2.619047619047619\n",
      "weight 25  scaled_patient_blood_volume 3.2738095238095237\n",
      "weight 30  scaled_patient_blood_volume 3.928571428571429\n",
      "weight 35  scaled_patient_blood_volume 4.583333333333334\n",
      "weight 40  scaled_patient_blood_volume 5.238095238095238\n",
      "weight 45  scaled_patient_blood_volume 5.892857142857142\n",
      "weight 50  scaled_patient_blood_volume 6.5476190476190474\n",
      "weight 55  scaled_patient_blood_volume 7.2023809523809526\n",
      "weight 60  scaled_patient_blood_volume 7.857142857142858\n",
      "weight 65  scaled_patient_blood_volume 8.511904761904763\n",
      "weight 70  scaled_patient_blood_volume 9.166666666666668\n",
      "weight 75  scaled_patient_blood_volume 9.821428571428573\n",
      "weight 80  scaled_patient_blood_volume 10.476190476190476\n",
      "weight 85  scaled_patient_blood_volume 11.130952380952381\n",
      "weight 90  scaled_patient_blood_volume 11.785714285714285\n",
      "weight 95  scaled_patient_blood_volume 12.44047619047619\n"
     ]
    }
   ],
   "source": [
    "weight_values = np.arange(0, 100, 5)\n",
    "print(weight_values)\n",
    "\n",
    "median_weight = 42\n",
    "\n",
    "for weight in weight_values:\n",
    "    if(weight == 0):\n",
    "        new_weight = 0.1\n",
    "        scaled_patient_blood_volume = patient_blood_volume * (new_weight / median_weight)\n",
    "    else:\n",
    "        scaled_patient_blood_volume = patient_blood_volume * (weight / median_weight)\n",
    "    print(\"weight\", weight, \" scaled_patient_blood_volume\",scaled_patient_blood_volume/10**6)\n",
    "\n",
    "    \n"
   ]
  },
  {
   "cell_type": "code",
   "execution_count": 26,
   "id": "e9efa1a4",
   "metadata": {},
   "outputs": [],
   "source": [
    "# Function to run a single simulation for a given weight value\n",
    "\n",
    "def run_single_weight_simulation(weight):\n",
    "    start_time = time.monotonic()\n",
    "    command_weight = [\n",
    "        \"/home/venitha_b/Projects/2019-test-ppq-pk/build/run_ppq_pk\",\n",
    "        \"--AL\",\n",
    "        \"-n\", \"1000\",\n",
    "        \"-o\", \"1\",\n",
    "        \"--weight\", str(weight)\n",
    "    ]\n",
    "\n",
    "    try:\n",
    "        # Run the command and capture output\n",
    "        output_weight = subprocess.run(command_weight, capture_output=True, text=True, check=True)\n",
    "\n",
    "        # Process the output\n",
    "        lines_weight = output_weight.stdout.splitlines()\n",
    "        df_weight = pd.DataFrame([line.split(',') for line in lines_weight], columns=[\"PID\", \"HOUR\", \"COMP2CONC_ARTEMETHER\", \"COMP2CONC_LUM\", \"PARASITEDENSITY\"])\n",
    "        \n",
    "        # Clean the DataFrame\n",
    "        df_weight = df_weight.iloc[1:].apply(pd.to_numeric, errors='coerce')\n",
    "\n",
    "        # Calculate the efficacy\n",
    "        if df_weight['PARASITEDENSITY'].isna().any():\n",
    "            failed_treatment_count = np.nan\n",
    "        else:\n",
    "            failed_treatment_count = df_weight[(df_weight['PARASITEDENSITY'] >= 10) & (df_weight['HOUR'] == 671.0)].shape[0]\n",
    "        \n",
    "        total_patients = df_weight['PID'].nunique()\n",
    "        \n",
    "        if total_patients == 0 or np.isnan(failed_treatment_count): \n",
    "            efficacy = np.nan\n",
    "        else:\n",
    "            percentage_failed = (failed_treatment_count / total_patients) * 100\n",
    "            efficacy = (100 - percentage_failed)\n",
    "            if np.isnan(efficacy):\n",
    "                efficacy = np.nan\n",
    "        \n",
    "        end_time = time.monotonic()\n",
    "        today = datetime.date.today()\n",
    "        print(\"\\nToday's date: \", today, \"\\n\")\n",
    "        print(\"Length of simulation: \", datetime.timedelta(seconds=end_time - start_time), \"\\n\")\n",
    "\n",
    "        return efficacy, df_weight, failed_treatment_count\n",
    "        \n",
    "    except subprocess.CalledProcessError as e:\n",
    "        print(f\"Error in subprocess for weight: {weight}: {e}\")\n",
    "        return np.nan, None, 0  # Return NaN, None, and 0 in case of failure\n",
    "    except Exception as e:\n",
    "        print(f\"An unexpected error occurred for weight: {weight}: {e}\")\n",
    "        return np.nan, None, 0  # Return NaN, None, and 0 in case of failure"
   ]
  },
  {
   "cell_type": "code",
   "execution_count": null,
   "id": "91b60390",
   "metadata": {},
   "outputs": [
    {
     "name": "stdout",
     "output_type": "stream",
     "text": [
      "\n",
      "Today's date:  2025-04-14 \n",
      "\n",
      "Length of simulation:  0:01:11.238366 \n",
      "\n",
      "\n",
      "The failed treatment count for weight 54kg is: 430\n",
      "\n",
      "The percentage efficacy for weight 54kg is: 57.0 \n",
      "\n"
     ]
    }
   ],
   "source": [
    "# Define the weight values to use\n",
    "#weight_values = [10, 15, 20, 30, 40]\n",
    "\n",
    "weight_values = [54]\n",
    "\n",
    "for weight in weight_values:\n",
    "\n",
    "    #Run the simulation\n",
    "\n",
    "    efficacy, df_weight, failed_treatment_count = run_single_weight_simulation(weight)\n",
    "\n",
    "    # Save the DataFrame to a pickle file\n",
    "    df_weight.to_pickle(f\"df_weight_{weight}kg_objective_6.pyobj\")\n",
    "\n",
    "    # Save the DataFrame to a CSV file\n",
    "    df_weight.to_csv(f\"df_weight_{weight}kg_objective_6.csv\", index=False)\n",
    "\n",
    "    print(f\"\\nThe failed treatment count for weight {weight}kg is:\", failed_treatment_count)\n",
    "    print(f\"\\nThe percentage efficacy for weight {weight}kg is:\", efficacy, \"\\n\")"
   ]
  },
  {
   "cell_type": "code",
   "execution_count": 203,
   "id": "6900daac",
   "metadata": {},
   "outputs": [],
   "source": [
    "# Function to run a single simulation for a given weight value\n",
    "\n",
    "def run_single_weight_simulation(weight):\n",
    "    start_time = time.monotonic()\n",
    "    command_weight = [\n",
    "        \"/home/venitha_b/Projects/2019-test-ppq-pk/build/run_ppq_pk\",\n",
    "        \"--AL\",\n",
    "        \"-n\", \"1000\",\n",
    "        \"-o\", \"1\",\n",
    "        \"--weight\", str(weight)\n",
    "    ]\n",
    "\n",
    "    try:\n",
    "        # Run the command and capture output\n",
    "        output_weight = subprocess.run(command_weight, capture_output=True, text=True, check=True)\n",
    "\n",
    "        # Process the output\n",
    "        lines_weight = output_weight.stdout.splitlines()\n",
    "        df_weight = pd.DataFrame([line.split(',') for line in lines_weight], columns=[\"PID\", \"HOUR\", \"COMP2CONC_ARTEMETHER\", \"COMP2CONC_LUM\", \"PARASITEDENSITY\"])\n",
    "        \n",
    "        # Clean the DataFrame\n",
    "        df_weight = df_weight.iloc[1:].apply(pd.to_numeric, errors='coerce')\n",
    "\n",
    "        # Calculate the efficacy\n",
    "        if df_weight['PARASITEDENSITY'].isna().any():\n",
    "            failed_treatment_count = np.nan\n",
    "        else:\n",
    "            failed_treatment_count = df_weight[(df_weight['PARASITEDENSITY'] >= 10) & (df_weight['HOUR'] == 671.0)].shape[0]\n",
    "        \n",
    "        total_patients = df_weight['PID'].nunique()\n",
    "        \n",
    "        if total_patients == 0 or np.isnan(failed_treatment_count): \n",
    "            efficacy = np.nan\n",
    "        else:\n",
    "            percentage_failed = (failed_treatment_count / total_patients) * 100\n",
    "            efficacy = (100 - percentage_failed)\n",
    "            if np.isnan(efficacy):\n",
    "                efficacy = np.nan\n",
    "        \n",
    "        end_time = time.monotonic()\n",
    "        today = datetime.date.today()\n",
    "        print(\"\\nToday's date: \", today, \"\\n\")\n",
    "        print(\"Length of simulation: \", datetime.timedelta(seconds=end_time - start_time), \"\\n\")\n",
    "\n",
    "        return efficacy, df_weight, failed_treatment_count\n",
    "        \n",
    "    except subprocess.CalledProcessError as e:\n",
    "        print(f\"Error in subprocess for weight: {weight}: {e}\")\n",
    "        return np.nan, None, 0  # Return NaN, None, and 0 in case of failure\n",
    "    except Exception as e:\n",
    "        print(f\"An unexpected error occurred for weight: {weight}: {e}\")\n",
    "        return np.nan, None, 0  # Return NaN, None, and 0 in case of failure"
   ]
  },
  {
   "cell_type": "code",
   "execution_count": 204,
   "id": "6c2235aa",
   "metadata": {},
   "outputs": [
    {
     "name": "stdout",
     "output_type": "stream",
     "text": [
      "\n",
      "Today's date:  2025-04-14 \n",
      "\n",
      "Length of simulation:  0:00:24.888768 \n",
      "\n",
      "\n",
      "The failed treatment count for weight 54kg is: 0\n",
      "\n",
      "The percentage efficacy for weight 54kg is: 100.0 \n",
      "\n"
     ]
    }
   ],
   "source": [
    "# Define the weight values to use\n",
    "#weight_values = [10, 15, 20, 30, 40]\n",
    "\n",
    "weight_values = [54]\n",
    "\n",
    "for weight in weight_values:\n",
    "\n",
    "    #Run the simulation\n",
    "\n",
    "    efficacy, df_weight, failed_treatment_count = run_single_weight_simulation(weight)\n",
    "\n",
    "    # Save the DataFrame to a pickle file\n",
    "    df_weight.to_pickle(f\"df_weight_{weight}kg_objective_6.pyobj\")\n",
    "\n",
    "    # Save the DataFrame to a CSV file\n",
    "    df_weight.to_csv(f\"df_weight_{weight}kg_objective_6.csv\", index=False)\n",
    "\n",
    "    print(f\"\\nThe failed treatment count for weight {weight}kg is:\", failed_treatment_count)\n",
    "    print(f\"\\nThe percentage efficacy for weight {weight}kg is:\", efficacy, \"\\n\")"
   ]
  },
  {
   "cell_type": "code",
   "execution_count": 205,
   "id": "e6aedb9d",
   "metadata": {},
   "outputs": [
    {
     "name": "stdout",
     "output_type": "stream",
     "text": [
      "\n",
      "Today's date:  2025-04-14 \n",
      "\n",
      "Length of simulation:  0:00:22.721760 \n",
      "\n",
      "\n",
      "The failed treatment count for weight 5kg is: 625\n",
      "\n",
      "The percentage efficacy for weight 5kg is: 37.5 \n",
      "\n",
      "\n",
      "Today's date:  2025-04-14 \n",
      "\n",
      "Length of simulation:  0:00:23.005733 \n",
      "\n",
      "\n",
      "The failed treatment count for weight 10kg is: 452\n",
      "\n",
      "The percentage efficacy for weight 10kg is: 54.8 \n",
      "\n",
      "\n",
      "Today's date:  2025-04-14 \n",
      "\n",
      "Length of simulation:  0:00:25.250834 \n",
      "\n",
      "\n",
      "The failed treatment count for weight 15kg is: 57\n",
      "\n",
      "The percentage efficacy for weight 15kg is: 94.3 \n",
      "\n",
      "\n",
      "Today's date:  2025-04-14 \n",
      "\n",
      "Length of simulation:  0:00:20.792038 \n",
      "\n",
      "\n",
      "The failed treatment count for weight 20kg is: 26\n",
      "\n",
      "The percentage efficacy for weight 20kg is: 97.4 \n",
      "\n",
      "\n",
      "Today's date:  2025-04-14 \n",
      "\n",
      "Length of simulation:  0:00:24.069283 \n",
      "\n",
      "\n",
      "The failed treatment count for weight 25kg is: 3\n",
      "\n",
      "The percentage efficacy for weight 25kg is: 99.7 \n",
      "\n",
      "\n",
      "Today's date:  2025-04-14 \n",
      "\n",
      "Length of simulation:  0:00:23.896177 \n",
      "\n",
      "\n",
      "The failed treatment count for weight 30kg is: 3\n",
      "\n",
      "The percentage efficacy for weight 30kg is: 99.7 \n",
      "\n",
      "\n",
      "Today's date:  2025-04-14 \n",
      "\n",
      "Length of simulation:  0:00:26.192069 \n",
      "\n",
      "\n",
      "The failed treatment count for weight 35kg is: 0\n",
      "\n",
      "The percentage efficacy for weight 35kg is: 100.0 \n",
      "\n",
      "\n",
      "Today's date:  2025-04-14 \n",
      "\n",
      "Length of simulation:  0:00:24.892339 \n",
      "\n",
      "\n",
      "The failed treatment count for weight 40kg is: 0\n",
      "\n",
      "The percentage efficacy for weight 40kg is: 100.0 \n",
      "\n",
      "\n",
      "Today's date:  2025-04-14 \n",
      "\n",
      "Length of simulation:  0:00:25.200466 \n",
      "\n",
      "\n",
      "The failed treatment count for weight 45kg is: 0\n",
      "\n",
      "The percentage efficacy for weight 45kg is: 100.0 \n",
      "\n",
      "\n",
      "Today's date:  2025-04-14 \n",
      "\n",
      "Length of simulation:  0:00:23.074995 \n",
      "\n",
      "\n",
      "The failed treatment count for weight 50kg is: 0\n",
      "\n",
      "The percentage efficacy for weight 50kg is: 100.0 \n",
      "\n"
     ]
    }
   ],
   "source": [
    "# Define the weight values to use\n",
    "weight_values = [5, 10, 15, 20, 25, 30, 35, 40, 45, 50]\n",
    "\n",
    "\n",
    "for weight in weight_values:\n",
    "\n",
    "    #Run the simulation\n",
    "\n",
    "    efficacy, df_weight, failed_treatment_count = run_single_weight_simulation(weight)\n",
    "\n",
    "    # Save the DataFrame to a pickle file\n",
    "    df_weight.to_pickle(f\"df_weight_{weight}kg_objective_6.pyobj\")\n",
    "\n",
    "    # Save the DataFrame to a CSV file\n",
    "    df_weight.to_csv(f\"df_weight_{weight}kg_objective_6.csv\", index=False)\n",
    "\n",
    "    print(f\"\\nThe failed treatment count for weight {weight}kg is:\", failed_treatment_count)\n",
    "    print(f\"\\nThe percentage efficacy for weight {weight}kg is:\", efficacy, \"\\n\")"
   ]
  },
  {
   "cell_type": "code",
   "execution_count": 207,
   "id": "e81f4138",
   "metadata": {},
   "outputs": [
    {
     "name": "stdout",
     "output_type": "stream",
     "text": [
      "Weight: 5 kg, Total Blood Volume: 350000 microliters\n",
      "Weight: 10 kg, Total Blood Volume: 700000 microliters\n",
      "Weight: 15 kg, Total Blood Volume: 1050000 microliters\n",
      "Weight: 20 kg, Total Blood Volume: 1400000 microliters\n",
      "Weight: 25 kg, Total Blood Volume: 1750000 microliters\n",
      "Weight: 30 kg, Total Blood Volume: 2100000 microliters\n",
      "Weight: 35 kg, Total Blood Volume: 2450000 microliters\n",
      "Weight: 40 kg, Total Blood Volume: 2800000 microliters\n",
      "Weight: 45 kg, Total Blood Volume: 3150000 microliters\n",
      "Weight: 50 kg, Total Blood Volume: 3500000 microliters\n",
      "Weight: 75 kg, Total Blood Volume: 5250000 microliters\n"
     ]
    }
   ],
   "source": [
    "weight_values = [5, 10, 15, 20, 25, 30, 35, 40, 45, 50, 75]\n",
    "\n",
    "for weight in weight_values:\n",
    "    tbv = weight * (70) * (1000)\n",
    "    print(f\"Weight: {weight} kg, Total Blood Volume: {tbv} microliters\")"
   ]
  },
  {
   "cell_type": "code",
   "execution_count": 38,
   "id": "d9f839e6",
   "metadata": {},
   "outputs": [
    {
     "name": "stdout",
     "output_type": "stream",
     "text": [
      "weight 5  TVCL 14.191091556443677\n",
      "weight 10  TVCL 23.86647603670149\n",
      "weight 15  TVCL 32.348693348804716\n",
      "weight 20  TVCL 40.138468288001924\n",
      "weight 25  TVCL 47.45077447702236\n",
      "weight 30  TVCL 54.40380055030314\n",
      "weight 35  TVCL 61.071604764438035\n",
      "weight 40  TVCL 67.50458819431144\n",
      "weight 45  TVCL 73.73907477186644\n",
      "weight 50  TVCL 79.80237231748109\n"
     ]
    }
   ],
   "source": [
    "mw_artemether = 48.5\n",
    "THETA1_pe = 78.0\n",
    "THETA2_pe = 129.0\n",
    "\n",
    "for weight in weight_values:\n",
    "    TVCL = THETA1_pe * ((weight/mw_artemether)** 0.75 )\n",
    "    print(\"weight\", weight, \" TVCL\",TVCL)\n"
   ]
  },
  {
   "cell_type": "code",
   "execution_count": null,
   "id": "3108ccb2",
   "metadata": {},
   "outputs": [
    {
     "name": "stdout",
     "output_type": "stream",
     "text": [
      "weight:  14\n",
      "CL:  30.717390974075204\n",
      "V2:  46.577235227626986\n",
      "ETA2_rv:  0.22380597130745325\n",
      "TVCL:  30.717390974075204\n",
      "TVV2:  37.23711340206185\n",
      "i_artemether_k20:  0.659493652295089\n"
     ]
    }
   ],
   "source": [
    "import math\n",
    "\n",
    "weight = 14\n",
    "\n",
    "mw_artemether = 48.5\n",
    "THETA1_pe = 78.0\n",
    "THETA2_pe = 129.0\n",
    "TVCL = THETA1_pe * ((weight/mw_artemether)** 0.75 )\n",
    "\n",
    "ETA1_rv = 0.0; \n",
    "CL = TVCL * math.exp(ETA1_rv) \n",
    "CL = TVCL\n",
    "\n",
    "TVV2 = THETA2_pe * (weight/mw_artemether) \n",
    "V2 = TVV2\n",
    "\n",
    "ETA2_rv = np.random.normal(loc = 0, scale = math.sqrt(0.0162))\n",
    "V2 *= math.exp(ETA2_rv)\n",
    "\n",
    "    \n",
    "i_artemether_k20 = CL/V2 \n",
    "\n",
    "print(\"weight: \", weight)\n",
    "print(\"CL: \", CL)\n",
    "print(\"V2: \", V2)\n",
    "print(\"ETA2_rv: \", ETA2_rv)\n",
    "print(\"TVCL: \", TVCL)\n",
    "print(\"TVV2: \", TVV2)\n",
    "print(\"i_artemether_k20: \", i_artemether_k20)"
   ]
  },
  {
   "cell_type": "code",
   "execution_count": null,
   "id": "f3b2348b",
   "metadata": {},
   "outputs": [
    {
     "name": "stdout",
     "output_type": "stream",
     "text": [
      "weight:  5\n",
      "patient_blood_volume:  567010.3092783504\n",
      "TVF1:  2.6887446243479705\n",
      "F1:  0.9156942823495036\n",
      "ETA4_rv:  0.3405657324453275\n",
      "i_artemether_F1_indiv:  0.9156942823495036\n"
     ]
    }
   ],
   "source": [
    "weight = 5\n",
    "mw_artemether = 48.5\n",
    "patient_blood_volume = (weight * 70 * 1000)\n",
    "\n",
    "THETA7_pe = 0.278\n",
    "THETA6_pe = -0.375\n",
    "\n",
    "    \n",
    "initial_log10_totalparasitaemia = np.log10(20000*patient_blood_volume )\n",
    "TVF1 = 1.0 + THETA7_pe*(initial_log10_totalparasitaemia-3.98)\n",
    "    \n",
    "F1=TVF1\n",
    "   \n",
    "ETA4_rv = np.random.normal(loc = 0, scale = math.sqrt(0.08800))\n",
    "F1 *= ETA4_rv\n",
    " \n",
    "i_artemether_F1_indiv = F1\n",
    " \n",
    "print(\"weight: \", weight)\n",
    "print(\"patient_blood_volume: \", patient_blood_volume)\n",
    "print(\"TVF1: \", TVF1)\n",
    "print(\"F1: \", F1)\n",
    "print(\"ETA4_rv: \", ETA4_rv)\n",
    "print(\"i_artemether_F1_indiv: \", i_artemether_F1_indiv)\n",
    "\n",
    "   \n",
    "    "
   ]
  },
  {
   "cell_type": "code",
   "execution_count": 171,
   "id": "5bd4ab7e",
   "metadata": {},
   "outputs": [
    {
     "name": "stdout",
     "output_type": "stream",
     "text": [
      "i_artemether_KTR:  15.55708845125599\n"
     ]
    }
   ],
   "source": [
    "TVMT_pe = 0.982\n",
    "\n",
    "MT = TVMT_pe\n",
    "\n",
    "i_artemether_KTR = 8.0/MT\n",
    "\n",
    "ETA_rv = np.random.normal( loc = 0, scale = math.sqrt(0.23000) )\n",
    "i_artemether_KTR *= math.exp(-ETA_rv);   \n",
    "\n",
    "print(\"i_artemether_KTR: \", i_artemether_KTR)"
   ]
  },
  {
   "cell_type": "code",
   "execution_count": null,
   "id": "99192df2",
   "metadata": {},
   "outputs": [],
   "source": []
  }
 ],
 "metadata": {
  "kernelspec": {
   "display_name": "pkpd_AL_env",
   "language": "python",
   "name": "python3"
  },
  "language_info": {
   "codemirror_mode": {
    "name": "ipython",
    "version": 3
   },
   "file_extension": ".py",
   "mimetype": "text/x-python",
   "name": "python",
   "nbconvert_exporter": "python",
   "pygments_lexer": "ipython3",
   "version": "3.13.2"
  }
 },
 "nbformat": 4,
 "nbformat_minor": 5
}
