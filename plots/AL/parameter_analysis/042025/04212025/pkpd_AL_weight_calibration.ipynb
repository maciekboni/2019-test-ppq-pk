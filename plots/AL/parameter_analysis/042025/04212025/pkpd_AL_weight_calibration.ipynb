{
 "cells": [
  {
   "cell_type": "code",
   "execution_count": 1,
   "id": "fbdc770a",
   "metadata": {},
   "outputs": [],
   "source": [
    "# Pasting these here for easier access\n",
    "\n",
    "import subprocess\n",
    "import pandas as pd\n",
    "import numpy as np\n",
    "import matplotlib.pyplot as plt \n",
    "import matplotlib.colors as mcolacors\n",
    "import pickle\n",
    "from tqdm import tqdm  # For progress bar\n",
    "from multiprocessing import Pool, cpu_count\n",
    "import os\n",
    "import sys\n",
    "import time\n",
    "import datetime "
   ]
  },
  {
   "cell_type": "markdown",
   "id": "2f84dece",
   "metadata": {},
   "source": [
    "# 04/21/2025"
   ]
  },
  {
   "cell_type": "markdown",
   "id": "1310c729",
   "metadata": {},
   "source": [
    "# Examining the PKPD curves of different weight groups to figure out where the bug is"
   ]
  },
  {
   "cell_type": "markdown",
   "id": "278d3aa3",
   "metadata": {},
   "source": [
    "<br>\n",
    "\n",
    "---\n",
    "\n",
    "<br>\n",
    "\n",
    "# Objective 1: Creating PKPD curves for weight groups > 15, > 25, > 35 and <= 35\n",
    "<br>\n",
    "\n",
    "---\n",
    "    \n",
    "# Using previously calibrated --pmax_artemether 0.9999994 and --ec50_lum 64 values\n",
    "\n",
    "--- "
   ]
  },
  {
   "cell_type": "markdown",
   "id": "43f30dcf",
   "metadata": {},
   "source": [
    "### Function call to examine state values of one weight group"
   ]
  },
  {
   "cell_type": "code",
   "execution_count": null,
   "id": "60dd0e64",
   "metadata": {},
   "outputs": [],
   "source": [
    "# Function to run a single simulation for a given weight value\n",
    "\n",
    "def run_single_weight_simulation(weight):\n",
    "    start_time = time.monotonic()\n",
    "    command_weight = [\n",
    "        \"/home/venitha_b/Projects/2019-test-ppq-pk/build/run_ppq_pk\",\n",
    "        \"--AL\",\n",
    "        \"-n\", \"100\",\n",
    "        \"--pmax_artemether\", \"0.9999994\",\n",
    "        \"--ec50_lum\", \"64\",\n",
    "        \"--weight\", str(weight)\n",
    "    ]\n",
    "\n",
    "    try:\n",
    "        # Run the command and capture output\n",
    "        output_weight = subprocess.run(command_weight, capture_output=True, text=True, check=True)\n",
    "\n",
    "        # Process the output\n",
    "        lines_weight = output_weight.stdout.splitlines()\n",
    "        df_weight = pd.DataFrame([line.split() for line in lines_weight], columns=[\"PID\", \"HOUR\", \"COMP2CONC_ART\", \"COMP2CONC_LUM\", \"PARASITEDENSITY\"])\n",
    "        \n",
    "        # Clean the DataFrame\n",
    "        df_weight = df_weight.iloc[1:].apply(pd.to_numeric, errors='coerce')\n",
    "\n",
    "        # Calculate the efficacy\n",
    "        if df_weight['PARASITEDENSITY'].isna().any():\n",
    "            failed_treatment_count = np.nan\n",
    "        else:\n",
    "            failed_treatment_count = df_weight[(df_weight['PARASITEDENSITY'] >= 10) & (df_weight['HOUR'] == 671.0)].shape[0]\n",
    "        \n",
    "        total_patients = df_weight['PID'].nunique()\n",
    "        \n",
    "        if total_patients == 0 or np.isnan(failed_treatment_count): \n",
    "            efficacy = np.nan\n",
    "        else:\n",
    "            percentage_failed = (failed_treatment_count / total_patients) * 100\n",
    "            efficacy = (100 - percentage_failed)\n",
    "            if np.isnan(efficacy):\n",
    "                efficacy = np.nan\n",
    "        \n",
    "        end_time = time.monotonic()\n",
    "        today = datetime.date.today()\n",
    "        print(\"\\nToday's date: \", today, \"\\n\")\n",
    "        print(\"Length of simulation: \", datetime.timedelta(seconds=end_time - start_time), \"\\n\")\n",
    "\n",
    "        return efficacy, df_weight, failed_treatment_count\n",
    "        \n",
    "    except subprocess.CalledProcessError as e:\n",
    "        print(f\"Error in subprocess for weight: {weight}: {e}\")\n",
    "        return np.nan, None, 0  # Return NaN, None, and 0 in case of failure\n",
    "    except Exception as e:\n",
    "        print(f\"An unexpected error occurred for weight: {weight}: {e}\")\n",
    "        return np.nan, None, 0  # Return NaN, None, and 0 in case of failure"
   ]
  },
  {
   "cell_type": "code",
   "execution_count": 26,
   "id": "17360938",
   "metadata": {},
   "outputs": [
    {
     "name": "stdout",
     "output_type": "stream",
     "text": [
      "\n",
      "Today's date:  2025-04-21 \n",
      "\n",
      "Length of simulation:  0:00:26.540929 \n",
      "\n",
      "\n",
      "The failed treatment count for weight 10kg is: 825\n",
      "\n",
      "The percentage efficacy for weight 10kg is: 17.5 \n",
      "\n",
      "\n",
      "Today's date:  2025-04-21 \n",
      "\n",
      "Length of simulation:  0:00:24.291262 \n",
      "\n",
      "\n",
      "The failed treatment count for weight 15kg is: 483\n",
      "\n",
      "The percentage efficacy for weight 15kg is: 51.7 \n",
      "\n",
      "\n",
      "Today's date:  2025-04-21 \n",
      "\n",
      "Length of simulation:  0:00:24.057190 \n",
      "\n",
      "\n",
      "The failed treatment count for weight 20kg is: 442\n",
      "\n",
      "The percentage efficacy for weight 20kg is: 55.8 \n",
      "\n",
      "\n",
      "Today's date:  2025-04-21 \n",
      "\n",
      "Length of simulation:  0:00:26.082786 \n",
      "\n",
      "\n",
      "The failed treatment count for weight 30kg is: 175\n",
      "\n",
      "The percentage efficacy for weight 30kg is: 82.5 \n",
      "\n",
      "\n",
      "Today's date:  2025-04-21 \n",
      "\n",
      "Length of simulation:  0:00:26.631580 \n",
      "\n",
      "\n",
      "The failed treatment count for weight 40kg is: 79\n",
      "\n",
      "The percentage efficacy for weight 40kg is: 92.1 \n",
      "\n"
     ]
    }
   ],
   "source": [
    "# Define the weight values to use\n",
    "weight_values = [10, 15, 20, 30, 40]\n",
    "\n",
    "#weight_values = [54]\n",
    "\n",
    "for weight in weight_values:\n",
    "        \n",
    "        efficacy, df_weight, failed_treatment_count = run_single_weight_simulation(weight)\n",
    "        \n",
    "        # Save the DataFrame to a pickle file\n",
    "        df_weight.to_pickle(f\"df_weight_{weight}kg.pyobj\")\n",
    "\n",
    "        # Save the DataFrame to a CSV file\n",
    "        df_weight.to_csv(f\"df_weight_{weight}kg.csv\", index=False)\n",
    "        print(f\"\\nThe failed treatment count for weight {weight}kg is:\", failed_treatment_count)\n",
    "        print(f\"\\nThe percentage efficacy for weight {weight}kg is:\", efficacy, \"\\n\")\n"
   ]
  },
  {
   "cell_type": "code",
   "execution_count": null,
   "id": "e37091e2",
   "metadata": {},
   "outputs": [],
   "source": []
  }
 ],
 "metadata": {
  "kernelspec": {
   "display_name": "pkpd_AL_env",
   "language": "python",
   "name": "python3"
  },
  "language_info": {
   "codemirror_mode": {
    "name": "ipython",
    "version": 3
   },
   "file_extension": ".py",
   "mimetype": "text/x-python",
   "name": "python",
   "nbconvert_exporter": "python",
   "pygments_lexer": "ipython3",
   "version": "3.13.2"
  }
 },
 "nbformat": 4,
 "nbformat_minor": 5
}
