{
 "cells": [
  {
   "cell_type": "markdown",
   "id": "e6d5b9fc",
   "metadata": {},
   "source": [
    "# Date: 04/13/2025"
   ]
  },
  {
   "cell_type": "code",
   "execution_count": 3,
   "id": "eb576456",
   "metadata": {},
   "outputs": [],
   "source": [
    "# Pasting these here for easier access\n",
    "\n",
    "import subprocess\n",
    "import pandas as pd\n",
    "import numpy as np\n",
    "import matplotlib.pyplot as plt \n",
    "import matplotlib.colors as mcolacors\n",
    "import pickle\n",
    "from tqdm import tqdm  # For progress bar\n",
    "from multiprocessing import Pool, cpu_count\n",
    "import os\n",
    "import sys\n",
    "import time\n",
    "import datetime "
   ]
  },
  {
   "cell_type": "markdown",
   "id": "70fc733b",
   "metadata": {},
   "source": [
    "<br>\n",
    "\n",
    "## Objective 1: Reverted changes made to main.cpp, pkpd_artemether.cpp and pkpd_lum.cpp to 09092024\n",
    "## Objective 2: Testing if --art and --AL modules give 69.5% / 96.5% efficacy for weight = 54 kg after revision"
   ]
  },
  {
   "cell_type": "markdown",
   "id": "4053a021",
   "metadata": {},
   "source": [
    "### Objective 2.1: Testing efficacy of artemether monotherapy with pmax_lum = 0"
   ]
  },
  {
   "cell_type": "code",
   "execution_count": 17,
   "id": "aeb74279",
   "metadata": {},
   "outputs": [],
   "source": [
    "# Function to run a single simulation for a given weight value\n",
    "\n",
    "def run_single_weight_simulation(weight):\n",
    "    start_time = time.monotonic()\n",
    "    command_weight = [\n",
    "        \"/home/venitha_b/Projects/2019-test-ppq-pk/build/run_ppq_pk\",\n",
    "        \"--AL\",\n",
    "        \"-n\", \"10000\",\n",
    "        \"--pmax_lum\", \"0\",\n",
    "        \"-o\", \"1\",\n",
    "        \"--weight\", str(weight)\n",
    "    ]\n",
    "\n",
    "    try:\n",
    "        # Run the command and capture output\n",
    "        output_weight = subprocess.run(command_weight, capture_output=True, text=True, check=True)\n",
    "\n",
    "        # Process the output\n",
    "        lines_weight = output_weight.stdout.splitlines()\n",
    "        df_weight = pd.DataFrame([line.split(',') for line in lines_weight], columns=[\"PID\", \"HOUR\", \"COMP2CONC_ARTEMETHER\", \"COMP2CONC_LUM\", \"PARASITEDENSITY\"])\n",
    "        \n",
    "        # Clean the DataFrame\n",
    "        df_weight = df_weight.iloc[1:].apply(pd.to_numeric, errors='coerce')\n",
    "\n",
    "        # Calculate the efficacy\n",
    "        if df_weight['PARASITEDENSITY'].isna().any():\n",
    "            failed_treatment_count = np.nan\n",
    "        else:\n",
    "            failed_treatment_count = df_weight[(df_weight['PARASITEDENSITY'] >= 10) & (df_weight['HOUR'] == 671.0)].shape[0]\n",
    "        \n",
    "        total_patients = df_weight['PID'].nunique()\n",
    "        \n",
    "        if total_patients == 0 or np.isnan(failed_treatment_count): \n",
    "            efficacy = np.nan\n",
    "        else:\n",
    "            percentage_failed = (failed_treatment_count / total_patients) * 100\n",
    "            efficacy = (100 - percentage_failed)\n",
    "            if np.isnan(efficacy):\n",
    "                efficacy = np.nan\n",
    "        \n",
    "        end_time = time.monotonic()\n",
    "        today = datetime.date.today()\n",
    "        print(\"\\nToday's date: \", today, \"\\n\")\n",
    "        print(\"Length of simulation: \", datetime.timedelta(seconds=end_time - start_time), \"\\n\")\n",
    "\n",
    "        return efficacy, df_weight, failed_treatment_count\n",
    "        \n",
    "    except subprocess.CalledProcessError as e:\n",
    "        print(f\"Error in subprocess for weight: {weight}: {e}\")\n",
    "        return np.nan, None, 0  # Return NaN, None, and 0 in case of failure\n",
    "    except Exception as e:\n",
    "        print(f\"An unexpected error occurred for weight: {weight}: {e}\")\n",
    "        return np.nan, None, 0  # Return NaN, None, and 0 in case of failure"
   ]
  },
  {
   "cell_type": "code",
   "execution_count": 18,
   "id": "5d6a03a2",
   "metadata": {},
   "outputs": [
    {
     "name": "stdout",
     "output_type": "stream",
     "text": [
      "\n",
      "Today's date:  2025-04-13 \n",
      "\n",
      "Length of simulation:  0:04:28.233104 \n",
      "\n",
      "\n",
      "The failed treatment count for weight 54kg is: 3171\n",
      "\n",
      "The percentage efficacy for weight 54kg is: 68.28999999999999 \n",
      "\n"
     ]
    }
   ],
   "source": [
    "# Define the weight values to use\n",
    "#weight_values = [10, 15, 20, 30, 40]\n",
    "\n",
    "weight_values = [54]\n",
    "\n",
    "for weight in weight_values:\n",
    "\n",
    "    #Run the simulation\n",
    "\n",
    "    efficacy, df_weight, failed_treatment_count = run_single_weight_simulation(weight)\n",
    "\n",
    "    # Save the DataFrame to a pickle file\n",
    "    df_weight.to_pickle(f\"df_weight_{weight}kg.pyobj\")\n",
    "\n",
    "    # Save the DataFrame to a CSV file\n",
    "    df_weight.to_csv(f\"df_weight_{weight}kg.csv\", index=False)\n",
    "\n",
    "    print(f\"\\nThe failed treatment count for weight {weight}kg is:\", failed_treatment_count)\n",
    "    print(f\"\\nThe percentage efficacy for weight {weight}kg is:\", efficacy, \"\\n\")"
   ]
  },
  {
   "cell_type": "markdown",
   "id": "72abb197",
   "metadata": {},
   "source": [
    "### Objective 2.2: Testing efficacy of artemether monotherapy with --art flag (to-do later)\n",
    "### Objective 2.3: Testing AL efficacy with --AL flag"
   ]
  },
  {
   "cell_type": "code",
   "execution_count": 15,
   "id": "e4609136",
   "metadata": {},
   "outputs": [],
   "source": [
    "# Function to run a single simulation for a given weight value\n",
    "\n",
    "def run_single_weight_simulation(weight):\n",
    "    start_time = time.monotonic()\n",
    "    command_weight = [\n",
    "        \"/home/venitha_b/Projects/2019-test-ppq-pk/build/run_ppq_pk\",\n",
    "        \"--AL\",\n",
    "        \"-n\", \"10000\",\n",
    "        \"-o\", \"1\",\n",
    "        \"--weight\", str(weight)\n",
    "    ]\n",
    "\n",
    "    try:\n",
    "        # Run the command and capture output\n",
    "        output_weight = subprocess.run(command_weight, capture_output=True, text=True, check=True)\n",
    "\n",
    "        # Process the output\n",
    "        lines_weight = output_weight.stdout.splitlines()\n",
    "        df_weight = pd.DataFrame([line.split(',') for line in lines_weight], columns=[\"PID\", \"HOUR\", \"COMP2CONC_ARTEMETHER\", \"COMP2CONC_LUM\", \"PARASITEDENSITY\"])\n",
    "        \n",
    "        # Clean the DataFrame\n",
    "        df_weight = df_weight.iloc[1:].apply(pd.to_numeric, errors='coerce')\n",
    "\n",
    "        # Calculate the efficacy\n",
    "        if df_weight['PARASITEDENSITY'].isna().any():\n",
    "            failed_treatment_count = np.nan\n",
    "        else:\n",
    "            failed_treatment_count = df_weight[(df_weight['PARASITEDENSITY'] >= 10) & (df_weight['HOUR'] == 671.0)].shape[0]\n",
    "        \n",
    "        total_patients = df_weight['PID'].nunique()\n",
    "        \n",
    "        if total_patients == 0 or np.isnan(failed_treatment_count): \n",
    "            efficacy = np.nan\n",
    "        else:\n",
    "            percentage_failed = (failed_treatment_count / total_patients) * 100\n",
    "            efficacy = (100 - percentage_failed)\n",
    "            if np.isnan(efficacy):\n",
    "                efficacy = np.nan\n",
    "        \n",
    "        end_time = time.monotonic()\n",
    "        today = datetime.date.today()\n",
    "        print(\"\\nToday's date: \", today, \"\\n\")\n",
    "        print(\"Length of simulation: \", datetime.timedelta(seconds=end_time - start_time), \"\\n\")\n",
    "\n",
    "        return efficacy, df_weight, failed_treatment_count\n",
    "        \n",
    "    except subprocess.CalledProcessError as e:\n",
    "        print(f\"Error in subprocess for weight: {weight}: {e}\")\n",
    "        return np.nan, None, 0  # Return NaN, None, and 0 in case of failure\n",
    "    except Exception as e:\n",
    "        print(f\"An unexpected error occurred for weight: {weight}: {e}\")\n",
    "        return np.nan, None, 0  # Return NaN, None, and 0 in case of failure"
   ]
  },
  {
   "cell_type": "code",
   "execution_count": 16,
   "id": "a29fd8f9",
   "metadata": {},
   "outputs": [
    {
     "name": "stdout",
     "output_type": "stream",
     "text": [
      "\n",
      "Today's date:  2025-04-13 \n",
      "\n",
      "Length of simulation:  0:04:37.493341 \n",
      "\n",
      "\n",
      "The failed treatment count for weight 54kg is: 249\n",
      "\n",
      "The percentage efficacy for weight 54kg is: 97.51 \n",
      "\n"
     ]
    }
   ],
   "source": [
    "# Define the weight values to use\n",
    "#weight_values = [10, 15, 20, 30, 40]\n",
    "\n",
    "weight_values = [54]\n",
    "\n",
    "for weight in weight_values:\n",
    "\n",
    "    #Run the simulation\n",
    "\n",
    "    efficacy, df_weight, failed_treatment_count = run_single_weight_simulation(weight)\n",
    "\n",
    "    # Save the DataFrame to a pickle file\n",
    "    df_weight.to_pickle(f\"df_weight_{weight}kg.pyobj\")\n",
    "\n",
    "    # Save the DataFrame to a CSV file\n",
    "    df_weight.to_csv(f\"df_weight_{weight}kg.csv\", index=False)\n",
    "\n",
    "    print(f\"\\nThe failed treatment count for weight {weight}kg is:\", failed_treatment_count)\n",
    "    print(f\"\\nThe percentage efficacy for weight {weight}kg is:\", efficacy, \"\\n\")"
   ]
  },
  {
   "cell_type": "code",
   "execution_count": null,
   "id": "ef2da8f5",
   "metadata": {},
   "outputs": [],
   "source": []
  }
 ],
 "metadata": {
  "kernelspec": {
   "display_name": "pkpd_AL_env",
   "language": "python",
   "name": "python3"
  },
  "language_info": {
   "codemirror_mode": {
    "name": "ipython",
    "version": 3
   },
   "file_extension": ".py",
   "mimetype": "text/x-python",
   "name": "python",
   "nbconvert_exporter": "python",
   "pygments_lexer": "ipython3",
   "version": "3.13.2"
  }
 },
 "nbformat": 4,
 "nbformat_minor": 5
}
