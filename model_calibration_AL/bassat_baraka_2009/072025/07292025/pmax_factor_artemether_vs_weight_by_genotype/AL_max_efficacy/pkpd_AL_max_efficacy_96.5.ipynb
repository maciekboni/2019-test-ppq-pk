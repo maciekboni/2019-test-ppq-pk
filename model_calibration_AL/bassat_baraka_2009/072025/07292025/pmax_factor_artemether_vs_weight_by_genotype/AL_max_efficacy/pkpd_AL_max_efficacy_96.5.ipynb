{
 "cells": [
  {
   "cell_type": "markdown",
   "id": "55c39207",
   "metadata": {},
   "source": [
    "# PK/PD AL Artemether PMax analysis\n",
    "# Date: 07/29/2025\n",
    "\n",
    "## Analyzing ```pmax_artemether``` effect on different weights and seperating them by genotype efficacy\n",
    "## By scaling ```pmax_artemether``` by a factor\n",
    "\n",
    "<br>"
   ]
  },
  {
   "cell_type": "code",
   "execution_count": 4,
   "id": "3deba148",
   "metadata": {},
   "outputs": [],
   "source": [
    "import subprocess\n",
    "import pandas as pd\n",
    "import numpy as np\n",
    "from scipy.optimize import curve_fit\n",
    "import matplotlib.pyplot as plt \n",
    "import matplotlib.colors as mcolacors\n",
    "import pickle\n",
    "from tqdm import tqdm  # For progress bar\n",
    "from multiprocessing import Pool, cpu_count\n",
    "import os\n",
    "import sys\n",
    "import time\n",
    "import datetime \n",
    "from math import *"
   ]
  },
  {
   "cell_type": "markdown",
   "id": "5cd52cd5",
   "metadata": {},
   "source": [
    "<br>\n",
    "\n",
    "# AL max efficacy: 96.5%, ```pmax_artemether``` = ```pmax_artemether * 0.3```"
   ]
  },
  {
   "cell_type": "code",
   "execution_count": 5,
   "id": "e0f75064",
   "metadata": {},
   "outputs": [],
   "source": [
    "# Function to run a single simulation for a given weight value\n",
    "\n",
    "def run_single_weight_simulation(n_patients, pmax_artemether, weight):\n",
    "    start_time = time.monotonic()\n",
    "    command_weight = [\n",
    "        \"/home/venitha_b/Projects/2019-test-ppq-pk/build/run_ppq_pk\",\n",
    "        \"--AL\",\n",
    "        \"-n\", str(n_patients),\n",
    "        \"--pmax_artemether\", str(pmax_artemether),\n",
    "        \"--ec50_lum\", \"72.789\",\n",
    "        \"--weight\", str(weight),\n",
    "        \"-o\", \"1\"\n",
    "    ]\n",
    "\n",
    "    try:\n",
    "        # Run the command and capture output\n",
    "        output_weight = subprocess.run(command_weight, capture_output=True, text=True, check=True)\n",
    "\n",
    "        # Process the output\n",
    "        lines_weight = output_weight.stdout.splitlines()\n",
    "        df_weight = pd.DataFrame([line.split() for line in lines_weight], columns=[\"PID\", \"HOUR\", \"COMP2CONC_ARTEMETHER\", \"COMP2CONC_LUM\", \"PARASITEDENSITY\"])\n",
    "        \n",
    "        # Clean the DataFrame\n",
    "        df_weight = df_weight.iloc[1:].apply(pd.to_numeric, errors='coerce')\n",
    "\n",
    "        # Clean the DataFrame\n",
    "        df_weight = df_weight.iloc[1:].apply(pd.to_numeric, errors='coerce')\n",
    "\n",
    "        # Calculate the efficacy\n",
    "        failed_treatment_count = df_weight[df_weight['PARASITEDENSITY'] >= 10].shape[0]\n",
    "        total_patients = df_weight['PID'].nunique()\n",
    "        efficacy = (100 - ((failed_treatment_count / total_patients) * 100)) if total_patients > 0 else 0\n",
    "        \n",
    "        end_time = time.monotonic()\n",
    "        today = datetime.date.today()\n",
    "        print(\"\\nToday's date: \", today, \"\\n\")\n",
    "        print(\"Length of simulation: \", datetime.timedelta(seconds=end_time - start_time), \"\\n\")\n",
    "\n",
    "        return efficacy, df_weight, pmax_artemether, failed_treatment_count\n",
    "\n",
    "    except subprocess.CalledProcessError as e:\n",
    "        print(f\"Error in subprocess for weight: {weight}: {e}\")\n",
    "        return np.nan, None, pmax_artemether, 0  # Return NaN, None, and 0 in case of failure\n",
    "    except Exception as e:\n",
    "        print(f\"An unexpected error occurred for weight: {weight}: {e}\")\n",
    "        return np.nan, None, pmax_artemether, 0  # Return NaN, None, and 0 in case of failure"
   ]
  },
  {
   "cell_type": "code",
   "execution_count": 10,
   "id": "44a3e060",
   "metadata": {},
   "outputs": [
    {
     "data": {
      "text/plain": [
       "'/home/venitha_b/Projects/2019-test-ppq-pk/model_calibration_AL/bassat_baraka_2009/072025/07292025/pmax_factor_artemether_vs_weight_by_genotype/AL_max_efficacy'"
      ]
     },
     "execution_count": 10,
     "metadata": {},
     "output_type": "execute_result"
    }
   ],
   "source": [
    "os.getcwd()\n"
   ]
  },
  {
   "cell_type": "code",
   "execution_count": 11,
   "id": "cc90eb3a",
   "metadata": {},
   "outputs": [
    {
     "data": {
      "text/plain": [
       "'/home/venitha_b/Projects/2019-test-ppq-pk/model_calibration_AL/bassat_baraka_2009/072025/07292025/pmax_factor_artemether_vs_weight_by_genotype/AL_max_efficacy'"
      ]
     },
     "execution_count": 11,
     "metadata": {},
     "output_type": "execute_result"
    }
   ],
   "source": [
    "home_dir = \"/home/venitha_b/Projects/2019-test-ppq-pk/model_calibration_AL/bassat_baraka_2009/072025/07292025/pmax_factor_artemether_vs_weight_by_genotype/AL_max_efficacy\"\n",
    "os.chdir(home_dir)\n",
    "os.getcwd()"
   ]
  },
  {
   "cell_type": "code",
   "execution_count": 59,
   "id": "7d275648",
   "metadata": {},
   "outputs": [
    {
     "data": {
      "text/plain": [
       "1.049999999832"
      ]
     },
     "execution_count": 59,
     "metadata": {},
     "output_type": "execute_result"
    }
   ],
   "source": [
    "0.99999999984 * 1.05"
   ]
  },
  {
   "cell_type": "code",
   "execution_count": 58,
   "id": "fc6cf493",
   "metadata": {},
   "outputs": [],
   "source": [
    "pmax_values_final = []\n",
    "# File suffix for saving results\n",
    "pmax_factor = 1.05\n",
    "file_suffix = f\"AL_max_efficacy_96.5_factor_{pmax_factor}\""
   ]
  },
  {
   "cell_type": "code",
   "execution_count": 60,
   "id": "9b96e144",
   "metadata": {},
   "outputs": [
    {
     "name": "stdout",
     "output_type": "stream",
     "text": [
      "\n",
      "Running simulation for weight: 5kg and pmax_artemether: 1.049999999832\n",
      "\n",
      "\n",
      "Today's date:  2025-07-29 \n",
      "\n",
      "Length of simulation:  0:00:12.141120 \n",
      "\n",
      "\n",
      "The failed treatment count for weight 5kg and pmax_artemether 1.049999999832 is: 0\n",
      "\n",
      "The percentage efficacy for weight 5kg and pmax_artemether 1.049999999832 is: 100.0 \n",
      "\n"
     ]
    }
   ],
   "source": [
    "n_patients = 500  # Number of patients to simulate\n",
    "pmax_values = [0.99999999984 * pmax_factor]\n",
    "weight_values = [5]\n",
    "\n",
    "for weight in weight_values:\n",
    "        # Create a directory for the results if it doesn't exist\n",
    "        os.makedirs(f\"{home_dir}/{file_suffix}/results/weight_{weight}kg\", exist_ok=True)\n",
    "        # Change the current working directory to the results directory\n",
    "        os.chdir(f\"{home_dir}/{file_suffix}/results/weight_{weight}kg\")\n",
    "        for pmax in pmax_values:\n",
    "            print(f\"\\nRunning simulation for weight: {weight}kg and pmax_artemether: {pmax}\\n\")\n",
    "            efficacy, df_weight, pmax_artemether, failed_treatment_count = run_single_weight_simulation(n_patients, pmax, weight)\n",
    "            # Save the DataFrame to a pickle file\n",
    "            df_weight.to_pickle(f\"df_weight_{weight}kg_pmax{pmax_artemether}_{file_suffix}.pyobj\")\n",
    "            # Save the DataFrame to a CSV file\n",
    "            df_weight.to_csv(f\"df_weight_{weight}kg_pmax{pmax_artemether}_{file_suffix}.csv\", index=False)\n",
    "            print(f\"\\nThe failed treatment count for weight {weight}kg and pmax_artemether {pmax_artemether} is:\", failed_treatment_count)\n",
    "            print(f\"\\nThe percentage efficacy for weight {weight}kg and pmax_artemether {pmax_artemether} is:\", efficacy, \"\\n\")"
   ]
  },
  {
   "cell_type": "code",
   "execution_count": 35,
   "id": "f10b109c",
   "metadata": {},
   "outputs": [],
   "source": [
    "pmax_values_final.append(0.99999999984 * pmax_factor)"
   ]
  },
  {
   "cell_type": "code",
   "execution_count": 36,
   "id": "56ee984f",
   "metadata": {},
   "outputs": [
    {
     "name": "stdout",
     "output_type": "stream",
     "text": [
      "\n",
      "Running simulation for weight: 10kg and pmax_artemether: 0.999999993\n",
      "\n",
      "\n",
      "Today's date:  2025-07-29 \n",
      "\n",
      "Length of simulation:  0:00:12.423480 \n",
      "\n",
      "\n",
      "The failed treatment count for weight 10kg and pmax_artemether 0.999999993 is: 31\n",
      "\n",
      "The percentage efficacy for weight 10kg and pmax_artemether 0.999999993 is: 93.7875751503006 \n",
      "\n"
     ]
    }
   ],
   "source": [
    "n_patients = 500  # Number of patients to simulate\n",
    "pmax_values = [0.999999993 * pmax_factor]\n",
    "weight_values = [10]\n",
    "\n",
    "for weight in weight_values:\n",
    "        # Create a directory for the results if it doesn't exist\n",
    "        os.makedirs(f\"{home_dir}/{file_suffix}/results/weight_{weight}kg\", exist_ok=True)\n",
    "        # Change the current working directory to the results directory\n",
    "        os.chdir(f\"{home_dir}/{file_suffix}/results/weight_{weight}kg\")\n",
    "        for pmax in pmax_values:\n",
    "            print(f\"\\nRunning simulation for weight: {weight}kg and pmax_artemether: {pmax}\\n\")\n",
    "            efficacy, df_weight, pmax_artemether, failed_treatment_count = run_single_weight_simulation(n_patients, pmax, weight)\n",
    "            # Save the DataFrame to a pickle file\n",
    "            df_weight.to_pickle(f\"df_weight_{weight}kg_pmax{pmax_artemether}_{file_suffix}.pyobj\")\n",
    "            # Save the DataFrame to a CSV file\n",
    "            df_weight.to_csv(f\"df_weight_{weight}kg_pmax{pmax_artemether}_{file_suffix}.csv\", index=False)\n",
    "            print(f\"\\nThe failed treatment count for weight {weight}kg and pmax_artemether {pmax_artemether} is:\", failed_treatment_count)\n",
    "            print(f\"\\nThe percentage efficacy for weight {weight}kg and pmax_artemether {pmax_artemether} is:\", efficacy, \"\\n\")"
   ]
  },
  {
   "cell_type": "code",
   "execution_count": 37,
   "id": "e0365963",
   "metadata": {},
   "outputs": [],
   "source": [
    "pmax_values_final.append(0.999999993 * pmax_factor)"
   ]
  },
  {
   "cell_type": "code",
   "execution_count": 39,
   "id": "b3718194",
   "metadata": {},
   "outputs": [
    {
     "name": "stdout",
     "output_type": "stream",
     "text": [
      "\n",
      "Running simulation for weight: 15kg and pmax_artemether: 0.9999992\n",
      "\n",
      "\n",
      "Today's date:  2025-07-29 \n",
      "\n",
      "Length of simulation:  0:00:12.097548 \n",
      "\n",
      "\n",
      "The failed treatment count for weight 15kg and pmax_artemether 0.9999992 is: 39\n",
      "\n",
      "The percentage efficacy for weight 15kg and pmax_artemether 0.9999992 is: 92.18436873747495 \n",
      "\n"
     ]
    }
   ],
   "source": [
    "n_patients = 500  # Number of patients to simulate\n",
    "pmax_values = [0.9999992 * pmax_factor]\n",
    "weight_values = [15]\n",
    "\n",
    "for weight in weight_values:\n",
    "        # Create a directory for the results if it doesn't exist\n",
    "        os.makedirs(f\"{home_dir}/{file_suffix}/results/weight_{weight}kg\", exist_ok=True)\n",
    "        # Change the current working directory to the results directory\n",
    "        os.chdir(f\"{home_dir}/{file_suffix}/results/weight_{weight}kg\")\n",
    "        for pmax in pmax_values:\n",
    "            print(f\"\\nRunning simulation for weight: {weight}kg and pmax_artemether: {pmax}\\n\")\n",
    "            efficacy, df_weight, pmax_artemether, failed_treatment_count = run_single_weight_simulation(n_patients, pmax, weight)\n",
    "            # Save the DataFrame to a pickle file\n",
    "            df_weight.to_pickle(f\"df_weight_{weight}kg_pmax{pmax_artemether}_{file_suffix}.pyobj\")\n",
    "            # Save the DataFrame to a CSV file\n",
    "            df_weight.to_csv(f\"df_weight_{weight}kg_pmax{pmax_artemether}_{file_suffix}.csv\", index=False)\n",
    "            print(f\"\\nThe failed treatment count for weight {weight}kg and pmax_artemether {pmax_artemether} is:\", failed_treatment_count)\n",
    "            print(f\"\\nThe percentage efficacy for weight {weight}kg and pmax_artemether {pmax_artemether} is:\", efficacy, \"\\n\")"
   ]
  },
  {
   "cell_type": "code",
   "execution_count": 41,
   "id": "b122f2c2",
   "metadata": {},
   "outputs": [],
   "source": [
    "pmax_values_final.append(0.9999992 * pmax_factor)"
   ]
  },
  {
   "cell_type": "code",
   "execution_count": 42,
   "id": "ff1e6bcf",
   "metadata": {},
   "outputs": [
    {
     "data": {
      "text/plain": [
       "[0.99999999984, 0.999999993, 0.9999992]"
      ]
     },
     "execution_count": 42,
     "metadata": {},
     "output_type": "execute_result"
    }
   ],
   "source": [
    "pmax_values_final"
   ]
  },
  {
   "cell_type": "code",
   "execution_count": 43,
   "id": "82018197",
   "metadata": {},
   "outputs": [
    {
     "name": "stdout",
     "output_type": "stream",
     "text": [
      "\n",
      "Running simulation for weight: 20kg and pmax_artemether: 0.9999984\n",
      "\n",
      "\n",
      "Today's date:  2025-07-29 \n",
      "\n",
      "Length of simulation:  0:00:11.248348 \n",
      "\n",
      "\n",
      "The failed treatment count for weight 20kg and pmax_artemether 0.9999984 is: 39\n",
      "\n",
      "The percentage efficacy for weight 20kg and pmax_artemether 0.9999984 is: 92.18436873747495 \n",
      "\n"
     ]
    }
   ],
   "source": [
    "n_patients = 500  # Number of patients to simulate\n",
    "pmax_values = [0.9999984 * pmax_factor]\n",
    "weight_values = [20]\n",
    "\n",
    "for weight in weight_values:\n",
    "        # Create a directory for the results if it doesn't exist\n",
    "        os.makedirs(f\"{home_dir}/{file_suffix}/results/weight_{weight}kg\", exist_ok=True)\n",
    "        # Change the current working directory to the results directory\n",
    "        os.chdir(f\"{home_dir}/{file_suffix}/results/weight_{weight}kg\")\n",
    "        for pmax in pmax_values:\n",
    "            print(f\"\\nRunning simulation for weight: {weight}kg and pmax_artemether: {pmax}\\n\")\n",
    "            efficacy, df_weight, pmax_artemether, failed_treatment_count = run_single_weight_simulation(n_patients, pmax, weight)\n",
    "            # Save the DataFrame to a pickle file\n",
    "            df_weight.to_pickle(f\"df_weight_{weight}kg_pmax{pmax_artemether}_{file_suffix}.pyobj\")\n",
    "            # Save the DataFrame to a CSV file\n",
    "            df_weight.to_csv(f\"df_weight_{weight}kg_pmax{pmax_artemether}_{file_suffix}.csv\", index=False)\n",
    "            print(f\"\\nThe failed treatment count for weight {weight}kg and pmax_artemether {pmax_artemether} is:\", failed_treatment_count)\n",
    "            print(f\"\\nThe percentage efficacy for weight {weight}kg and pmax_artemether {pmax_artemether} is:\", efficacy, \"\\n\")"
   ]
  },
  {
   "cell_type": "code",
   "execution_count": 44,
   "id": "eb1f4834",
   "metadata": {},
   "outputs": [],
   "source": [
    "pmax_values_final.append(0.9999984*pmax_factor)"
   ]
  },
  {
   "cell_type": "code",
   "execution_count": 45,
   "id": "64c1d299",
   "metadata": {},
   "outputs": [
    {
     "name": "stdout",
     "output_type": "stream",
     "text": [
      "\n",
      "Running simulation for weight: 25kg and pmax_artemether: 0.999982\n",
      "\n",
      "\n",
      "Today's date:  2025-07-29 \n",
      "\n",
      "Length of simulation:  0:00:11.814416 \n",
      "\n",
      "\n",
      "The failed treatment count for weight 25kg and pmax_artemether 0.999982 is: 31\n",
      "\n",
      "The percentage efficacy for weight 25kg and pmax_artemether 0.999982 is: 93.7875751503006 \n",
      "\n"
     ]
    }
   ],
   "source": [
    "n_patients = 500  # Number of patients to simulate\n",
    "pmax_values = [0.999982 * pmax_factor]\n",
    "weight_values = [25]\n",
    "\n",
    "for weight in weight_values:\n",
    "        # Create a directory for the results if it doesn't exist\n",
    "        os.makedirs(f\"{home_dir}/{file_suffix}/results/weight_{weight}kg\", exist_ok=True)\n",
    "        # Change the current working directory to the results directory\n",
    "        os.chdir(f\"{home_dir}/{file_suffix}/results/weight_{weight}kg\")\n",
    "        for pmax in pmax_values:\n",
    "            print(f\"\\nRunning simulation for weight: {weight}kg and pmax_artemether: {pmax}\\n\")\n",
    "            efficacy, df_weight, pmax_artemether, failed_treatment_count = run_single_weight_simulation(n_patients, pmax, weight)\n",
    "            # Save the DataFrame to a pickle file\n",
    "            df_weight.to_pickle(f\"df_weight_{weight}kg_pmax{pmax_artemether}_{file_suffix}.pyobj\")\n",
    "            # Save the DataFrame to a CSV file\n",
    "            df_weight.to_csv(f\"df_weight_{weight}kg_pmax{pmax_artemether}_{file_suffix}.csv\", index=False)\n",
    "            print(f\"\\nThe failed treatment count for weight {weight}kg and pmax_artemether {pmax_artemether} is:\", failed_treatment_count)\n",
    "            print(f\"\\nThe percentage efficacy for weight {weight}kg and pmax_artemether {pmax_artemether} is:\", efficacy, \"\\n\")"
   ]
  },
  {
   "cell_type": "code",
   "execution_count": 46,
   "id": "91ed0084",
   "metadata": {},
   "outputs": [
    {
     "data": {
      "text/plain": [
       "[0.99999999984, 0.999999993, 0.9999992, 0.9999984, 0.999982]"
      ]
     },
     "execution_count": 46,
     "metadata": {},
     "output_type": "execute_result"
    }
   ],
   "source": [
    "pmax_values_final.append(0.999982 * pmax_factor)\n",
    "pmax_values_final"
   ]
  },
  {
   "cell_type": "code",
   "execution_count": 47,
   "id": "b4f25f88",
   "metadata": {},
   "outputs": [
    {
     "name": "stdout",
     "output_type": "stream",
     "text": [
      "\n",
      "Running simulation for weight: 30kg and pmax_artemether: 0.99997\n",
      "\n",
      "\n",
      "Today's date:  2025-07-29 \n",
      "\n",
      "Length of simulation:  0:00:12.700954 \n",
      "\n",
      "\n",
      "The failed treatment count for weight 30kg and pmax_artemether 0.99997 is: 37\n",
      "\n",
      "The percentage efficacy for weight 30kg and pmax_artemether 0.99997 is: 92.58517034068136 \n",
      "\n"
     ]
    }
   ],
   "source": [
    "n_patients = 500  # Number of patients to simulate\n",
    "pmax_values = [0.99997 * pmax_factor]\n",
    "weight_values = [30]\n",
    "\n",
    "for weight in weight_values:\n",
    "        # Create a directory for the results if it doesn't exist\n",
    "        os.makedirs(f\"{home_dir}/{file_suffix}/results/weight_{weight}kg\", exist_ok=True)\n",
    "        # Change the current working directory to the results directory\n",
    "        os.chdir(f\"{home_dir}/{file_suffix}/results/weight_{weight}kg\")\n",
    "        for pmax in pmax_values:\n",
    "            print(f\"\\nRunning simulation for weight: {weight}kg and pmax_artemether: {pmax}\\n\")\n",
    "            efficacy, df_weight, pmax_artemether, failed_treatment_count = run_single_weight_simulation(n_patients, pmax, weight)\n",
    "            # Save the DataFrame to a pickle file\n",
    "            df_weight.to_pickle(f\"df_weight_{weight}kg_pmax{pmax_artemether}_{file_suffix}.pyobj\")\n",
    "            # Save the DataFrame to a CSV file\n",
    "            df_weight.to_csv(f\"df_weight_{weight}kg_pmax{pmax_artemether}_{file_suffix}.csv\", index=False)\n",
    "            print(f\"\\nThe failed treatment count for weight {weight}kg and pmax_artemether {pmax_artemether} is:\", failed_treatment_count)\n",
    "            print(f\"\\nThe percentage efficacy for weight {weight}kg and pmax_artemether {pmax_artemether} is:\", efficacy, \"\\n\")"
   ]
  },
  {
   "cell_type": "code",
   "execution_count": 48,
   "id": "73fee5a7",
   "metadata": {},
   "outputs": [
    {
     "data": {
      "text/plain": [
       "[0.99999999984, 0.999999993, 0.9999992, 0.9999984, 0.999982, 0.99997]"
      ]
     },
     "execution_count": 48,
     "metadata": {},
     "output_type": "execute_result"
    }
   ],
   "source": [
    "pmax_values_final.append(0.99997 * pmax_factor)\n",
    "pmax_values_final"
   ]
  },
  {
   "cell_type": "code",
   "execution_count": 49,
   "id": "f8d337e1",
   "metadata": {},
   "outputs": [
    {
     "name": "stdout",
     "output_type": "stream",
     "text": [
      "\n",
      "Running simulation for weight: 35kg and pmax_artemether: 0.99992\n",
      "\n",
      "\n",
      "Today's date:  2025-07-29 \n",
      "\n",
      "Length of simulation:  0:00:10.583302 \n",
      "\n",
      "\n",
      "The failed treatment count for weight 35kg and pmax_artemether 0.99992 is: 28\n",
      "\n",
      "The percentage efficacy for weight 35kg and pmax_artemether 0.99992 is: 94.38877755511022 \n",
      "\n"
     ]
    }
   ],
   "source": [
    "n_patients = 500  # Number of patients to simulate\n",
    "pmax_values = [0.99992 * pmax_factor]\n",
    "weight_values = [35]\n",
    "\n",
    "for weight in weight_values:\n",
    "        # Create a directory for the results if it doesn't exist\n",
    "        os.makedirs(f\"{home_dir}/{file_suffix}/results/weight_{weight}kg\", exist_ok=True)\n",
    "        # Change the current working directory to the results directory\n",
    "        os.chdir(f\"{home_dir}/{file_suffix}/results/weight_{weight}kg\")\n",
    "        for pmax in pmax_values:\n",
    "            print(f\"\\nRunning simulation for weight: {weight}kg and pmax_artemether: {pmax}\\n\")\n",
    "            efficacy, df_weight, pmax_artemether, failed_treatment_count = run_single_weight_simulation(n_patients, pmax, weight)\n",
    "            # Save the DataFrame to a pickle file\n",
    "            df_weight.to_pickle(f\"df_weight_{weight}kg_pmax{pmax_artemether}_{file_suffix}.pyobj\")\n",
    "            # Save the DataFrame to a CSV file\n",
    "            df_weight.to_csv(f\"df_weight_{weight}kg_pmax{pmax_artemether}_{file_suffix}.csv\", index=False)\n",
    "            print(f\"\\nThe failed treatment count for weight {weight}kg and pmax_artemether {pmax_artemether} is:\", failed_treatment_count)\n",
    "            print(f\"\\nThe percentage efficacy for weight {weight}kg and pmax_artemether {pmax_artemether} is:\", efficacy, \"\\n\")"
   ]
  },
  {
   "cell_type": "code",
   "execution_count": 50,
   "id": "e4547ab1",
   "metadata": {},
   "outputs": [
    {
     "data": {
      "text/plain": [
       "[0.99999999984, 0.999999993, 0.9999992, 0.9999984, 0.999982, 0.99997, 0.99992]"
      ]
     },
     "execution_count": 50,
     "metadata": {},
     "output_type": "execute_result"
    }
   ],
   "source": [
    "pmax_values_final.append(0.99992 * pmax_factor)\n",
    "pmax_values_final"
   ]
  },
  {
   "cell_type": "code",
   "execution_count": 51,
   "id": "3c2d9b6c",
   "metadata": {},
   "outputs": [
    {
     "name": "stdout",
     "output_type": "stream",
     "text": [
      "\n",
      "Running simulation for weight: 40kg and pmax_artemether: 0.99984\n",
      "\n",
      "\n",
      "Today's date:  2025-07-29 \n",
      "\n",
      "Length of simulation:  0:00:12.227152 \n",
      "\n",
      "\n",
      "The failed treatment count for weight 40kg and pmax_artemether 0.99984 is: 26\n",
      "\n",
      "The percentage efficacy for weight 40kg and pmax_artemether 0.99984 is: 94.78957915831663 \n",
      "\n"
     ]
    }
   ],
   "source": [
    "n_patients = 500  # Number of patients to simulate\n",
    "pmax_values = [0.99984 * pmax_factor]\n",
    "weight_values = [40]\n",
    "\n",
    "for weight in weight_values:\n",
    "        # Create a directory for the results if it doesn't exist\n",
    "        os.makedirs(f\"{home_dir}/{file_suffix}/results/weight_{weight}kg\", exist_ok=True)\n",
    "        # Change the current working directory to the results directory\n",
    "        os.chdir(f\"{home_dir}/{file_suffix}/results/weight_{weight}kg\")\n",
    "        for pmax in pmax_values:\n",
    "            print(f\"\\nRunning simulation for weight: {weight}kg and pmax_artemether: {pmax}\\n\")\n",
    "            efficacy, df_weight, pmax_artemether, failed_treatment_count = run_single_weight_simulation(n_patients, pmax, weight)\n",
    "            # Save the DataFrame to a pickle file\n",
    "            df_weight.to_pickle(f\"df_weight_{weight}kg_pmax{pmax_artemether}_{file_suffix}.pyobj\")\n",
    "            # Save the DataFrame to a CSV file\n",
    "            df_weight.to_csv(f\"df_weight_{weight}kg_pmax{pmax_artemether}_{file_suffix}.csv\", index=False)\n",
    "            print(f\"\\nThe failed treatment count for weight {weight}kg and pmax_artemether {pmax_artemether} is:\", failed_treatment_count)\n",
    "            print(f\"\\nThe percentage efficacy for weight {weight}kg and pmax_artemether {pmax_artemether} is:\", efficacy, \"\\n\")"
   ]
  },
  {
   "cell_type": "code",
   "execution_count": 52,
   "id": "894d7724",
   "metadata": {},
   "outputs": [
    {
     "data": {
      "text/plain": [
       "[0.99999999984,\n",
       " 0.999999993,\n",
       " 0.9999992,\n",
       " 0.9999984,\n",
       " 0.999982,\n",
       " 0.99997,\n",
       " 0.99992,\n",
       " 0.99984]"
      ]
     },
     "execution_count": 52,
     "metadata": {},
     "output_type": "execute_result"
    }
   ],
   "source": [
    "pmax_values_final.append(0.99984 * pmax_factor)\n",
    "pmax_values_final"
   ]
  },
  {
   "cell_type": "code",
   "execution_count": 56,
   "id": "3dd44e2d",
   "metadata": {},
   "outputs": [
    {
     "name": "stdout",
     "output_type": "stream",
     "text": [
      "\n",
      "Running simulation for weight: 45kg and pmax_artemether: 0.99975\n",
      "\n",
      "\n",
      "Today's date:  2025-07-29 \n",
      "\n",
      "Length of simulation:  0:00:11.598665 \n",
      "\n",
      "\n",
      "The failed treatment count for weight 45kg and pmax_artemether 0.99975 is: 45\n",
      "\n",
      "The percentage efficacy for weight 45kg and pmax_artemether 0.99975 is: 90.98196392785572 \n",
      "\n"
     ]
    }
   ],
   "source": [
    "n_patients = 500  # Number of patients to simulate\n",
    "pmax_values = [0.99975 * pmax_factor]\n",
    "weight_values = [45]\n",
    "\n",
    "for weight in weight_values:\n",
    "        # Create a directory for the results if it doesn't exist\n",
    "        os.makedirs(f\"{home_dir}/{file_suffix}/results/weight_{weight}kg\", exist_ok=True)\n",
    "        # Change the current working directory to the results directory\n",
    "        os.chdir(f\"{home_dir}/{file_suffix}/results/weight_{weight}kg\")\n",
    "        for pmax in pmax_values:\n",
    "            print(f\"\\nRunning simulation for weight: {weight}kg and pmax_artemether: {pmax}\\n\")\n",
    "            efficacy, df_weight, pmax_artemether, failed_treatment_count = run_single_weight_simulation(n_patients, pmax, weight)\n",
    "            # Save the DataFrame to a pickle file\n",
    "            df_weight.to_pickle(f\"df_weight_{weight}kg_pmax{pmax_artemether}_{file_suffix}.pyobj\")\n",
    "            # Save the DataFrame to a CSV file\n",
    "            df_weight.to_csv(f\"df_weight_{weight}kg_pmax{pmax_artemether}_{file_suffix}.csv\", index=False)\n",
    "            print(f\"\\nThe failed treatment count for weight {weight}kg and pmax_artemether {pmax_artemether} is:\", failed_treatment_count)\n",
    "            print(f\"\\nThe percentage efficacy for weight {weight}kg and pmax_artemether {pmax_artemether} is:\", efficacy, \"\\n\")"
   ]
  },
  {
   "cell_type": "code",
   "execution_count": 54,
   "id": "93d2f347",
   "metadata": {},
   "outputs": [
    {
     "data": {
      "text/plain": [
       "[0.99999999984,\n",
       " 0.999999993,\n",
       " 0.9999992,\n",
       " 0.9999984,\n",
       " 0.999982,\n",
       " 0.99997,\n",
       " 0.99992,\n",
       " 0.99984,\n",
       " 0.99975]"
      ]
     },
     "execution_count": 54,
     "metadata": {},
     "output_type": "execute_result"
    }
   ],
   "source": [
    "pmax_values_final.append(0.99975 * pmax_factor)\n",
    "pmax_values_final"
   ]
  },
  {
   "cell_type": "code",
   "execution_count": 55,
   "id": "63b7792d",
   "metadata": {},
   "outputs": [
    {
     "name": "stdout",
     "output_type": "stream",
     "text": [
      "\n",
      "Running simulation for weight: 50kg and pmax_artemether: 0.99975\n",
      "\n",
      "\n",
      "Today's date:  2025-07-29 \n",
      "\n",
      "Length of simulation:  0:00:12.958974 \n",
      "\n",
      "\n",
      "The failed treatment count for weight 50kg and pmax_artemether 0.99975 is: 42\n",
      "\n",
      "The percentage efficacy for weight 50kg and pmax_artemether 0.99975 is: 91.58316633266533 \n",
      "\n"
     ]
    }
   ],
   "source": [
    "n_patients = 500  # Number of patients to simulate\n",
    "pmax_values = [0.99975 * pmax_factor] \n",
    "weight_values = [50]\n",
    "\n",
    "for weight in weight_values:\n",
    "        # Create a directory for the results if it doesn't exist\n",
    "        os.makedirs(f\"{home_dir}/{file_suffix}/results/weight_{weight}kg\", exist_ok=True)\n",
    "        # Change the current working directory to the results directory\n",
    "        os.chdir(f\"{home_dir}/{file_suffix}/results/weight_{weight}kg\")\n",
    "        for pmax in pmax_values:\n",
    "            print(f\"\\nRunning simulation for weight: {weight}kg and pmax_artemether: {pmax}\\n\")\n",
    "            efficacy, df_weight, pmax_artemether, failed_treatment_count = run_single_weight_simulation(n_patients, pmax, weight)\n",
    "            # Save the DataFrame to a pickle file\n",
    "            df_weight.to_pickle(f\"df_weight_{weight}kg_pmax{pmax_artemether}_{file_suffix}.pyobj\")\n",
    "            # Save the DataFrame to a CSV file\n",
    "            df_weight.to_csv(f\"df_weight_{weight}kg_pmax{pmax_artemether}_{file_suffix}.csv\", index=False)\n",
    "            print(f\"\\nThe failed treatment count for weight {weight}kg and pmax_artemether {pmax_artemether} is:\", failed_treatment_count)\n",
    "            print(f\"\\nThe percentage efficacy for weight {weight}kg and pmax_artemether {pmax_artemether} is:\", efficacy, \"\\n\")"
   ]
  },
  {
   "cell_type": "code",
   "execution_count": 57,
   "id": "445603c6",
   "metadata": {},
   "outputs": [
    {
     "data": {
      "text/plain": [
       "[0.99999999984,\n",
       " 0.999999993,\n",
       " 0.9999992,\n",
       " 0.9999984,\n",
       " 0.999982,\n",
       " 0.99997,\n",
       " 0.99992,\n",
       " 0.99984,\n",
       " 0.99975,\n",
       " 0.99975]"
      ]
     },
     "execution_count": 57,
     "metadata": {},
     "output_type": "execute_result"
    }
   ],
   "source": [
    "pmax_values_final.append(0.99975 * pmax_factor)\n",
    "pmax_values_final"
   ]
  },
  {
   "cell_type": "code",
   "execution_count": 114,
   "id": "0c866348",
   "metadata": {},
   "outputs": [
    {
     "name": "stdout",
     "output_type": "stream",
     "text": [
      "\n",
      "Running simulation for weight: 55kg and pmax_artemether: 0.99973\n",
      "\n",
      "\n",
      "Today's date:  2025-07-24 \n",
      "\n",
      "Length of simulation:  0:00:12.676931 \n",
      "\n",
      "\n",
      "The failed treatment count for weight 55kg and pmax_artemether 0.99973 is: 37\n",
      "\n",
      "The percentage efficacy for weight 55kg and pmax_artemether 0.99973 is: 92.58517034068136 \n",
      "\n"
     ]
    }
   ],
   "source": [
    "n_patients = 500  # Number of patients to simulate\n",
    "pmax_values = [0.99973]\n",
    "weight_values = [55]\n",
    "\n",
    "for weight in weight_values:\n",
    "        # Create a directory for the results if it doesn't exist\n",
    "        os.makedirs(f\"{home_dir}/results/weight_{weight}kg\", exist_ok=True)\n",
    "        # Change the current working directory to the results directory\n",
    "        os.chdir(f\"{home_dir}/results/weight_{weight}kg\")\n",
    "        for pmax in pmax_values:\n",
    "            print(f\"\\nRunning simulation for weight: {weight}kg and pmax_artemether: {pmax}\\n\")\n",
    "            efficacy, df_weight, pmax_artemether, failed_treatment_count = run_single_weight_simulation(n_patients, pmax, weight)\n",
    "            # Save the DataFrame to a pickle file\n",
    "            df_weight.to_pickle(f\"df_weight_{weight}kg_pmax{pmax_artemether}_{file_suffix}.pyobj\")\n",
    "            # Save the DataFrame to a CSV file\n",
    "            df_weight.to_csv(f\"df_weight_{weight}kg_pmax{pmax_artemether}_{file_suffix}.csv\", index=False)\n",
    "            print(f\"\\nThe failed treatment count for weight {weight}kg and pmax_artemether {pmax_artemether} is:\", failed_treatment_count)\n",
    "            print(f\"\\nThe percentage efficacy for weight {weight}kg and pmax_artemether {pmax_artemether} is:\", efficacy, \"\\n\")"
   ]
  },
  {
   "cell_type": "code",
   "execution_count": 115,
   "id": "1a5cc9ce",
   "metadata": {},
   "outputs": [
    {
     "data": {
      "text/plain": [
       "[0.99999999984,\n",
       " 0.999999993,\n",
       " 0.9999992,\n",
       " 0.9999984,\n",
       " 0.999982,\n",
       " 0.99997,\n",
       " 0.99992,\n",
       " 0.99984,\n",
       " 0.99975,\n",
       " 0.99975,\n",
       " 0.99973]"
      ]
     },
     "execution_count": 115,
     "metadata": {},
     "output_type": "execute_result"
    }
   ],
   "source": [
    "pmax_values_final.append(0.99973)\n",
    "pmax_values_final"
   ]
  },
  {
   "cell_type": "code",
   "execution_count": 117,
   "id": "09f4e34b",
   "metadata": {},
   "outputs": [
    {
     "name": "stdout",
     "output_type": "stream",
     "text": [
      "\n",
      "Running simulation for weight: 60kg and pmax_artemether: 0.99972\n",
      "\n",
      "\n",
      "Today's date:  2025-07-24 \n",
      "\n",
      "Length of simulation:  0:00:12.548253 \n",
      "\n",
      "\n",
      "The failed treatment count for weight 60kg and pmax_artemether 0.99972 is: 39\n",
      "\n",
      "The percentage efficacy for weight 60kg and pmax_artemether 0.99972 is: 92.18436873747495 \n",
      "\n"
     ]
    }
   ],
   "source": [
    "n_patients = 500  # Number of patients to simulate\n",
    "pmax_values = [0.99972]\n",
    "weight_values = [60]\n",
    "\n",
    "for weight in weight_values:\n",
    "        # Create a directory for the results if it doesn't exist\n",
    "        os.makedirs(f\"{home_dir}/results/weight_{weight}kg\", exist_ok=True)\n",
    "        # Change the current working directory to the results directory\n",
    "        os.chdir(f\"{home_dir}/results/weight_{weight}kg\")\n",
    "        for pmax in pmax_values:\n",
    "            print(f\"\\nRunning simulation for weight: {weight}kg and pmax_artemether: {pmax}\\n\")\n",
    "            efficacy, df_weight, pmax_artemether, failed_treatment_count = run_single_weight_simulation(n_patients, pmax, weight)\n",
    "            # Save the DataFrame to a pickle file\n",
    "            df_weight.to_pickle(f\"df_weight_{weight}kg_pmax{pmax_artemether}_{file_suffix}.pyobj\")\n",
    "            # Save the DataFrame to a CSV file\n",
    "            df_weight.to_csv(f\"df_weight_{weight}kg_pmax{pmax_artemether}_{file_suffix}.csv\", index=False)\n",
    "            print(f\"\\nThe failed treatment count for weight {weight}kg and pmax_artemether {pmax_artemether} is:\", failed_treatment_count)\n",
    "            print(f\"\\nThe percentage efficacy for weight {weight}kg and pmax_artemether {pmax_artemether} is:\", efficacy, \"\\n\")"
   ]
  },
  {
   "cell_type": "code",
   "execution_count": 118,
   "id": "b675af30",
   "metadata": {},
   "outputs": [
    {
     "data": {
      "text/plain": [
       "[0.99999999984,\n",
       " 0.999999993,\n",
       " 0.9999992,\n",
       " 0.9999984,\n",
       " 0.999982,\n",
       " 0.99997,\n",
       " 0.99992,\n",
       " 0.99984,\n",
       " 0.99975,\n",
       " 0.99975,\n",
       " 0.99973,\n",
       " 0.99972]"
      ]
     },
     "execution_count": 118,
     "metadata": {},
     "output_type": "execute_result"
    }
   ],
   "source": [
    "pmax_values_final.append(0.99972)\n",
    "pmax_values_final"
   ]
  },
  {
   "cell_type": "code",
   "execution_count": 120,
   "id": "2128af0a",
   "metadata": {},
   "outputs": [
    {
     "name": "stdout",
     "output_type": "stream",
     "text": [
      "\n",
      "Running simulation for weight: 65kg and pmax_artemether: 0.9997\n",
      "\n",
      "\n",
      "Today's date:  2025-07-24 \n",
      "\n",
      "Length of simulation:  0:00:11.879762 \n",
      "\n",
      "\n",
      "The failed treatment count for weight 65kg and pmax_artemether 0.9997 is: 35\n",
      "\n",
      "The percentage efficacy for weight 65kg and pmax_artemether 0.9997 is: 92.98597194388778 \n",
      "\n"
     ]
    }
   ],
   "source": [
    "n_patients = 500  # Number of patients to simulate\n",
    "pmax_values = [0.9997]\n",
    "weight_values = [65]\n",
    "\n",
    "for weight in weight_values:\n",
    "        # Create a directory for the results if it doesn't exist\n",
    "        os.makedirs(f\"{home_dir}/results/weight_{weight}kg\", exist_ok=True)\n",
    "        # Change the current working directory to the results directory\n",
    "        os.chdir(f\"{home_dir}/results/weight_{weight}kg\")\n",
    "        for pmax in pmax_values:\n",
    "            print(f\"\\nRunning simulation for weight: {weight}kg and pmax_artemether: {pmax}\\n\")\n",
    "            efficacy, df_weight, pmax_artemether, failed_treatment_count = run_single_weight_simulation(n_patients, pmax, weight)\n",
    "            # Save the DataFrame to a pickle file\n",
    "            df_weight.to_pickle(f\"df_weight_{weight}kg_pmax{pmax_artemether}_{file_suffix}.pyobj\")\n",
    "            # Save the DataFrame to a CSV file\n",
    "            df_weight.to_csv(f\"df_weight_{weight}kg_pmax{pmax_artemether}_{file_suffix}.csv\", index=False)\n",
    "            print(f\"\\nThe failed treatment count for weight {weight}kg and pmax_artemether {pmax_artemether} is:\", failed_treatment_count)\n",
    "            print(f\"\\nThe percentage efficacy for weight {weight}kg and pmax_artemether {pmax_artemether} is:\", efficacy, \"\\n\")"
   ]
  },
  {
   "cell_type": "code",
   "execution_count": 121,
   "id": "fcbfc587",
   "metadata": {},
   "outputs": [
    {
     "data": {
      "text/plain": [
       "[0.99999999984,\n",
       " 0.999999993,\n",
       " 0.9999992,\n",
       " 0.9999984,\n",
       " 0.999982,\n",
       " 0.99997,\n",
       " 0.99992,\n",
       " 0.99984,\n",
       " 0.99975,\n",
       " 0.99975,\n",
       " 0.99973,\n",
       " 0.99972,\n",
       " 0.9997]"
      ]
     },
     "execution_count": 121,
     "metadata": {},
     "output_type": "execute_result"
    }
   ],
   "source": [
    "pmax_values_final.append(0.9997)\n",
    "pmax_values_final"
   ]
  },
  {
   "cell_type": "code",
   "execution_count": 124,
   "id": "6a3baa92",
   "metadata": {},
   "outputs": [
    {
     "name": "stdout",
     "output_type": "stream",
     "text": [
      "\n",
      "Running simulation for weight: 70kg and pmax_artemether: 0.99962\n",
      "\n",
      "\n",
      "Today's date:  2025-07-24 \n",
      "\n",
      "Length of simulation:  0:00:12.150369 \n",
      "\n",
      "\n",
      "The failed treatment count for weight 70kg and pmax_artemether 0.99962 is: 39\n",
      "\n",
      "The percentage efficacy for weight 70kg and pmax_artemether 0.99962 is: 92.18436873747495 \n",
      "\n"
     ]
    }
   ],
   "source": [
    "n_patients = 500  # Number of patients to simulate\n",
    "pmax_values = [0.99962]\n",
    "weight_values = [70]\n",
    "\n",
    "for weight in weight_values:\n",
    "        # Create a directory for the results if it doesn't exist\n",
    "        os.makedirs(f\"{home_dir}/results/weight_{weight}kg\", exist_ok=True)\n",
    "        # Change the current working directory to the results directory\n",
    "        os.chdir(f\"{home_dir}/results/weight_{weight}kg\")\n",
    "        for pmax in pmax_values:\n",
    "            print(f\"\\nRunning simulation for weight: {weight}kg and pmax_artemether: {pmax}\\n\")\n",
    "            efficacy, df_weight, pmax_artemether, failed_treatment_count = run_single_weight_simulation(n_patients, pmax, weight)\n",
    "            # Save the DataFrame to a pickle file\n",
    "            df_weight.to_pickle(f\"df_weight_{weight}kg_pmax{pmax_artemether}_{file_suffix}.pyobj\")\n",
    "            # Save the DataFrame to a CSV file\n",
    "            df_weight.to_csv(f\"df_weight_{weight}kg_pmax{pmax_artemether}_{file_suffix}.csv\", index=False)\n",
    "            print(f\"\\nThe failed treatment count for weight {weight}kg and pmax_artemether {pmax_artemether} is:\", failed_treatment_count)\n",
    "            print(f\"\\nThe percentage efficacy for weight {weight}kg and pmax_artemether {pmax_artemether} is:\", efficacy, \"\\n\")"
   ]
  },
  {
   "cell_type": "code",
   "execution_count": 125,
   "id": "affb544e",
   "metadata": {},
   "outputs": [
    {
     "data": {
      "text/plain": [
       "[0.99999999984,\n",
       " 0.999999993,\n",
       " 0.9999992,\n",
       " 0.9999984,\n",
       " 0.999982,\n",
       " 0.99997,\n",
       " 0.99992,\n",
       " 0.99984,\n",
       " 0.99975,\n",
       " 0.99975,\n",
       " 0.99973,\n",
       " 0.99972,\n",
       " 0.9997,\n",
       " 0.99962]"
      ]
     },
     "execution_count": 125,
     "metadata": {},
     "output_type": "execute_result"
    }
   ],
   "source": [
    "pmax_values_final.append(0.99962)\n",
    "pmax_values_final"
   ]
  },
  {
   "cell_type": "code",
   "execution_count": 127,
   "id": "599074ae",
   "metadata": {},
   "outputs": [
    {
     "name": "stdout",
     "output_type": "stream",
     "text": [
      "\n",
      "Running simulation for weight: 75kg and pmax_artemether: 0.99962\n",
      "\n",
      "\n",
      "Today's date:  2025-07-24 \n",
      "\n",
      "Length of simulation:  0:00:12.160284 \n",
      "\n",
      "\n",
      "The failed treatment count for weight 75kg and pmax_artemether 0.99962 is: 35\n",
      "\n",
      "The percentage efficacy for weight 75kg and pmax_artemether 0.99962 is: 92.98597194388778 \n",
      "\n"
     ]
    }
   ],
   "source": [
    "n_patients = 500  # Number of patients to simulate\n",
    "pmax_values = [0.99962]\n",
    "weight_values = [75]\n",
    "\n",
    "for weight in weight_values:\n",
    "        # Create a directory for the results if it doesn't exist\n",
    "        os.makedirs(f\"{home_dir}/results/weight_{weight}kg\", exist_ok=True)\n",
    "        # Change the current working directory to the results directory\n",
    "        os.chdir(f\"{home_dir}/results/weight_{weight}kg\")\n",
    "        for pmax in pmax_values:\n",
    "            print(f\"\\nRunning simulation for weight: {weight}kg and pmax_artemether: {pmax}\\n\")\n",
    "            efficacy, df_weight, pmax_artemether, failed_treatment_count = run_single_weight_simulation(n_patients, pmax, weight)\n",
    "            # Save the DataFrame to a pickle file\n",
    "            df_weight.to_pickle(f\"df_weight_{weight}kg_pmax{pmax_artemether}_{file_suffix}.pyobj\")\n",
    "            # Save the DataFrame to a CSV file\n",
    "            df_weight.to_csv(f\"df_weight_{weight}kg_pmax{pmax_artemether}_{file_suffix}.csv\", index=False)\n",
    "            print(f\"\\nThe failed treatment count for weight {weight}kg and pmax_artemether {pmax_artemether} is:\", failed_treatment_count)\n",
    "            print(f\"\\nThe percentage efficacy for weight {weight}kg and pmax_artemether {pmax_artemether} is:\", efficacy, \"\\n\")"
   ]
  },
  {
   "cell_type": "code",
   "execution_count": 128,
   "id": "fc1a322d",
   "metadata": {},
   "outputs": [
    {
     "data": {
      "text/plain": [
       "[0.99999999984,\n",
       " 0.999999993,\n",
       " 0.9999992,\n",
       " 0.9999984,\n",
       " 0.999982,\n",
       " 0.99997,\n",
       " 0.99992,\n",
       " 0.99984,\n",
       " 0.99975,\n",
       " 0.99975,\n",
       " 0.99973,\n",
       " 0.99972,\n",
       " 0.9997,\n",
       " 0.99962,\n",
       " 0.99962]"
      ]
     },
     "execution_count": 128,
     "metadata": {},
     "output_type": "execute_result"
    }
   ],
   "source": [
    "pmax_values_final.append(0.99962)\n",
    "pmax_values_final"
   ]
  },
  {
   "cell_type": "code",
   "execution_count": 132,
   "id": "e6561aeb",
   "metadata": {},
   "outputs": [
    {
     "name": "stdout",
     "output_type": "stream",
     "text": [
      "\n",
      "Running simulation for weight: 80kg and pmax_artemether: 0.9996\n",
      "\n",
      "\n",
      "Today's date:  2025-07-24 \n",
      "\n",
      "Length of simulation:  0:00:12.043695 \n",
      "\n",
      "\n",
      "The failed treatment count for weight 80kg and pmax_artemether 0.9996 is: 37\n",
      "\n",
      "The percentage efficacy for weight 80kg and pmax_artemether 0.9996 is: 92.58517034068136 \n",
      "\n"
     ]
    }
   ],
   "source": [
    "n_patients = 500  # Number of patients to simulate\n",
    "pmax_values = [0.9996]\n",
    "weight_values = [80]\n",
    "\n",
    "for weight in weight_values:\n",
    "        # Create a directory for the results if it doesn't exist\n",
    "        os.makedirs(f\"{home_dir}/results/weight_{weight}kg\", exist_ok=True)\n",
    "        # Change the current working directory to the results directory\n",
    "        os.chdir(f\"{home_dir}/results/weight_{weight}kg\")\n",
    "        for pmax in pmax_values:\n",
    "            print(f\"\\nRunning simulation for weight: {weight}kg and pmax_artemether: {pmax}\\n\")\n",
    "            efficacy, df_weight, pmax_artemether, failed_treatment_count = run_single_weight_simulation(n_patients, pmax, weight)\n",
    "            # Save the DataFrame to a pickle file\n",
    "            df_weight.to_pickle(f\"df_weight_{weight}kg_pmax{pmax_artemether}_{file_suffix}.pyobj\")\n",
    "            # Save the DataFrame to a CSV file\n",
    "            df_weight.to_csv(f\"df_weight_{weight}kg_pmax{pmax_artemether}_{file_suffix}.csv\", index=False)\n",
    "            print(f\"\\nThe failed treatment count for weight {weight}kg and pmax_artemether {pmax_artemether} is:\", failed_treatment_count)\n",
    "            print(f\"\\nThe percentage efficacy for weight {weight}kg and pmax_artemether {pmax_artemether} is:\", efficacy, \"\\n\")"
   ]
  },
  {
   "cell_type": "code",
   "execution_count": 133,
   "id": "93e5f960",
   "metadata": {},
   "outputs": [
    {
     "data": {
      "text/plain": [
       "[0.99999999984,\n",
       " 0.999999993,\n",
       " 0.9999992,\n",
       " 0.9999984,\n",
       " 0.999982,\n",
       " 0.99997,\n",
       " 0.99992,\n",
       " 0.99984,\n",
       " 0.99975,\n",
       " 0.99975,\n",
       " 0.99973,\n",
       " 0.99972,\n",
       " 0.9997,\n",
       " 0.99962,\n",
       " 0.99962,\n",
       " 0.9996]"
      ]
     },
     "execution_count": 133,
     "metadata": {},
     "output_type": "execute_result"
    }
   ],
   "source": [
    "pmax_values_final.append(0.9996)\n",
    "pmax_values_final"
   ]
  },
  {
   "cell_type": "code",
   "execution_count": 135,
   "id": "565af89c",
   "metadata": {},
   "outputs": [
    {
     "name": "stdout",
     "output_type": "stream",
     "text": [
      "\n",
      "Running simulation for weight: 85kg and pmax_artemether: 0.99959\n",
      "\n",
      "\n",
      "Today's date:  2025-07-24 \n",
      "\n",
      "Length of simulation:  0:00:12.360870 \n",
      "\n",
      "\n",
      "The failed treatment count for weight 85kg and pmax_artemether 0.99959 is: 39\n",
      "\n",
      "The percentage efficacy for weight 85kg and pmax_artemether 0.99959 is: 92.18436873747495 \n",
      "\n"
     ]
    }
   ],
   "source": [
    "n_patients = 500  # Number of patients to simulate\n",
    "pmax_values = [0.99959]\n",
    "weight_values = [85]\n",
    "\n",
    "for weight in weight_values:\n",
    "        # Create a directory for the results if it doesn't exist\n",
    "        os.makedirs(f\"{home_dir}/results/weight_{weight}kg\", exist_ok=True)\n",
    "        # Change the current working directory to the results directory\n",
    "        os.chdir(f\"{home_dir}/results/weight_{weight}kg\")\n",
    "        for pmax in pmax_values:\n",
    "            print(f\"\\nRunning simulation for weight: {weight}kg and pmax_artemether: {pmax}\\n\")\n",
    "            efficacy, df_weight, pmax_artemether, failed_treatment_count = run_single_weight_simulation(n_patients, pmax, weight)\n",
    "            # Save the DataFrame to a pickle file\n",
    "            df_weight.to_pickle(f\"df_weight_{weight}kg_pmax{pmax_artemether}_{file_suffix}.pyobj\")\n",
    "            # Save the DataFrame to a CSV file\n",
    "            df_weight.to_csv(f\"df_weight_{weight}kg_pmax{pmax_artemether}_{file_suffix}.csv\", index=False)\n",
    "            print(f\"\\nThe failed treatment count for weight {weight}kg and pmax_artemether {pmax_artemether} is:\", failed_treatment_count)\n",
    "            print(f\"\\nThe percentage efficacy for weight {weight}kg and pmax_artemether {pmax_artemether} is:\", efficacy, \"\\n\")"
   ]
  },
  {
   "cell_type": "code",
   "execution_count": 136,
   "id": "bfd2d68f",
   "metadata": {},
   "outputs": [
    {
     "data": {
      "text/plain": [
       "[0.99999999984,\n",
       " 0.999999993,\n",
       " 0.9999992,\n",
       " 0.9999984,\n",
       " 0.999982,\n",
       " 0.99997,\n",
       " 0.99992,\n",
       " 0.99984,\n",
       " 0.99975,\n",
       " 0.99975,\n",
       " 0.99973,\n",
       " 0.99972,\n",
       " 0.9997,\n",
       " 0.99962,\n",
       " 0.99962,\n",
       " 0.9996,\n",
       " 0.99959]"
      ]
     },
     "execution_count": 136,
     "metadata": {},
     "output_type": "execute_result"
    }
   ],
   "source": [
    "pmax_values_final.append(0.99959)\n",
    "pmax_values_final"
   ]
  },
  {
   "cell_type": "code",
   "execution_count": 145,
   "id": "6f1d6b06",
   "metadata": {},
   "outputs": [
    {
     "name": "stdout",
     "output_type": "stream",
     "text": [
      "\n",
      "Running simulation for weight: 90kg and pmax_artemether: 0.99955\n",
      "\n",
      "\n",
      "Today's date:  2025-07-24 \n",
      "\n",
      "Length of simulation:  0:00:12.524464 \n",
      "\n",
      "\n",
      "The failed treatment count for weight 90kg and pmax_artemether 0.99955 is: 41\n",
      "\n",
      "The percentage efficacy for weight 90kg and pmax_artemether 0.99955 is: 91.78356713426854 \n",
      "\n"
     ]
    }
   ],
   "source": [
    "n_patients = 500  # Number of patients to simulate\n",
    "pmax_values = [0.99955]\n",
    "weight_values = [90]\n",
    "\n",
    "for weight in weight_values:\n",
    "        # Create a directory for the results if it doesn't exist\n",
    "        os.makedirs(f\"{home_dir}/results/weight_{weight}kg\", exist_ok=True)\n",
    "        # Change the current working directory to the results directory\n",
    "        os.chdir(f\"{home_dir}/results/weight_{weight}kg\")\n",
    "        for pmax in pmax_values:\n",
    "            print(f\"\\nRunning simulation for weight: {weight}kg and pmax_artemether: {pmax}\\n\")\n",
    "            efficacy, df_weight, pmax_artemether, failed_treatment_count = run_single_weight_simulation(n_patients, pmax, weight)\n",
    "            # Save the DataFrame to a pickle file\n",
    "            df_weight.to_pickle(f\"df_weight_{weight}kg_pmax{pmax_artemether}_{file_suffix}.pyobj\")\n",
    "            # Save the DataFrame to a CSV file\n",
    "            df_weight.to_csv(f\"df_weight_{weight}kg_pmax{pmax_artemether}_{file_suffix}.csv\", index=False)\n",
    "            print(f\"\\nThe failed treatment count for weight {weight}kg and pmax_artemether {pmax_artemether} is:\", failed_treatment_count)\n",
    "            print(f\"\\nThe percentage efficacy for weight {weight}kg and pmax_artemether {pmax_artemether} is:\", efficacy, \"\\n\")"
   ]
  },
  {
   "cell_type": "code",
   "execution_count": 146,
   "id": "170686eb",
   "metadata": {},
   "outputs": [
    {
     "data": {
      "text/plain": [
       "[0.99999999984,\n",
       " 0.999999993,\n",
       " 0.9999992,\n",
       " 0.9999984,\n",
       " 0.999982,\n",
       " 0.99997,\n",
       " 0.99992,\n",
       " 0.99984,\n",
       " 0.99975,\n",
       " 0.99975,\n",
       " 0.99973,\n",
       " 0.99972,\n",
       " 0.9997,\n",
       " 0.99962,\n",
       " 0.99962,\n",
       " 0.9996,\n",
       " 0.99959,\n",
       " 0.99955]"
      ]
     },
     "execution_count": 146,
     "metadata": {},
     "output_type": "execute_result"
    }
   ],
   "source": [
    "pmax_values_final.append(0.99955)\n",
    "pmax_values_final"
   ]
  },
  {
   "cell_type": "code",
   "execution_count": 149,
   "id": "7f411d0c",
   "metadata": {},
   "outputs": [
    {
     "name": "stdout",
     "output_type": "stream",
     "text": [
      "\n",
      "Running simulation for weight: 95kg and pmax_artemether: 0.9996\n",
      "\n",
      "\n",
      "Today's date:  2025-07-24 \n",
      "\n",
      "Length of simulation:  0:00:12.759573 \n",
      "\n",
      "\n",
      "The failed treatment count for weight 95kg and pmax_artemether 0.9996 is: 36\n",
      "\n",
      "The percentage efficacy for weight 95kg and pmax_artemether 0.9996 is: 92.78557114228457 \n",
      "\n"
     ]
    }
   ],
   "source": [
    "n_patients = 500  # Number of patients to simulate\n",
    "pmax_values = [0.9996]\n",
    "weight_values = [95]\n",
    "\n",
    "for weight in weight_values:\n",
    "        # Create a directory for the results if it doesn't exist\n",
    "        os.makedirs(f\"{home_dir}/results/weight_{weight}kg\", exist_ok=True)\n",
    "        # Change the current working directory to the results directory\n",
    "        os.chdir(f\"{home_dir}/results/weight_{weight}kg\")\n",
    "        for pmax in pmax_values:\n",
    "            print(f\"\\nRunning simulation for weight: {weight}kg and pmax_artemether: {pmax}\\n\")\n",
    "            efficacy, df_weight, pmax_artemether, failed_treatment_count = run_single_weight_simulation(n_patients, pmax, weight)\n",
    "            # Save the DataFrame to a pickle file\n",
    "            df_weight.to_pickle(f\"df_weight_{weight}kg_pmax{pmax_artemether}_{file_suffix}.pyobj\")\n",
    "            # Save the DataFrame to a CSV file\n",
    "            df_weight.to_csv(f\"df_weight_{weight}kg_pmax{pmax_artemether}_{file_suffix}.csv\", index=False)\n",
    "            print(f\"\\nThe failed treatment count for weight {weight}kg and pmax_artemether {pmax_artemether} is:\", failed_treatment_count)\n",
    "            print(f\"\\nThe percentage efficacy for weight {weight}kg and pmax_artemether {pmax_artemether} is:\", efficacy, \"\\n\")"
   ]
  },
  {
   "cell_type": "code",
   "execution_count": 150,
   "id": "d6014b83",
   "metadata": {},
   "outputs": [
    {
     "data": {
      "text/plain": [
       "[0.99999999984,\n",
       " 0.999999993,\n",
       " 0.9999992,\n",
       " 0.9999984,\n",
       " 0.999982,\n",
       " 0.99997,\n",
       " 0.99992,\n",
       " 0.99984,\n",
       " 0.99975,\n",
       " 0.99975,\n",
       " 0.99973,\n",
       " 0.99972,\n",
       " 0.9997,\n",
       " 0.99962,\n",
       " 0.99962,\n",
       " 0.9996,\n",
       " 0.99959,\n",
       " 0.99955,\n",
       " 0.9996]"
      ]
     },
     "execution_count": 150,
     "metadata": {},
     "output_type": "execute_result"
    }
   ],
   "source": [
    "pmax_values_final.append(0.9996)\n",
    "pmax_values_final"
   ]
  },
  {
   "cell_type": "code",
   "execution_count": 152,
   "id": "fb9c2a3d",
   "metadata": {},
   "outputs": [
    {
     "name": "stdout",
     "output_type": "stream",
     "text": [
      "\n",
      "Running simulation for weight: 100kg and pmax_artemether: 0.9994\n",
      "\n",
      "\n",
      "Today's date:  2025-07-24 \n",
      "\n",
      "Length of simulation:  0:00:12.647409 \n",
      "\n",
      "\n",
      "The failed treatment count for weight 100kg and pmax_artemether 0.9994 is: 38\n",
      "\n",
      "The percentage efficacy for weight 100kg and pmax_artemether 0.9994 is: 92.38476953907815 \n",
      "\n"
     ]
    }
   ],
   "source": [
    "n_patients = 500  # Number of patients to simulate\n",
    "pmax_values = [0.9994]\n",
    "weight_values = [100]\n",
    "\n",
    "for weight in weight_values:\n",
    "        # Create a directory for the results if it doesn't exist\n",
    "        os.makedirs(f\"{home_dir}/results/weight_{weight}kg\", exist_ok=True)\n",
    "        # Change the current working directory to the results directory\n",
    "        os.chdir(f\"{home_dir}/results/weight_{weight}kg\")\n",
    "        for pmax in pmax_values:\n",
    "            print(f\"\\nRunning simulation for weight: {weight}kg and pmax_artemether: {pmax}\\n\")\n",
    "            efficacy, df_weight, pmax_artemether, failed_treatment_count = run_single_weight_simulation(n_patients, pmax, weight)\n",
    "            # Save the DataFrame to a pickle file\n",
    "            df_weight.to_pickle(f\"df_weight_{weight}kg_pmax{pmax_artemether}_{file_suffix}.pyobj\")\n",
    "            # Save the DataFrame to a CSV file\n",
    "            df_weight.to_csv(f\"df_weight_{weight}kg_pmax{pmax_artemether}_{file_suffix}.csv\", index=False)\n",
    "            print(f\"\\nThe failed treatment count for weight {weight}kg and pmax_artemether {pmax_artemether} is:\", failed_treatment_count)\n",
    "            print(f\"\\nThe percentage efficacy for weight {weight}kg and pmax_artemether {pmax_artemether} is:\", efficacy, \"\\n\")"
   ]
  },
  {
   "cell_type": "code",
   "execution_count": 153,
   "id": "d82d5c1d",
   "metadata": {},
   "outputs": [
    {
     "data": {
      "text/plain": [
       "[0.99999999984,\n",
       " 0.999999993,\n",
       " 0.9999992,\n",
       " 0.9999984,\n",
       " 0.999982,\n",
       " 0.99997,\n",
       " 0.99992,\n",
       " 0.99984,\n",
       " 0.99975,\n",
       " 0.99975,\n",
       " 0.99973,\n",
       " 0.99972,\n",
       " 0.9997,\n",
       " 0.99962,\n",
       " 0.99962,\n",
       " 0.9996,\n",
       " 0.99959,\n",
       " 0.99955,\n",
       " 0.9996,\n",
       " 0.9994]"
      ]
     },
     "execution_count": 153,
     "metadata": {},
     "output_type": "execute_result"
    }
   ],
   "source": [
    "pmax_values_final.append(0.9994)\n",
    "pmax_values_final"
   ]
  },
  {
   "cell_type": "code",
   "execution_count": 156,
   "id": "1f759bc0",
   "metadata": {},
   "outputs": [],
   "source": [
    "file_suffix = \"AL_pfcrtK76_92.5\""
   ]
  },
  {
   "cell_type": "code",
   "execution_count": 159,
   "id": "6f4094d4",
   "metadata": {},
   "outputs": [
    {
     "name": "stdout",
     "output_type": "stream",
     "text": [
      "\n",
      "Efficacy Results:\n",
      "    Weight  Pmax Artemether  Failed Treatment Count   Efficacy\n",
      "0        5         1.000000                      36  92.785571\n",
      "1       10         1.000000                      38  92.384770\n",
      "2       15         0.999999                      37  92.585170\n",
      "3       20         0.999998                      35  92.985972\n",
      "4       25         0.999982                      34  93.186373\n",
      "5       30         0.999970                      39  92.184369\n",
      "6       35         0.999920                      35  92.985972\n",
      "7       40         0.999840                      38  92.384770\n",
      "8       45         0.999750                      39  92.184369\n",
      "9       50         0.999750                      39  92.184369\n",
      "10      55         0.999730                      37  92.585170\n",
      "11      60         0.999720                      39  92.184369\n",
      "12      65         0.999700                      35  92.985972\n",
      "13      70         0.999620                      39  92.184369\n",
      "14      75         0.999620                      35  92.985972\n",
      "15      80         0.999600                      37  92.585170\n",
      "16      85         0.999590                      39  92.184369\n",
      "17      90         0.999550                      41  91.783567\n",
      "18      95         0.999600                      36  92.785571\n",
      "19     100         0.999400                      38  92.384770\n"
     ]
    }
   ],
   "source": [
    "# Load the dataframes\n",
    "# Calculate the efficacy for each weight group\n",
    "os.chdir(home_dir)\n",
    "# Define the weight values to use\n",
    "weight_values = np.arange(5,105,5)\n",
    "pmax_values = pmax_values_final\n",
    "\n",
    "#weight_values = [54]\n",
    "n_patients = 500  # Number of patients to simulate\n",
    "\n",
    "\n",
    "failed_treatment_count = []\n",
    "efficacy = []\n",
    "pmax_artemether_values = []\n",
    "weight_values_expanded = []\n",
    "df_weight_compiled = []\n",
    "\n",
    "for weight, pmax_artemether in zip(weight_values, pmax_values):\n",
    "        # Load the dataframe\n",
    "        df_weight = pd.read_pickle(f\"{home_dir}/results/weight_{weight}kg/df_weight_{weight}kg_pmax{pmax_artemether}_{file_suffix}.pyobj\")\n",
    "        # Calculate the efficacy\n",
    "        failed_treatment_count.append(df_weight[(df_weight['PARASITEDENSITY'] >= 10) & (df_weight['HOUR'] == 671.0)].shape[0])\n",
    "        total_patients = df_weight['PID'].nunique()\n",
    "        efficacy.append((1 - (failed_treatment_count[-1] / total_patients)) * 100 if total_patients > 0 else np.nan)\n",
    "        pmax_artemether_values.append(pmax_artemether)\n",
    "        weight_values_expanded.append(weight)\n",
    "        # Append the dataframe to the list\n",
    "        df_weight_compiled.append(df_weight)\n",
    "\n",
    "# Create a DataFrame to store the results\n",
    "results_df = pd.DataFrame({\n",
    "    'Weight': weight_values_expanded,\n",
    "    'Pmax Artemether': pmax_artemether_values,\n",
    "    'Failed Treatment Count': failed_treatment_count,\n",
    "    'Efficacy': efficacy\n",
    "})\n",
    "\n",
    "# Save the results to a CSV file\n",
    "results_df.to_csv(f\"efficacy_results_compiled_{file_suffix}.csv\", index=False)\n",
    "# Save the results to a pickle file\n",
    "results_df.to_pickle(f\"efficacy_results_compiled_{file_suffix}.pyobj\")\n",
    "# Print the results\n",
    "print(\"\\nEfficacy Results:\")\n",
    "print(results_df)\n",
    " "
   ]
  },
  {
   "cell_type": "code",
   "execution_count": null,
   "id": "1ba81cff",
   "metadata": {},
   "outputs": [
    {
     "data": {
      "image/png": "[encoded data removed]",
      "text/plain": [
       "<Figure size 2000x500 with 1 Axes>"
      ]
     },
     "metadata": {},
     "output_type": "display_data"
    }
   ],
   "source": [
    "\n",
    "os.chdir(home_dir)\n",
    "# efficacy_01 = results_df[(results_df['Efficacy'] >= 91.0) & (results_df['Efficacy'] <= 98.5)]  # Filter for efficacies around 96.5% \n",
    "plt.figure(figsize=(20, 5))\n",
    "weight_values = results_df['Weight'].unique()  # Get unique weight values\n",
    "colors = plt.get_cmap('tab20').colors\n",
    "\n",
    "plt.plot(results_df['Weight'], results_df['Pmax Artemether'], marker='o', linestyle='-', color='black', alpha = 0.75)  # Connect points with a line\n",
    "\n",
    "for x,y in zip(results_df['Weight'], results_df['Pmax Artemether']):\n",
    "    label_efficacy = f\"{results_df[results_df['Weight'] == x]['Efficacy'].iloc[0].round(2)}%\"\n",
    "    #label_pmax = f\"{results_df[results_df['Weight'] == x]['Pmax Artemether'].iloc[0].round(8)}\"\n",
    "    #label = f\"{label_efficacy}\\n({label_pmax})\"\n",
    "    plt.annotate(label_efficacy, xy=(x, y), textcoords=\"offset points\", xytext=(5,-15), ha='center', fontsize=10)\n",
    "\n",
    "plt.xlim(min(results_df['Weight']-5), 103)  # Set x-axis limits\n",
    "plt.xticks(np.arange(0,101,5))  # Set x-ticks to weight values\n",
    "plt.xlabel(f'Weight (kg)') # Simplified xlabel\n",
    "plt.ylabel('Pmax Artemether')\n",
    "plt.title(f\"Pmax Artemether across Weights for pfcrtK76 Efficacy: 92.5% \\n Treatment: AL, n = {n_patients} patients\")\n",
    "#plt.grid(True)\n",
    "\n",
    "#plt.xticks(rotation=45, ha='right') # Rotates labels for better readability\n",
    "\n",
    "# Set y-axis limits\n",
    "y_tick_positions = np.linspace(min(results_df['Pmax Artemether']), max(results_df['Pmax Artemether']), 50)\n",
    "y_tick_positions = y_tick_positions[0:-1]\n",
    "\n",
    "plt.ylim(0.9993, 1.00001)  # Set y-axis limits\n",
    "plt.yticks(np.arange(0.9993, 1.00001, 0.0001))  # Set y-ticks to specific values\n",
    "\n",
    "# Adjust layout to prevent labels from being cut off\n",
    "plt.tight_layout(rect=[0, 0, 0.85, 1]) # Adjust the rect to make space for the legend\n",
    "\n",
    "plt.savefig(f\"pkpd_{file_suffix}_02.png\")\n",
    "plt.show()"
   ]
  },
  {
   "cell_type": "code",
   "execution_count": 166,
   "id": "2e9838ea",
   "metadata": {},
   "outputs": [
    {
     "data": {
      "application/vnd.microsoft.datawrangler.viewer.v0+json": {
       "columns": [
        {
         "name": "index",
         "rawType": "int64",
         "type": "integer"
        },
        {
         "name": "Weight",
         "rawType": "int64",
         "type": "integer"
        },
        {
         "name": "Pmax Artemether",
         "rawType": "float64",
         "type": "float"
        },
        {
         "name": "Failed Treatment Count",
         "rawType": "int64",
         "type": "integer"
        },
        {
         "name": "Efficacy",
         "rawType": "float64",
         "type": "float"
        }
       ],
       "ref": "c642a07e-5fb1-419c-a41a-dc80b746f062",
       "rows": [
        [
         "0",
         "5",
         "0.99999999984",
         "36",
         "92.78557114228457"
        ],
        [
         "1",
         "10",
         "0.999999993",
         "38",
         "92.38476953907816"
        ],
        [
         "2",
         "15",
         "0.9999992",
         "37",
         "92.58517034068137"
        ],
        [
         "3",
         "20",
         "0.9999984",
         "35",
         "92.98597194388778"
        ],
        [
         "4",
         "25",
         "0.999982",
         "34",
         "93.18637274549098"
        ],
        [
         "5",
         "30",
         "0.99997",
         "39",
         "92.18436873747495"
        ]
       ],
       "shape": {
        "columns": 4,
        "rows": 6
       }
      },
      "text/html": [
       "<div>\n",
       "<style scoped>\n",
       "    .dataframe tbody tr th:only-of-type {\n",
       "        vertical-align: middle;\n",
       "    }\n",
       "\n",
       "    .dataframe tbody tr th {\n",
       "        vertical-align: top;\n",
       "    }\n",
       "\n",
       "    .dataframe thead th {\n",
       "        text-align: right;\n",
       "    }\n",
       "</style>\n",
       "<table border=\"1\" class=\"dataframe\">\n",
       "  <thead>\n",
       "    <tr style=\"text-align: right;\">\n",
       "      <th></th>\n",
       "      <th>Weight</th>\n",
       "      <th>Pmax Artemether</th>\n",
       "      <th>Failed Treatment Count</th>\n",
       "      <th>Efficacy</th>\n",
       "    </tr>\n",
       "  </thead>\n",
       "  <tbody>\n",
       "    <tr>\n",
       "      <th>0</th>\n",
       "      <td>5</td>\n",
       "      <td>1.000000</td>\n",
       "      <td>36</td>\n",
       "      <td>92.785571</td>\n",
       "    </tr>\n",
       "    <tr>\n",
       "      <th>1</th>\n",
       "      <td>10</td>\n",
       "      <td>1.000000</td>\n",
       "      <td>38</td>\n",
       "      <td>92.384770</td>\n",
       "    </tr>\n",
       "    <tr>\n",
       "      <th>2</th>\n",
       "      <td>15</td>\n",
       "      <td>0.999999</td>\n",
       "      <td>37</td>\n",
       "      <td>92.585170</td>\n",
       "    </tr>\n",
       "    <tr>\n",
       "      <th>3</th>\n",
       "      <td>20</td>\n",
       "      <td>0.999998</td>\n",
       "      <td>35</td>\n",
       "      <td>92.985972</td>\n",
       "    </tr>\n",
       "    <tr>\n",
       "      <th>4</th>\n",
       "      <td>25</td>\n",
       "      <td>0.999982</td>\n",
       "      <td>34</td>\n",
       "      <td>93.186373</td>\n",
       "    </tr>\n",
       "    <tr>\n",
       "      <th>5</th>\n",
       "      <td>30</td>\n",
       "      <td>0.999970</td>\n",
       "      <td>39</td>\n",
       "      <td>92.184369</td>\n",
       "    </tr>\n",
       "  </tbody>\n",
       "</table>\n",
       "</div>"
      ],
      "text/plain": [
       "   Weight  Pmax Artemether  Failed Treatment Count   Efficacy\n",
       "0       5         1.000000                      36  92.785571\n",
       "1      10         1.000000                      38  92.384770\n",
       "2      15         0.999999                      37  92.585170\n",
       "3      20         0.999998                      35  92.985972\n",
       "4      25         0.999982                      34  93.186373\n",
       "5      30         0.999970                      39  92.184369"
      ]
     },
     "execution_count": 166,
     "metadata": {},
     "output_type": "execute_result"
    }
   ],
   "source": [
    "children_weight = results_df[results_df['Weight'] <= 30]\n",
    "children_weight"
   ]
  },
  {
   "cell_type": "code",
   "execution_count": null,
   "id": "2ae864da",
   "metadata": {},
   "outputs": [
    {
     "data": {
      "image/png": "[encoded data removed]",
      "text/plain": [
       "<Figure size 1000x700 with 1 Axes>"
      ]
     },
     "metadata": {},
     "output_type": "display_data"
    }
   ],
   "source": [
    "\n",
    "plt.figure(figsize=(10, 7))\n",
    "\n",
    "weight_values = children_weight['Weight'].unique()  # Get unique weight values\n",
    "colors = plt.get_cmap('tab20').colors\n",
    "\n",
    "plt.plot(children_weight['Weight'], children_weight['Pmax Artemether'], marker='o', linestyle='-', color='black', alpha = 0.75)  # Connect points with a line\n",
    "\n",
    "for x,y in zip(children_weight['Weight'], children_weight['Pmax Artemether']):\n",
    "    label_efficacy = f\"{children_weight[children_weight['Weight'] == x]['Efficacy'].iloc[0].round(2)}%\"\n",
    "    label_pmax = f\"{children_weight[children_weight['Weight'] == x]['Pmax Artemether'].iloc[0]}\"\n",
    "    label = f\"{label_efficacy}\\n({label_pmax})\"\n",
    "    plt.annotate(label , xy=(x, y), textcoords=\"offset points\", xytext=(-25,-25), ha='center', fontsize=10)\n",
    "\n",
    "\n",
    "plt.xlim(0, 31)  # Set x-axis limits\n",
    "plt.xticks(np.arange(0,31,5))  # Set x-ticks to weight values\n",
    "plt.xlabel(f'Weight (kg)') # Simplified xlabel\n",
    "plt.ylabel('Pmax Artemether')\n",
    "plt.title(f\"Pmax Artemether across Weights for pfcrtK76 Efficacy: 92.5%\\n Treatment: AL, n = {n_patients} patients\")\n",
    "#plt.grid(True)\n",
    "\n",
    "#plt.xticks(rotation=45, ha='right') # Rotates labels for better readability\n",
    "\n",
    "# Set y-axis limits\n",
    "# y_tick_positions = np.linspace(min(children_weight['Pmax Artemether']), max(children_weight['Pmax Artemether']), 50)\n",
    "# y_tick_positions = y_tick_positions[0:-1]\n",
    "\n",
    "plt.ylim(0.99996, 1.00001)  # Set y-axis limits\n",
    "plt.yticks(np.arange(0.99996, 1.00001, 0.00001))  # Set y-ticks to specific values\n",
    "\n",
    "# Adjust layout to prevent labels from being cut off\n",
    "plt.tight_layout(rect=[0, 0, 0.85, 1]) # Adjust the rect to make space for the legend\n",
    "\n",
    "plt.savefig(f\"pkpd_{file_suffix}_03.png\")\n",
    "plt.show()"
   ]
  },
  {
   "cell_type": "code",
   "execution_count": 192,
   "id": "9908525a",
   "metadata": {},
   "outputs": [
    {
     "data": {
      "image/png": "[encoded data removed]",
      "text/plain": [
       "<Figure size 2000x500 with 1 Axes>"
      ]
     },
     "metadata": {},
     "output_type": "display_data"
    }
   ],
   "source": [
    "\n",
    "results_df['Log_Pmax Artemether'] = np.log(results_df['Pmax Artemether'])  # Add a new column for log-transformed Pmax Artemether\n",
    "results_df['Log_Pmax Artemether_Transformed'] = 1- results_df['Log_Pmax Artemether']  # Transform the log values for better visualization\n",
    "#efficacy_01 = results_df[(results_df['Efficacy'] >= 91.0) & (results_df['Efficacy'] <= 98.5)]  # Filter for efficacies around 96.5% \n",
    "plt.figure(figsize=(20, 5))\n",
    "weight_values = results_df['Weight'].unique()  # Get unique weight values\n",
    "colors = plt.get_cmap('tab20').colors\n",
    "\n",
    "plt.plot(results_df['Weight'], results_df['Log_Pmax Artemether_Transformed'], marker='o', linestyle='-', color='black', alpha = 0.75)  # Connect points with a line\n",
    "\n",
    "for x,y in zip(results_df['Weight'], results_df['Log_Pmax Artemether_Transformed']):\n",
    "    label_efficacy = f\"{results_df[results_df['Weight'] == x]['Efficacy'].iloc[0].round(2)}%\"\n",
    "    #label_pmax = f\"{results_df[results_df['Weight'] == x]['Pmax Artemether'].iloc[0].round(8)}\"\n",
    "    #label = f\"{label_efficacy}\\n({label_pmax})\"\n",
    "    plt.annotate(label_efficacy, xy=(x, y), textcoords=\"offset points\", xytext=(10,-20), ha='center', fontsize=10)\n",
    "\n",
    "plt.xlim(min(results_df['Weight']-5), 103)  # Set x-axis limits\n",
    "plt.xticks(np.arange(0,101,5))  # Set x-ticks to weight values\n",
    "plt.xlabel(f'Weight (kg)') # Simplified xlabel\n",
    "plt.ylabel('(1-Log Pmax Artemether)')\n",
    "plt.title(f\"Log Pmax Artemether across Weights for pfcrtK76 Efficacy: 92.5% \\n Treatment: AL, n = {n_patients} patients\")\n",
    "#plt.grid(True)\n",
    "\n",
    "#plt.xticks(rotation=45, ha='right') # Rotates labels for better readability\n",
    "\n",
    "# Set y-axis limits\n",
    "y_tick_positions = np.linspace(min(results_df['Log_Pmax Artemether_Transformed']), max(results_df['Log_Pmax Artemether_Transformed']), 50)\n",
    "y_tick_positions = y_tick_positions[0:-1]\n",
    "\n",
    "plt.ylim(1-0.00008, 1.0007)  # Set y-axis limits\n",
    "# plt.yticks(np.arange(0.99970, 1.00001, 0.00005))  # Set y-ticks to specific values\n",
    "\n",
    "# Adjust layout to prevent labels from being cut off\n",
    "plt.tight_layout(rect=[0, 0, 0.85, 1]) # Adjust the rect to make space for the legend\n",
    "\n",
    "plt.savefig(f\"pkpd_{file_suffix}_log_pmax_transformed.png\")\n",
    "plt.show()"
   ]
  },
  {
   "cell_type": "code",
   "execution_count": 193,
   "id": "9b52dec5",
   "metadata": {},
   "outputs": [
    {
     "data": {
      "application/vnd.microsoft.datawrangler.viewer.v0+json": {
       "columns": [
        {
         "name": "index",
         "rawType": "int64",
         "type": "integer"
        },
        {
         "name": "Weight",
         "rawType": "int64",
         "type": "integer"
        },
        {
         "name": "Pmax Artemether",
         "rawType": "float64",
         "type": "float"
        },
        {
         "name": "Failed Treatment Count",
         "rawType": "int64",
         "type": "integer"
        },
        {
         "name": "Efficacy",
         "rawType": "float64",
         "type": "float"
        },
        {
         "name": "Log_Pmax Artemether",
         "rawType": "float64",
         "type": "float"
        },
        {
         "name": "Log_Pmax Artemether_Transformed",
         "rawType": "float64",
         "type": "float"
        }
       ],
       "ref": "a8c5bae8-aa2d-4c06-88d3-293629c55510",
       "rows": [
        [
         "0",
         "5",
         "0.99999999984",
         "36",
         "92.78557114228457",
         "-1.6000001325125936e-10",
         "1.00000000016"
        ],
        [
         "1",
         "10",
         "0.999999993",
         "38",
         "92.38476953907816",
         "-7.000000048571085e-09",
         "1.0000000070000001"
        ],
        [
         "2",
         "15",
         "0.9999992",
         "37",
         "92.58517034068137",
         "-8.000003200231752e-07",
         "1.00000080000032"
        ],
        [
         "3",
         "20",
         "0.9999984",
         "35",
         "92.98597194388778",
         "-1.6000012800473745e-06",
         "1.0000016000012801"
        ],
        [
         "4",
         "25",
         "0.999982",
         "34",
         "93.18637274549098",
         "-1.8000162001906516e-05",
         "1.0000180001620018"
        ],
        [
         "5",
         "30",
         "0.99997",
         "39",
         "92.18436873747495",
         "-3.0000450008974692e-05",
         "1.000030000450009"
        ]
       ],
       "shape": {
        "columns": 6,
        "rows": 6
       }
      },
      "text/html": [
       "<div>\n",
       "<style scoped>\n",
       "    .dataframe tbody tr th:only-of-type {\n",
       "        vertical-align: middle;\n",
       "    }\n",
       "\n",
       "    .dataframe tbody tr th {\n",
       "        vertical-align: top;\n",
       "    }\n",
       "\n",
       "    .dataframe thead th {\n",
       "        text-align: right;\n",
       "    }\n",
       "</style>\n",
       "<table border=\"1\" class=\"dataframe\">\n",
       "  <thead>\n",
       "    <tr style=\"text-align: right;\">\n",
       "      <th></th>\n",
       "      <th>Weight</th>\n",
       "      <th>Pmax Artemether</th>\n",
       "      <th>Failed Treatment Count</th>\n",
       "      <th>Efficacy</th>\n",
       "      <th>Log_Pmax Artemether</th>\n",
       "      <th>Log_Pmax Artemether_Transformed</th>\n",
       "    </tr>\n",
       "  </thead>\n",
       "  <tbody>\n",
       "    <tr>\n",
       "      <th>0</th>\n",
       "      <td>5</td>\n",
       "      <td>1.000000</td>\n",
       "      <td>36</td>\n",
       "      <td>92.785571</td>\n",
       "      <td>-1.600000e-10</td>\n",
       "      <td>1.000000</td>\n",
       "    </tr>\n",
       "    <tr>\n",
       "      <th>1</th>\n",
       "      <td>10</td>\n",
       "      <td>1.000000</td>\n",
       "      <td>38</td>\n",
       "      <td>92.384770</td>\n",
       "      <td>-7.000000e-09</td>\n",
       "      <td>1.000000</td>\n",
       "    </tr>\n",
       "    <tr>\n",
       "      <th>2</th>\n",
       "      <td>15</td>\n",
       "      <td>0.999999</td>\n",
       "      <td>37</td>\n",
       "      <td>92.585170</td>\n",
       "      <td>-8.000003e-07</td>\n",
       "      <td>1.000001</td>\n",
       "    </tr>\n",
       "    <tr>\n",
       "      <th>3</th>\n",
       "      <td>20</td>\n",
       "      <td>0.999998</td>\n",
       "      <td>35</td>\n",
       "      <td>92.985972</td>\n",
       "      <td>-1.600001e-06</td>\n",
       "      <td>1.000002</td>\n",
       "    </tr>\n",
       "    <tr>\n",
       "      <th>4</th>\n",
       "      <td>25</td>\n",
       "      <td>0.999982</td>\n",
       "      <td>34</td>\n",
       "      <td>93.186373</td>\n",
       "      <td>-1.800016e-05</td>\n",
       "      <td>1.000018</td>\n",
       "    </tr>\n",
       "    <tr>\n",
       "      <th>5</th>\n",
       "      <td>30</td>\n",
       "      <td>0.999970</td>\n",
       "      <td>39</td>\n",
       "      <td>92.184369</td>\n",
       "      <td>-3.000045e-05</td>\n",
       "      <td>1.000030</td>\n",
       "    </tr>\n",
       "  </tbody>\n",
       "</table>\n",
       "</div>"
      ],
      "text/plain": [
       "   Weight  Pmax Artemether  Failed Treatment Count   Efficacy  \\\n",
       "0       5         1.000000                      36  92.785571   \n",
       "1      10         1.000000                      38  92.384770   \n",
       "2      15         0.999999                      37  92.585170   \n",
       "3      20         0.999998                      35  92.985972   \n",
       "4      25         0.999982                      34  93.186373   \n",
       "5      30         0.999970                      39  92.184369   \n",
       "\n",
       "   Log_Pmax Artemether  Log_Pmax Artemether_Transformed  \n",
       "0        -1.600000e-10                         1.000000  \n",
       "1        -7.000000e-09                         1.000000  \n",
       "2        -8.000003e-07                         1.000001  \n",
       "3        -1.600001e-06                         1.000002  \n",
       "4        -1.800016e-05                         1.000018  \n",
       "5        -3.000045e-05                         1.000030  "
      ]
     },
     "execution_count": 193,
     "metadata": {},
     "output_type": "execute_result"
    }
   ],
   "source": [
    "children_weight = results_df[results_df['Weight'] <= 30]\n",
    "children_weight"
   ]
  },
  {
   "cell_type": "code",
   "execution_count": 203,
   "id": "f1e78ff5",
   "metadata": {},
   "outputs": [
    {
     "data": {
      "image/png": "[encoded data removed]",
      "text/plain": [
       "<Figure size 1000x700 with 1 Axes>"
      ]
     },
     "metadata": {},
     "output_type": "display_data"
    }
   ],
   "source": [
    "\n",
    "plt.figure(figsize=(10, 7))\n",
    "\n",
    "weight_values = children_weight['Weight'].unique()  # Get unique weight values\n",
    "colors = plt.get_cmap('tab20').colors\n",
    "\n",
    "plt.plot(children_weight['Weight'], children_weight['Log_Pmax Artemether_Transformed'], marker='o', linestyle='-', color='black', alpha = 0.75)  # Connect points with a line\n",
    "\n",
    "for x,y in zip(children_weight['Weight'], children_weight['Log_Pmax Artemether_Transformed']):\n",
    "    label_efficacy = f\"{children_weight[children_weight['Weight'] == x]['Efficacy'].iloc[0].round(2)}%\"\n",
    "    label_pmax = f\"{children_weight[children_weight['Weight'] == x]['Log_Pmax Artemether_Transformed'].iloc[0].round(8)}\"\n",
    "    label = f\"{label_efficacy}\\n({label_pmax})\"\n",
    "    plt.annotate(label , xy=(x, y), textcoords=\"offset points\", xytext=(-30,3), ha='center', fontsize=10)\n",
    "\n",
    "\n",
    "plt.xlim(0, 31)  # Set x-axis limits\n",
    "plt.xticks(np.arange(0,31,5))  # Set x-ticks to weight values\n",
    "plt.xlabel(f'Weight (kg)') # Simplified xlabel\n",
    "plt.ylabel('(1-Log Pmax Artemether)')\n",
    "plt.title(f\"Log Pmax Artemether for Weight <= 30Kg for pfcrtK76 Efficacy: 92.5% \\n Treatment: AL, n = {n_patients} patients\")\n",
    "#plt.grid(True)\n",
    "\n",
    "#plt.xticks(rotation=45, ha='right') # Rotates labels for better readability\n",
    "\n",
    "# Set y-axis limits\n",
    "# y_tick_positions = np.linspace(min(children_weight['Pmax Artemether']), max(children_weight['Pmax Artemether']), 50)\n",
    "# y_tick_positions = y_tick_positions[0:-1]\n",
    "\n",
    "plt.ylim(min(children_weight['Log_Pmax Artemether_Transformed'])-0.000001, max(children_weight['Log_Pmax Artemether_Transformed'])+0.000002)  # Set y-axis limits\n",
    "# plt.yticks(np.arange(0.99970, 1.00001, 0.00005))  # Set y-ticks to specific values\n",
    "\n",
    "# Adjust layout to prevent labels from being cut off\n",
    "plt.tight_layout(rect=[0, 0, 0.85, 1]) # Adjust the rect to make space for the legend\n",
    "\n",
    "plt.savefig(f\"pkpd_{file_suffix}_log_pmax_transformed_children.png\")\n",
    "plt.show()"
   ]
  }
 ],
 "metadata": {
  "kernelspec": {
   "display_name": "pkpd_AL_env",
   "language": "python",
   "name": "python3"
  },
  "language_info": {
   "codemirror_mode": {
    "name": "ipython",
    "version": 3
   },
   "file_extension": ".py",
   "mimetype": "text/x-python",
   "name": "python",
   "nbconvert_exporter": "python",
   "pygments_lexer": "ipython3",
   "version": "3.13.2"
  }
 },
 "nbformat": 4,
 "nbformat_minor": 5
}
