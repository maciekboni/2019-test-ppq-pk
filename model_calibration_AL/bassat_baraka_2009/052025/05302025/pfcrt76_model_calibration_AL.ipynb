{
 "cells": [
  {
   "cell_type": "markdown",
   "id": "55c39207",
   "metadata": {},
   "source": [
    "# PK/PD AL Model Calibration\n",
    "\n",
    "## Locus: pfcrt 76\n",
    "## Allele: K"
   ]
  },
  {
   "cell_type": "markdown",
   "id": "9c359965",
   "metadata": {},
   "source": [
    "<br>\n",
    "\n",
    "### Study 1: Bassat et al., 2009 and Baraka et al., 2014"
   ]
  },
  {
   "cell_type": "markdown",
   "id": "3f4645a1",
   "metadata": {},
   "source": []
  }
 ],
 "metadata": {
  "kernelspec": {
   "display_name": "pkpd_AL_env",
   "language": "python",
   "name": "python3"
  },
  "language_info": {
   "name": "python",
   "version": "3.13.2"
  }
 },
 "nbformat": 4,
 "nbformat_minor": 5
}
